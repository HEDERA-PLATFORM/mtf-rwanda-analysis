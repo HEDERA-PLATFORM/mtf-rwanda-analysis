{
 "cells": [
  {
   "cell_type": "markdown",
   "metadata": {},
   "source": [
    "# Evaluation of Multi-Tier Framework for measuring access to cooking solutions"
   ]
  },
  {
   "cell_type": "markdown",
   "metadata": {},
   "source": [
    "### Importing the useful libraries"
   ]
  },
  {
   "cell_type": "code",
   "execution_count": 14,
   "metadata": {},
   "outputs": [],
   "source": [
    "import numpy as np\n",
    "import pandas as pd\n",
    "import matplotlib.pyplot as plt\n",
    "from matplotlib.pyplot import pie, axis, show\n",
    "import seaborn as sns\n",
    "sns.set_style('darkgrid')\n",
    "import warnings\n",
    "warnings.filterwarnings(\"ignore\")\n",
    "import math\n",
    "import plotly.express as px"
   ]
  },
  {
   "cell_type": "markdown",
   "metadata": {},
   "source": [
    "### Importing the dataset"
   ]
  },
  {
   "cell_type": "code",
   "execution_count": 26,
   "metadata": {
    "scrolled": true
   },
   "outputs": [],
   "source": [
    "df = pd.read_excel(\"dataset.xlsx\", sheet_name=\"main_dataset\")\n",
    "section_I = pd.read_excel(\"dataset.xlsx\", sheet_name=\"I\")"
   ]
  },
  {
   "cell_type": "markdown",
   "metadata": {},
   "source": [
    "### NOTE"
   ]
  },
  {
   "cell_type": "markdown",
   "metadata": {},
   "source": [
    "The MTF for access to modern energy cooking solutions has been simplified for four of the six attributes (Cooking Exposure, Cookstove Efficiency, Fuel Availability, and Safety of Primary Cookstove) because threshold values for each tier have not been approved by a competent agency and there is currently no system of certification and labelling for cooking solutions in place that could enable easy identification of cooking solutions during household surveys."
   ]
  },
  {
   "cell_type": "markdown",
   "metadata": {},
   "source": [
    "### Analysing different Attributes\n",
    "\n",
    "Attributes which are analysed for MTF_Rwanda_Questionnaire_Household: \n",
    "\n",
    "1. **Cooking Exposure**: How is the user’s respiratory health affected? This is based on personal\n",
    "exposure to pollutants from cooking activities, which depends on stove emissions,\n",
    "ventilation structure (which includes cooking location and kitchen volume11), and contact\n",
    "time (time spent in the cooking environment). \n",
    "2. Cookstove Efficiency\n",
    "3. Convenience\n",
    "4. Safety of Primary Cookstove\n",
    "5. Affordability \n",
    "6. Fuel Availability"
   ]
  },
  {
   "cell_type": "markdown",
   "metadata": {},
   "source": [
    "## Typologies of cookstoves\n",
    "Cookstoves in Rwanda were classified into four categories (see annex 2 of the report for detailed information):\n",
    "\n",
    "- Three-stone stove. A pot balanced on three stones over an open fire. Fuel use and emissions are high, and\n",
    "thermal efficiency and safety are low. Three-stone stoves usually use firewood, but other solid fuels may\n",
    "also be used.\n",
    "- Traditional biomass stove. Locally produced using mud, metal, or other low-cost materials and following\n",
    "cultural practices. Traditional biomass stoves use biomass fuels. In Rwanda six types of stoves were identified\n",
    "as traditional: round mud stove, rocket stove, gisafuriya, double and triple movable metal charcoal stove, all\n",
    "metal stove, and Muyaga.\n",
    "- Improved biomass stove. Uses newer stove technology to improve efficiency, cleanliness, and safety. Improved\n",
    "biomass stoves use less energy to deliver a given amount of usable heat than three-stone and traditional\n",
    "stoves do, and they may also produce less indoor and overall air pollution. Thus, improved biomass stoves\n",
    "may enable cleaner and more efficient delivery of traditional fuels, though they may not meet emissions or\n",
    "efficiency standards. Their performance cannot be visually identified, and thus they must be tested. In Rwanda\n",
    "nine types of improved stoves were identified: Darfour 1, Darfour 2, canarumwe, canamake ivuguruye, canamake\n",
    "itavuguruye, fixed canamake itavuguruye, double and triple movable (canamake itavuguruye), sawdust/rice\n",
    "husks stove, and Save80.\n",
    "- Clean fuel stove. Uses fuels with very low levels of polluting emissions, such as biogas, LPG/cooking gas, electricity,\n",
    "ethanol, natural gas, and solar. Such fuels often provide high technical performance in emissions and efficiency\n",
    "that is largely “stove independent.” In Rwanda only biogas and LPG/cooking gas are used by households."
   ]
  },
  {
   "cell_type": "markdown",
   "metadata": {},
   "source": [
    "# Attribute: Cooking Exposure"
   ]
  },
  {
   "cell_type": "markdown",
   "metadata": {},
   "source": [
    "Cooking Exposure is determined using different dimensions:\n",
    "\n",
    "- **Emissions**: Depending on fuel\n",
    "- **Ventilation**: In this report ventilation is defined as using a chimney, hood, or other exhaust system while using a stove or having doors or windows in the cooking area\n",
    "- **Contact time**\n",
    "\n",
    "The MTF Cooking Exposure (as for Cookstove Efficiency, Fuel Availability, and Safety of Primary Cookstove) has been simplified in the case of Rwanda because\n",
    "threshold values for each tier have not been approved by a competent agency and there is currently no\n",
    "system of certification and labelling for cooking solutions in place that could enable easy identification\n",
    "of cooking solutions during household surveys.\n",
    "\n",
    "### Estimation\n",
    "\n",
    "(See pag 39 of the report) The analysis for Rwanda uses a simplified approach with proxy indicators because granularity in\n",
    "cookstove classification and lab testing results for most stoves were lacking. This interim approach\n",
    "considers the household’s or user’s perspective of accessing energy services and the exposure of\n",
    "family members, particularly the primary cook, to indoor air pollution. \n",
    "\n",
    "#### Emission\n",
    "To estimate Cooking Exposure, the first step is to determine the tier for emissions for a household\n",
    "based on its primary and secondary stoves. Each stove that the household uses is classified based\n",
    "on a combination of the stove design and the primary fuel used with that stove. This classification is\n",
    "adapted from EnDev’s Cooking Energy System (table 2). For households that use only one stove, the\n",
    "tier for emissions for that stove is used. For households that use more than one stove (or stack their\n",
    "stoves), the emissions of each stove are weighted by the proportion of time spent cooking with it. For\n",
    "the analysis of access to modern energy cooking solutions in Rwanda, households with a three-stone\n",
    "or traditional stove as their primary stove are in Tier 0, households with an improved cookstove (ICS)\n",
    "are Tiers 1–3, and households with a clean fuel stove are in Tier 4 or 5. Households that use a clean\n",
    "fuel stove exclusively are in Tier 5; the tier for households that use a clean fuel stove as their primary\n",
    "stove and engage in stove stacking was based on the proportion of time spent cooking with each stove.\n",
    "\n",
    "\n",
    "![Stove emission tier](./emission_tiers.png)\n",
    "\n",
    "#### Ventilation\n",
    "The second step is to determine the ventilation for the cooking area, categorized by the location of the\n",
    "cooking activity. Ventilation is classified into 3 levels: poor, average, and good.\n",
    "\n",
    "- **Poor** A household that prepares its meals indoors in an area with fewer than two openings\n",
    "(windows and doors) to the outside is classified as having poor ventilation. \n",
    "- **Average** A household that prepares its meals indoors in an area with two or more openings is classified as having average ventilation.\n",
    "- **Good**: A household that cooks its meals outdoors is classified as having good ventilation. Ventilation\n",
    "mitigates the indoor air pollution that a household is exposed to by diluting the concentration of\n",
    "emissions from polluting fuels and expelling the pollutants from the cooking area.\n",
    "\n",
    "Households in Tier 0 for emissions remain in Tier 0 for Cooking Exposure if they have poor or average\n",
    "ventilation but move to Tier 1 if they have good ventilation. Households in Tiers 1–3 for emissions\n",
    "(using a traditional cookstove or ICS) move down one tier for Cooking Exposure if they have bad\n",
    "ventilation, remain in the same tier if they have average ventilation, and move up one tier if they have\n",
    "good ventilation. Households in Tier 4 for emissions remain in Tier 4 for Cooking Exposure if they have\n",
    "poor or average ventilation and move to Tier 5 if they have good ventilation. Households in Tier 5 for\n",
    "emissions remain in Tier 5 regardless of ventilation. \n",
    "\n",
    "\n",
    "\n"
   ]
  },
  {
   "cell_type": "code",
   "execution_count": 70,
   "metadata": {},
   "outputs": [],
   "source": [
    "# primary stove\n",
    "primary_stoves = section_I.loc[section_I['I3']==1]\n",
    "\n",
    "fuels_dict = {\n",
    "    \"1\": \"Kerosene\",\n",
    "    \"2\": \"Coal/lignite\",\n",
    "    \"3\": \"Peat\",\n",
    "    \"4\": \"Charcoal\",\n",
    "    \"5\": \"Wood\",\n",
    "    \"6\": \"Solar\",\n",
    "    \"7\": \"Animal Waste/Dung\",\n",
    "    \"8\": \"Crop Residue/Plant Biomass\",\n",
    "    \"9\": \"Saw Dust\",\n",
    "    \"10\": \"Coal Briquette\",\n",
    "    \"11\": \"Biomass Briquette\",\n",
    "    \"12\": \"Processed biomass (pellets/woodchips)\",\n",
    "    \"13\": \"Ethanol\",\n",
    "    \"14\": \"Biogas\",\n",
    "    \"15\": \"LPG\",\n",
    "    \"16\": \"Piped Natural Gas\",\n",
    "    \"17\": \"Electric\",\n",
    "    \"18\": \"Garbage/plastic\",\n",
    "    \"555\": \"Other\"\n",
    "}\n",
    "\n",
    "\n",
    "# type of stove and fuels\n",
    "stoves = []\n",
    "fuels = []\n",
    "used_fuels = [  1,   3,   4,   5,   6,   7,   8,   9,  12,  14,  15,  17, 555]\n",
    "count_fuels = [0,0,0,0,0,0,0,0,0,0,0,0,0]\n",
    "for i in range(0,len(df)):\n",
    "    filtered = primary_stoves.loc[section_I[\"HHID\"]==df[\"Household Identification\"][i]]\n",
    "    hh_stoves = []\n",
    "    hh_fuels = []\n",
    "    hh_fuel_tier = []\n",
    "    for s in filtered[\"I2\"]:\n",
    "        hh_stoves.append(s)\n",
    "    for s in filtered[\"I18A\"]:\n",
    "        hh_fuels.append(int(s))\n",
    "        \n",
    "        k = used_fuels.index(int(s))\n",
    "        count_fuels[k]+=1\n",
    "        \n",
    "    fuels.append(hh_fuels)\n",
    "    stoves.append(hh_stoves)\n",
    "    \n",
    "    \n",
    "    \n",
    "    \n",
    "fuel_labels = []\n",
    "for u in used_fuels:\n",
    "    fuel_labels.append(fuels_dict[str(u)])\n",
    "    "
   ]
  },
  {
   "cell_type": "code",
   "execution_count": 71,
   "metadata": {
    "scrolled": false
   },
   "outputs": [
    {
     "data": {
      "image/png": "[encoded data removed]",
      "text/plain": [
       "<Figure size 1296x432 with 1 Axes>"
      ]
     },
     "metadata": {},
     "output_type": "display_data"
    }
   ],
   "source": [
    "f,ax=plt.subplots(1,1, figsize=(18,6))\n",
    "ind = np.arange(len(used_fuels))\n",
    "plt.bar(ind,count_fuels,width=1)\n",
    "plt.xticks(ind,labels=fuel_labels,rotation=90)\n",
    "plt.title(\"Primary fuels used\")\n",
    "plt.show()\n",
    "    "
   ]
  },
  {
   "cell_type": "code",
   "execution_count": null,
   "metadata": {},
   "outputs": [],
   "source": []
  },
  {
   "cell_type": "markdown",
   "metadata": {},
   "source": [
    "## Next steps\n",
    "\n",
    "1. Compute tier according to fuel and type (0 to 5)\n",
    "2. Compute ventilation level (poor, average, good)\n",
    "3. Compute Exposure tier"
   ]
  },
  {
   "cell_type": "code",
   "execution_count": null,
   "metadata": {},
   "outputs": [],
   "source": [
    "\n",
    " "
   ]
  },
  {
   "cell_type": "markdown",
   "metadata": {},
   "source": [
    "------------------------------------"
   ]
  },
  {
   "cell_type": "markdown",
   "metadata": {},
   "source": [
    "Cooking exposure is divided into different categories:\n",
    "\n",
    "Pg 39, These categories are approximate. The actual tier allocation needs to be done through appropriate stove tests, reflecting local cooking practices and conditions.\n",
    "\n",
    "1. Emission: Fuel (I18, but not provided in the dataset)\n",
    "2. Emission: Stove Design (No information provided in the report or questionnaire)\n",
    "3. Ventilation: Volume of Kitchen (Volume of the kitchen is also used to calculate the tier status for Cooking Exposure, but it is not included in the analysis for Rwanda because the MTF survey did not collect information on height of the cooking space, Pg 28)\n",
    "4. Ventilation: Structure (I16, Not enough data for analysis)\n",
    "5. Ventilation Level (No information provided in the report or questionnaire)\n",
    "6. Contact Time (Not used to calculate an individual stove’s tier for Cooking Exposure but used to weight each stove’s tier for Cooking Exposure in the calculation of a household’s tier for Cooking Exposure, Pg 95)"
   ]
  },
  {
   "cell_type": "code",
   "execution_count": null,
   "metadata": {},
   "outputs": [],
   "source": []
  },
  {
   "cell_type": "code",
   "execution_count": 4,
   "metadata": {},
   "outputs": [
    {
     "ename": "KeyError",
     "evalue": "\"None of [Index(['I16'], dtype='object')] are in the [columns]\"",
     "output_type": "error",
     "traceback": [
      "\u001b[0;31m---------------------------------------------------------------------------\u001b[0m",
      "\u001b[0;31mKeyError\u001b[0m                                  Traceback (most recent call last)",
      "\u001b[0;32m<ipython-input-4-f202f694e543>\u001b[0m in \u001b[0;36m<module>\u001b[0;34m\u001b[0m\n\u001b[0;32m----> 1\u001b[0;31m \u001b[0mdf_cooking_exposure\u001b[0m\u001b[0;34m=\u001b[0m \u001b[0mdf\u001b[0m\u001b[0;34m[\u001b[0m\u001b[0;34m[\u001b[0m\u001b[0;34m'I16'\u001b[0m\u001b[0;34m]\u001b[0m\u001b[0;34m]\u001b[0m\u001b[0;34m\u001b[0m\u001b[0;34m\u001b[0m\u001b[0m\n\u001b[0m",
      "\u001b[0;32m~/opt/anaconda3/lib/python3.7/site-packages/pandas/core/frame.py\u001b[0m in \u001b[0;36m__getitem__\u001b[0;34m(self, key)\u001b[0m\n\u001b[1;32m   2932\u001b[0m                 \u001b[0mkey\u001b[0m \u001b[0;34m=\u001b[0m \u001b[0mlist\u001b[0m\u001b[0;34m(\u001b[0m\u001b[0mkey\u001b[0m\u001b[0;34m)\u001b[0m\u001b[0;34m\u001b[0m\u001b[0;34m\u001b[0m\u001b[0m\n\u001b[1;32m   2933\u001b[0m             indexer = self.loc._convert_to_indexer(key, axis=1,\n\u001b[0;32m-> 2934\u001b[0;31m                                                    raise_missing=True)\n\u001b[0m\u001b[1;32m   2935\u001b[0m \u001b[0;34m\u001b[0m\u001b[0m\n\u001b[1;32m   2936\u001b[0m         \u001b[0;31m# take() does not accept boolean indexers\u001b[0m\u001b[0;34m\u001b[0m\u001b[0;34m\u001b[0m\u001b[0;34m\u001b[0m\u001b[0m\n",
      "\u001b[0;32m~/opt/anaconda3/lib/python3.7/site-packages/pandas/core/indexing.py\u001b[0m in \u001b[0;36m_convert_to_indexer\u001b[0;34m(self, obj, axis, is_setter, raise_missing)\u001b[0m\n\u001b[1;32m   1352\u001b[0m                 kwargs = {'raise_missing': True if is_setter else\n\u001b[1;32m   1353\u001b[0m                           raise_missing}\n\u001b[0;32m-> 1354\u001b[0;31m                 \u001b[0;32mreturn\u001b[0m \u001b[0mself\u001b[0m\u001b[0;34m.\u001b[0m\u001b[0m_get_listlike_indexer\u001b[0m\u001b[0;34m(\u001b[0m\u001b[0mobj\u001b[0m\u001b[0;34m,\u001b[0m \u001b[0maxis\u001b[0m\u001b[0;34m,\u001b[0m \u001b[0;34m**\u001b[0m\u001b[0mkwargs\u001b[0m\u001b[0;34m)\u001b[0m\u001b[0;34m[\u001b[0m\u001b[0;36m1\u001b[0m\u001b[0;34m]\u001b[0m\u001b[0;34m\u001b[0m\u001b[0;34m\u001b[0m\u001b[0m\n\u001b[0m\u001b[1;32m   1355\u001b[0m         \u001b[0;32melse\u001b[0m\u001b[0;34m:\u001b[0m\u001b[0;34m\u001b[0m\u001b[0;34m\u001b[0m\u001b[0m\n\u001b[1;32m   1356\u001b[0m             \u001b[0;32mtry\u001b[0m\u001b[0;34m:\u001b[0m\u001b[0;34m\u001b[0m\u001b[0;34m\u001b[0m\u001b[0m\n",
      "\u001b[0;32m~/opt/anaconda3/lib/python3.7/site-packages/pandas/core/indexing.py\u001b[0m in \u001b[0;36m_get_listlike_indexer\u001b[0;34m(self, key, axis, raise_missing)\u001b[0m\n\u001b[1;32m   1159\u001b[0m         self._validate_read_indexer(keyarr, indexer,\n\u001b[1;32m   1160\u001b[0m                                     \u001b[0mo\u001b[0m\u001b[0;34m.\u001b[0m\u001b[0m_get_axis_number\u001b[0m\u001b[0;34m(\u001b[0m\u001b[0maxis\u001b[0m\u001b[0;34m)\u001b[0m\u001b[0;34m,\u001b[0m\u001b[0;34m\u001b[0m\u001b[0;34m\u001b[0m\u001b[0m\n\u001b[0;32m-> 1161\u001b[0;31m                                     raise_missing=raise_missing)\n\u001b[0m\u001b[1;32m   1162\u001b[0m         \u001b[0;32mreturn\u001b[0m \u001b[0mkeyarr\u001b[0m\u001b[0;34m,\u001b[0m \u001b[0mindexer\u001b[0m\u001b[0;34m\u001b[0m\u001b[0;34m\u001b[0m\u001b[0m\n\u001b[1;32m   1163\u001b[0m \u001b[0;34m\u001b[0m\u001b[0m\n",
      "\u001b[0;32m~/opt/anaconda3/lib/python3.7/site-packages/pandas/core/indexing.py\u001b[0m in \u001b[0;36m_validate_read_indexer\u001b[0;34m(self, key, indexer, axis, raise_missing)\u001b[0m\n\u001b[1;32m   1244\u001b[0m                 raise KeyError(\n\u001b[1;32m   1245\u001b[0m                     u\"None of [{key}] are in the [{axis}]\".format(\n\u001b[0;32m-> 1246\u001b[0;31m                         key=key, axis=self.obj._get_axis_name(axis)))\n\u001b[0m\u001b[1;32m   1247\u001b[0m \u001b[0;34m\u001b[0m\u001b[0m\n\u001b[1;32m   1248\u001b[0m             \u001b[0;31m# We (temporarily) allow for some missing keys with .loc, except in\u001b[0m\u001b[0;34m\u001b[0m\u001b[0;34m\u001b[0m\u001b[0;34m\u001b[0m\u001b[0m\n",
      "\u001b[0;31mKeyError\u001b[0m: \"None of [Index(['I16'], dtype='object')] are in the [columns]\""
     ]
    }
   ],
   "source": [
    "df_cooking_exposure= df[['I16']]"
   ]
  },
  {
   "cell_type": "code",
   "execution_count": null,
   "metadata": {},
   "outputs": [],
   "source": [
    "df_cooking_exposure.tail()"
   ]
  },
  {
   "cell_type": "markdown",
   "metadata": {},
   "source": [
    "### Renaming the column"
   ]
  },
  {
   "cell_type": "code",
   "execution_count": null,
   "metadata": {},
   "outputs": [],
   "source": [
    "df_cooking_exposure.columns = ['Ventilation_structure']"
   ]
  },
  {
   "cell_type": "code",
   "execution_count": 5,
   "metadata": {
    "scrolled": true
   },
   "outputs": [
    {
     "ename": "NameError",
     "evalue": "name 'df_cooking_exposure' is not defined",
     "output_type": "error",
     "traceback": [
      "\u001b[0;31m---------------------------------------------------------------------------\u001b[0m",
      "\u001b[0;31mNameError\u001b[0m                                 Traceback (most recent call last)",
      "\u001b[0;32m<ipython-input-5-0d219fd963ec>\u001b[0m in \u001b[0;36m<module>\u001b[0;34m\u001b[0m\n\u001b[0;32m----> 1\u001b[0;31m \u001b[0mdf_cooking_exposure\u001b[0m\u001b[0;34m.\u001b[0m\u001b[0mtail\u001b[0m\u001b[0;34m(\u001b[0m\u001b[0;34m)\u001b[0m\u001b[0;34m\u001b[0m\u001b[0;34m\u001b[0m\u001b[0m\n\u001b[0m",
      "\u001b[0;31mNameError\u001b[0m: name 'df_cooking_exposure' is not defined"
     ]
    }
   ],
   "source": [
    "df_cooking_exposure.tail()"
   ]
  },
  {
   "cell_type": "markdown",
   "metadata": {},
   "source": [
    "### Replacing NaN values with \"Missing_data\" \n",
    "\n",
    "This is done to keep the missing values into analysis (As it is important to know how many missing values do we have)"
   ]
  },
  {
   "cell_type": "code",
   "execution_count": 6,
   "metadata": {},
   "outputs": [
    {
     "ename": "NameError",
     "evalue": "name 'df_cooking_exposure' is not defined",
     "output_type": "error",
     "traceback": [
      "\u001b[0;31m---------------------------------------------------------------------------\u001b[0m",
      "\u001b[0;31mNameError\u001b[0m                                 Traceback (most recent call last)",
      "\u001b[0;32m<ipython-input-6-7a8d0ae2e10e>\u001b[0m in \u001b[0;36m<module>\u001b[0;34m\u001b[0m\n\u001b[0;32m----> 1\u001b[0;31m \u001b[0mdf_cooking_exposure\u001b[0m\u001b[0;34m[\u001b[0m\u001b[0;34m\"Ventilation_structure\"\u001b[0m\u001b[0;34m]\u001b[0m \u001b[0;34m=\u001b[0m \u001b[0mdf_cooking_exposure\u001b[0m\u001b[0;34m.\u001b[0m\u001b[0mVentilation_structure\u001b[0m\u001b[0;34m.\u001b[0m\u001b[0mapply\u001b[0m\u001b[0;34m(\u001b[0m\u001b[0;32mlambda\u001b[0m \u001b[0mx\u001b[0m\u001b[0;34m:\u001b[0m \u001b[0;34m\"Missing_data\"\u001b[0m \u001b[0;32mif\u001b[0m \u001b[0mmath\u001b[0m\u001b[0;34m.\u001b[0m\u001b[0misnan\u001b[0m\u001b[0;34m(\u001b[0m\u001b[0mx\u001b[0m\u001b[0;34m)\u001b[0m \u001b[0;32melse\u001b[0m \u001b[0mx\u001b[0m\u001b[0;34m)\u001b[0m\u001b[0;34m\u001b[0m\u001b[0;34m\u001b[0m\u001b[0m\n\u001b[0m",
      "\u001b[0;31mNameError\u001b[0m: name 'df_cooking_exposure' is not defined"
     ]
    }
   ],
   "source": [
    "df_cooking_exposure[\"Ventilation_structure\"] = df_cooking_exposure.Ventilation_structure.apply(lambda x: \"Missing_data\" if math.isnan(x) else x)"
   ]
  },
  {
   "cell_type": "code",
   "execution_count": 7,
   "metadata": {
    "scrolled": false
   },
   "outputs": [
    {
     "ename": "NameError",
     "evalue": "name 'df_cooking_exposure' is not defined",
     "output_type": "error",
     "traceback": [
      "\u001b[0;31m---------------------------------------------------------------------------\u001b[0m",
      "\u001b[0;31mNameError\u001b[0m                                 Traceback (most recent call last)",
      "\u001b[0;32m<ipython-input-7-192dc9846a66>\u001b[0m in \u001b[0;36m<module>\u001b[0;34m\u001b[0m\n\u001b[0;32m----> 1\u001b[0;31m \u001b[0mdf_cooking_exposure\u001b[0m\u001b[0;34m.\u001b[0m\u001b[0mhead\u001b[0m\u001b[0;34m(\u001b[0m\u001b[0;34m)\u001b[0m\u001b[0;34m\u001b[0m\u001b[0;34m\u001b[0m\u001b[0m\n\u001b[0m",
      "\u001b[0;31mNameError\u001b[0m: name 'df_cooking_exposure' is not defined"
     ]
    }
   ],
   "source": [
    "df_cooking_exposure.head()"
   ]
  },
  {
   "cell_type": "markdown",
   "metadata": {},
   "source": [
    "### Removing \"Missing_data\""
   ]
  },
  {
   "cell_type": "code",
   "execution_count": 8,
   "metadata": {},
   "outputs": [
    {
     "ename": "NameError",
     "evalue": "name 'df_cooking_exposure' is not defined",
     "output_type": "error",
     "traceback": [
      "\u001b[0;31m---------------------------------------------------------------------------\u001b[0m",
      "\u001b[0;31mNameError\u001b[0m                                 Traceback (most recent call last)",
      "\u001b[0;32m<ipython-input-8-77cb5cc72058>\u001b[0m in \u001b[0;36m<module>\u001b[0;34m\u001b[0m\n\u001b[0;32m----> 1\u001b[0;31m \u001b[0mdf2\u001b[0m \u001b[0;34m=\u001b[0m \u001b[0mdf_cooking_exposure\u001b[0m\u001b[0;34m[\u001b[0m\u001b[0mdf_cooking_exposure\u001b[0m \u001b[0;34m!=\u001b[0m \u001b[0;34m'Missing_data'\u001b[0m\u001b[0;34m]\u001b[0m\u001b[0;34m\u001b[0m\u001b[0;34m\u001b[0m\u001b[0m\n\u001b[0m",
      "\u001b[0;31mNameError\u001b[0m: name 'df_cooking_exposure' is not defined"
     ]
    }
   ],
   "source": [
    "df2 = df_cooking_exposure[df_cooking_exposure != 'Missing_data'] "
   ]
  },
  {
   "cell_type": "markdown",
   "metadata": {},
   "source": [
    "### Visualizing the TIER with \"missing data\""
   ]
  },
  {
   "cell_type": "code",
   "execution_count": 28,
   "metadata": {
    "scrolled": false
   },
   "outputs": [
    {
     "data": {
      "text/plain": [
       "Text(0.5, 1.0, 'Number of windows')"
      ]
     },
     "execution_count": 28,
     "metadata": {},
     "output_type": "execute_result"
    },
    {
     "data": {
      "image/png": "[encoded data removed]",
      "text/plain": [
       "<Figure size 1296x432 with 2 Axes>"
      ]
     },
     "metadata": {},
     "output_type": "display_data"
    }
   ],
   "source": [
    "#Pie plot\n",
    "f,ax=plt.subplots(1,2, figsize=(18,6))\n",
    "df2['Ventilation_structure'].value_counts().plot.pie( autopct='%1.0f%%',ax=ax[0])\n",
    "ax[0].set_title('Number of windows')\n",
    "\n",
    "#Boxplot\n",
    "sns.countplot('Ventilation_structure',data=df2,ax=ax[1])\n",
    "ax[1].set_title('Number of windows')\n"
   ]
  },
  {
   "cell_type": "markdown",
   "metadata": {},
   "source": [
    "# Attribute: Cookstove Efficiency"
   ]
  },
  {
   "cell_type": "markdown",
   "metadata": {},
   "source": [
    "Pg 28, No information provided int he dataset/questionnaire\n",
    "\n",
    "Cookstove Efficiency is low for most households, particularly in rural areas. Because lab testing\n",
    "results on emissions levels are not available, this report uses a proxy indicator to calculate the\n",
    "tier for Cookstove Efficiency. Households that use a three-stone or traditional stove are in Tier\n",
    "0 for Cookstove Efficiency, households that use an ICS are in Tiers 1–3, and households that\n",
    "use a clean fuel stove are in Tier 5."
   ]
  },
  {
   "cell_type": "markdown",
   "metadata": {},
   "source": [
    "# Attribute: Convenience\n"
   ]
  },
  {
   "cell_type": "markdown",
   "metadata": {},
   "source": [
    "I21, But no infomation provided in the dataset (No column with I21 exists)"
   ]
  },
  {
   "cell_type": "markdown",
   "metadata": {},
   "source": [
    "# Attribute: Safety of Primary Cookstove\n",
    "\n",
    "I31 determines the type of injury. However, nothing provided in the dataset to analyse"
   ]
  },
  {
   "cell_type": "markdown",
   "metadata": {},
   "source": [
    "# Attribute: Affordability \n",
    "\n",
    "(Pg 40, Affordability could not be calculated for Rwanda because the survey was not able to collect expenditure information)\n",
    "\n",
    "(Pg 95, In this report, cookstove cost was not considered when calculating the Affordability tier due to data limitations which hindered making this calculation.)"
   ]
  },
  {
   "cell_type": "markdown",
   "metadata": {},
   "source": [
    "# Attribute: Fuel Availability\n",
    "\n",
    "No information provided in the report, survey or the dataset."
   ]
  },
  {
   "cell_type": "code",
   "execution_count": null,
   "metadata": {},
   "outputs": [],
   "source": []
  }
 ],
 "metadata": {
  "kernelspec": {
   "display_name": "Python 3",
   "language": "python",
   "name": "python3"
  },
  "language_info": {
   "codemirror_mode": {
    "name": "ipython",
    "version": 3
   },
   "file_extension": ".py",
   "mimetype": "text/x-python",
   "name": "python",
   "nbconvert_exporter": "python",
   "pygments_lexer": "ipython3",
   "version": "3.7.6"
  },
  "toc": {
   "base_numbering": 1,
   "nav_menu": {
    "height": "486px",
    "width": "905px"
   },
   "number_sections": true,
   "sideBar": true,
   "skip_h1_title": false,
   "title_cell": "Table of Contents",
   "title_sidebar": "Contents",
   "toc_cell": false,
   "toc_position": {},
   "toc_section_display": true,
   "toc_window_display": true
  }
 },
 "nbformat": 4,
 "nbformat_minor": 4
}
