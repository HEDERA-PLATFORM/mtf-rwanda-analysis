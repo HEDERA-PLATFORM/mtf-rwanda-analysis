{
 "cells": [
  {
   "cell_type": "markdown",
   "metadata": {},
   "source": [
    "# Evaluation of Multi-Tier Framework for measuring access to cooking solutions: Rwanda"
   ]
  },
  {
   "cell_type": "markdown",
   "metadata": {},
   "source": [
    "## Importing the useful libraries"
   ]
  },
  {
   "cell_type": "code",
   "execution_count": 28,
   "metadata": {},
   "outputs": [],
   "source": [
    "import numpy as np\n",
    "import pandas as pd\n",
    "import matplotlib.pyplot as plt\n",
    "from matplotlib.pyplot import pie, axis, show\n",
    "import seaborn as sns\n",
    "sns.set_style('darkgrid')\n",
    "import warnings\n",
    "warnings.filterwarnings(\"ignore\")\n",
    "import math\n",
    "import plotly.express as px"
   ]
  },
  {
   "cell_type": "markdown",
   "metadata": {},
   "source": [
    "## Importing the dataset"
   ]
  },
  {
   "cell_type": "code",
   "execution_count": 29,
   "metadata": {
    "scrolled": true
   },
   "outputs": [],
   "source": [
    "df = pd.read_excel(\"dataset.xlsx\", sheet_name=\"main_dataset\")\n",
    "section_I = pd.read_excel(\"dataset.xlsx\", sheet_name=\"I\")"
   ]
  },
  {
   "cell_type": "markdown",
   "metadata": {},
   "source": [
    "## Analysing different Attributes\n",
    "\n",
    "Attributes which are analysed for MTF_Rwanda_Questionnaire_Household: \n",
    "\n",
    "1. **Cooking Exposure**: How is the user’s respiratory health affected? This is based on personal\n",
    "exposure to pollutants from cooking activities, which depends on stove emissions,\n",
    "ventilation structure (which includes cooking location and kitchen volume11), and contact\n",
    "time (time spent in the cooking environment). \n",
    "2. Cookstove Efficiency\n",
    "3. Convenience\n",
    "4. Safety of Primary Cookstove\n",
    "5. Affordability \n",
    "6. Fuel Availability"
   ]
  },
  {
   "cell_type": "markdown",
   "metadata": {},
   "source": [
    "## Typologies of cookstoves\n",
    "Cookstoves in Rwanda were classified into four categories (see annex 2 of the report for detailed information):\n",
    "\n",
    "- Three-stone stove. A pot balanced on three stones over an open fire. Fuel use and emissions are high, and\n",
    "thermal efficiency and safety are low. Three-stone stoves usually use firewood, but other solid fuels may\n",
    "also be used.\n",
    "- Traditional biomass stove. Locally produced using mud, metal, or other low-cost materials and following\n",
    "cultural practices. Traditional biomass stoves use biomass fuels. In Rwanda six types of stoves were identified\n",
    "as traditional: round mud stove, rocket stove, gisafuriya, double and triple movable metal charcoal stove, all\n",
    "metal stove, and Muyaga.\n",
    "- Improved biomass stove. Uses newer stove technology to improve efficiency, cleanliness, and safety. Improved\n",
    "biomass stoves use less energy to deliver a given amount of usable heat than three-stone and traditional\n",
    "stoves do, and they may also produce less indoor and overall air pollution. Thus, improved biomass stoves\n",
    "may enable cleaner and more efficient delivery of traditional fuels, though they may not meet emissions or\n",
    "efficiency standards. Their performance cannot be visually identified, and thus they must be tested. In Rwanda\n",
    "nine types of improved stoves were identified: Darfour 1, Darfour 2, canarumwe, canamake ivuguruye, canamake\n",
    "itavuguruye, fixed canamake itavuguruye, double and triple movable (canamake itavuguruye), sawdust/rice\n",
    "husks stove, and Save80.\n",
    "- Clean fuel stove. Uses fuels with very low levels of polluting emissions, such as biogas, LPG/cooking gas, electricity,\n",
    "ethanol, natural gas, and solar. Such fuels often provide high technical performance in emissions and efficiency\n",
    "that is largely “stove independent.” In Rwanda only biogas and LPG/cooking gas are used by households."
   ]
  },
  {
   "cell_type": "markdown",
   "metadata": {},
   "source": [
    "# Attribute: Cooking Exposure"
   ]
  },
  {
   "cell_type": "markdown",
   "metadata": {},
   "source": [
    "Cooking Exposure is determined using different dimensions:\n",
    "\n",
    "- **Emissions**: Depending on fuel\n",
    "- **Ventilation**: In this report ventilation is defined as using a chimney, hood, or other exhaust system while using a stove or having doors or windows in the cooking area\n",
    "- **Contact time**\n",
    "\n",
    "The MTF Cooking Exposure (as for Cookstove Efficiency, Fuel Availability, and Safety of Primary Cookstove) has been simplified in the case of Rwanda because\n",
    "threshold values for each tier have not been approved by a competent agency and there is currently no\n",
    "system of certification and labelling for cooking solutions in place that could enable easy identification\n",
    "of cooking solutions during household surveys.\n",
    "\n",
    "\n",
    "\n",
    "## Emission\n",
    "To estimate Cooking Exposure, the first step is to determine the tier for emissions for a household\n",
    "based on its primary and secondary stoves. Each stove that the household uses is classified based\n",
    "on a combination of the stove design and the primary fuel used with that stove. This classification is\n",
    "adapted from EnDev’s Cooking Energy System (table 2). For households that use only one stove, the\n",
    "tier for emissions for that stove is used. For households that use more than one stove (or stack their\n",
    "stoves), the emissions of each stove are weighted by the proportion of time spent cooking with it. For\n",
    "the analysis of access to modern energy cooking solutions in Rwanda, households with a three-stone\n",
    "or traditional stove as their primary stove are in Tier 0, households with an improved cookstove (ICS)\n",
    "are Tiers 1–3, and households with a clean fuel stove are in Tier 4 or 5. Households that use a clean\n",
    "fuel stove exclusively are in Tier 5; the tier for households that use a clean fuel stove as their primary\n",
    "stove and engage in stove stacking was based on the proportion of time spent cooking with each stove.\n",
    "\n",
    "\n",
    "\n",
    "\n",
    "\n",
    "\n"
   ]
  },
  {
   "cell_type": "code",
   "execution_count": 30,
   "metadata": {
    "scrolled": false
   },
   "outputs": [],
   "source": [
    "# primary stove\n",
    "primary_stoves = section_I.loc[section_I['I3']==1]\n",
    "\n",
    "fuels_dict = {\n",
    "    \"1\": \"Kerosene\",\n",
    "    \"2\": \"Coal/lignite\",\n",
    "    \"3\": \"Peat\",\n",
    "    \"4\": \"Charcoal\",\n",
    "    \"5\": \"Wood\",\n",
    "    \"6\": \"Solar\",\n",
    "    \"7\": \"Animal Waste/Dung\",\n",
    "    \"8\": \"Crop Residue/Plant Biomass\",\n",
    "    \"9\": \"Saw Dust\",\n",
    "    \"10\": \"Coal Briquette\",\n",
    "    \"11\": \"Biomass Briquette\",\n",
    "    \"12\": \"Processed biomass (pellets/woodchips)\",\n",
    "    \"13\": \"Ethanol\",\n",
    "    \"14\": \"Biogas\",\n",
    "    \"15\": \"LPG\",\n",
    "    \"16\": \"Piped Natural Gas\",\n",
    "    \"17\": \"Electric\",\n",
    "    \"18\": \"Garbage/plastic\",\n",
    "    \"555\": \"Other\"\n",
    "}\n",
    "\n",
    "\n",
    "# type of stove and fuels\n",
    "stoves = []\n",
    "fuels = []\n",
    "used_fuels = [  1,   3,   4,   5,   6,   7,   8,   9,  12,  14,  15,  17, 555]\n",
    "count_fuels = [0,0,0,0,0,0,0,0,0,0,0,0,0]\n",
    "for i in range(0,len(df)):\n",
    "    filtered = primary_stoves.loc[section_I[\"HHID\"]==df[\"Household Identification\"][i]]\n",
    "    hh_stoves = []\n",
    "    hh_fuels = []\n",
    "    hh_fuel_tier = []\n",
    "    for s in filtered[\"I2\"]:\n",
    "        hh_stoves.append(s)\n",
    "    for s in filtered[\"I18A\"]:\n",
    "        if int(s) not in hh_fuels and len(hh_fuels)==0:\n",
    "            hh_fuels.append(int(s))\n",
    "        \n",
    "        k = used_fuels.index(int(s))\n",
    "        count_fuels[k]+=1\n",
    "        \n",
    "    fuels.append(hh_fuels)\n",
    "    stoves.append(hh_stoves)\n",
    "    \n",
    "    \n",
    "    \n",
    "    \n",
    "fuel_labels = []\n",
    "for u in used_fuels:\n",
    "    fuel_labels.append(fuels_dict[str(u)])\n",
    "    "
   ]
  },
  {
   "cell_type": "code",
   "execution_count": 31,
   "metadata": {
    "scrolled": false
   },
   "outputs": [
    {
     "data": {
      "image/png": "[encoded data removed]",
      "text/plain": [
       "<Figure size 1296x432 with 1 Axes>"
      ]
     },
     "metadata": {},
     "output_type": "display_data"
    }
   ],
   "source": [
    "f,ax=plt.subplots(1,1, figsize=(18,6))\n",
    "ind = np.arange(len(used_fuels))\n",
    "plt.bar(ind,count_fuels,width=1)\n",
    "plt.xticks(ind,labels=fuel_labels,rotation=90)\n",
    "plt.title(\"Primary fuels used\")\n",
    "plt.show()\n",
    "    "
   ]
  },
  {
   "cell_type": "markdown",
   "metadata": {},
   "source": [
    "Emission: Fuel\n",
    "    \n",
    "* TIER 0-3: Firewood, dung, twigs, leaves, rice husks, processed biomass pellets or\n",
    "briquette, charcoal, kerosene\n",
    "* TIER 4: Biogas, ethanol, high quality processed biomass pellets or briquettes\n",
    "* TIER 5: Electricity, solar, LPG"
   ]
  },
  {
   "cell_type": "code",
   "execution_count": 32,
   "metadata": {},
   "outputs": [],
   "source": [
    "df_emission= pd.DataFrame(fuels,columns=['Fuels'])"
   ]
  },
  {
   "cell_type": "markdown",
   "metadata": {},
   "source": [
    "## Ventilation\n",
    "The second step is to determine the ventilation for the cooking area, categorized by the location of the\n",
    "cooking activity. Ventilation is classified into 3 levels: poor, average, and good.\n",
    "\n",
    "- **Poor** A household that prepares its meals indoors in an area with fewer than two openings\n",
    "(windows and doors) to the outside is classified as having poor ventilation. \n",
    "- **Average** A household that prepares its meals indoors in an area with two or more openings is classified as having average ventilation.\n",
    "- **Good**: A household that cooks its meals outdoors is classified as having good ventilation. Ventilation\n",
    "mitigates the indoor air pollution that a household is exposed to by diluting the concentration of\n",
    "emissions from polluting fuels and expelling the pollutants from the cooking area.\n",
    "\n",
    "Households in Tier 0 for emissions remain in Tier 0 for Cooking Exposure if they have poor or average\n",
    "ventilation but move to Tier 1 if they have good ventilation. Households in Tiers 1–3 for emissions\n",
    "(using a traditional cookstove or ICS) move down one tier for Cooking Exposure if they have bad\n",
    "ventilation, remain in the same tier if they have average ventilation, and move up one tier if they have\n",
    "good ventilation. Households in Tier 4 for emissions remain in Tier 4 for Cooking Exposure if they have\n",
    "poor or average ventilation and move to Tier 5 if they have good ventilation. Households in Tier 5 for\n",
    "emissions remain in Tier 5 regardless of ventilation. \n"
   ]
  },
  {
   "cell_type": "code",
   "execution_count": 33,
   "metadata": {},
   "outputs": [],
   "source": [
    "Windows=[]\n",
    "for s in df[\"I16_How many doors and windows\"]:\n",
    "    Windows.append(s)\n",
    "\n",
    "df_emission['Windows']= Windows"
   ]
  },
  {
   "cell_type": "code",
   "execution_count": 34,
   "metadata": {},
   "outputs": [],
   "source": [
    "df_emission['Outdoor']=df[['I14_where did you normally cook with the cookstove']]\n"
   ]
  },
  {
   "cell_type": "code",
   "execution_count": 35,
   "metadata": {},
   "outputs": [
    {
     "data": {
      "text/plain": [
       "Fuels       77\n",
       "Windows    948\n",
       "Outdoor      0\n",
       "dtype: int64"
      ]
     },
     "execution_count": 35,
     "metadata": {},
     "output_type": "execute_result"
    }
   ],
   "source": [
    "df_emission.isnull().sum()"
   ]
  },
  {
   "cell_type": "code",
   "execution_count": 36,
   "metadata": {},
   "outputs": [],
   "source": [
    "df_emission.dropna(inplace=True)"
   ]
  },
  {
   "cell_type": "code",
   "execution_count": 37,
   "metadata": {
    "scrolled": true
   },
   "outputs": [
    {
     "data": {
      "text/html": [
       "<div>\n",
       "<style scoped>\n",
       "    .dataframe tbody tr th:only-of-type {\n",
       "        vertical-align: middle;\n",
       "    }\n",
       "\n",
       "    .dataframe tbody tr th {\n",
       "        vertical-align: top;\n",
       "    }\n",
       "\n",
       "    .dataframe thead th {\n",
       "        text-align: right;\n",
       "    }\n",
       "</style>\n",
       "<table border=\"1\" class=\"dataframe\">\n",
       "  <thead>\n",
       "    <tr style=\"text-align: right;\">\n",
       "      <th></th>\n",
       "      <th>Fuels</th>\n",
       "      <th>Windows</th>\n",
       "      <th>Outdoor</th>\n",
       "    </tr>\n",
       "  </thead>\n",
       "  <tbody>\n",
       "    <tr>\n",
       "      <th>0</th>\n",
       "      <td>5.0</td>\n",
       "      <td>6.0</td>\n",
       "      <td>3</td>\n",
       "    </tr>\n",
       "    <tr>\n",
       "      <th>4</th>\n",
       "      <td>5.0</td>\n",
       "      <td>1.0</td>\n",
       "      <td>3</td>\n",
       "    </tr>\n",
       "    <tr>\n",
       "      <th>5</th>\n",
       "      <td>5.0</td>\n",
       "      <td>1.0</td>\n",
       "      <td>3</td>\n",
       "    </tr>\n",
       "    <tr>\n",
       "      <th>6</th>\n",
       "      <td>5.0</td>\n",
       "      <td>2.0</td>\n",
       "      <td>3</td>\n",
       "    </tr>\n",
       "    <tr>\n",
       "      <th>10</th>\n",
       "      <td>5.0</td>\n",
       "      <td>2.0</td>\n",
       "      <td>3</td>\n",
       "    </tr>\n",
       "  </tbody>\n",
       "</table>\n",
       "</div>"
      ],
      "text/plain": [
       "    Fuels  Windows  Outdoor\n",
       "0     5.0      6.0        3\n",
       "4     5.0      1.0        3\n",
       "5     5.0      1.0        3\n",
       "6     5.0      2.0        3\n",
       "10    5.0      2.0        3"
      ]
     },
     "execution_count": 37,
     "metadata": {},
     "output_type": "execute_result"
    }
   ],
   "source": [
    "df_emission.head()"
   ]
  },
  {
   "cell_type": "markdown",
   "metadata": {},
   "source": [
    "## Adding TIER to the dataset"
   ]
  },
  {
   "cell_type": "code",
   "execution_count": 38,
   "metadata": {},
   "outputs": [],
   "source": [
    "lst=[]\n",
    "TIER5= [6,15,16,17]\n",
    "TIER4= [8,10,11,12,13,14]\n",
    "for i in range (df_emission.shape[0]):\n",
    "    value=\"\"\n",
    "    Fuel = int(df_emission.iat[i,0])\n",
    "    Windows = df_emission.iat[i,1]\n",
    "    Outdoor = df_emission.iat[i,2]\n",
    "    if Fuel in TIER5 and Outdoor==5:\n",
    "        value = \"5\"\n",
    "    elif Fuel in TIER4 and Outdoor==5:\n",
    "        value = \"4\"\n",
    "    else:\n",
    "        value = \"0-3\"\n",
    "    lst.append(value)\n",
    "       \n",
    "# adding list to dataframe\n",
    "df_emission[\"TIER\"] = lst"
   ]
  },
  {
   "cell_type": "markdown",
   "metadata": {},
   "source": [
    "## Visualizing the TIER "
   ]
  },
  {
   "cell_type": "code",
   "execution_count": 39,
   "metadata": {
    "scrolled": true
   },
   "outputs": [
    {
     "data": {
      "text/plain": [
       "Text(0.5, 1.0, 'TIER levels based on cooking exposure')"
      ]
     },
     "execution_count": 39,
     "metadata": {},
     "output_type": "execute_result"
    },
    {
     "data": {
      "image/png": "[encoded data removed]",
      "text/plain": [
       "<Figure size 1296x432 with 2 Axes>"
      ]
     },
     "metadata": {},
     "output_type": "display_data"
    }
   ],
   "source": [
    "# Setting up the ESMAP color pallette\n",
    "esmap_colors=['#864241','#B85F57','#E49202','#5797B0','#84B0B1','#5C9989']\n",
    "sns.set_palette(esmap_colors)\n",
    "\n",
    "#Pie plot\n",
    "f,ax=plt.subplots(1,2, figsize=(18,6))\n",
    "df_emission['TIER'].value_counts().plot.pie( autopct='%1.0f%%',ax=ax[0])\n",
    "ax[0].set_title('TIER levels based on cooking exposure')\n",
    "\n",
    "#Barplot\n",
    "sns.countplot('TIER',data=df_emission,ax=ax[1])\n",
    "ax[1].set_title('TIER levels based on cooking exposure')"
   ]
  },
  {
   "cell_type": "markdown",
   "metadata": {},
   "source": [
    "The above graph states that more than 2000 households that have cooking exposure lies in TIER 0-3"
   ]
  },
  {
   "cell_type": "markdown",
   "metadata": {},
   "source": [
    "# Attribute: Cookstove Efficiency"
   ]
  },
  {
   "cell_type": "markdown",
   "metadata": {},
   "source": [
    "Pg 28, No information provided int he dataset/questionnaire\n",
    "\n",
    "Cookstove Efficiency is low for most households, particularly in rural areas. Because lab testing\n",
    "results on emissions levels are not available, this report uses a proxy indicator to calculate the\n",
    "tier for Cookstove Efficiency. Households that use a three-stone or traditional stove are in Tier\n",
    "0 for Cookstove Efficiency, households that use an ICS are in Tiers 1–3, and households that\n",
    "use a clean fuel stove are in Tier 5."
   ]
  },
  {
   "cell_type": "markdown",
   "metadata": {},
   "source": [
    "# Attribute: Convenience\n"
   ]
  },
  {
   "cell_type": "code",
   "execution_count": 40,
   "metadata": {},
   "outputs": [],
   "source": [
    "Match = section_I.loc[section_I['I3']==1]\n",
    "Time = []\n",
    "for s in Match[\"I21\"]:\n",
    "    Time.append(s)"
   ]
  },
  {
   "cell_type": "code",
   "execution_count": 41,
   "metadata": {},
   "outputs": [],
   "source": [
    "df_convenience=pd.DataFrame(Time,columns=['Time'])"
   ]
  },
  {
   "cell_type": "code",
   "execution_count": 42,
   "metadata": {},
   "outputs": [],
   "source": [
    "df_convenience = df_convenience.replace(np.nan, 'Missing_data', regex=True)"
   ]
  },
  {
   "cell_type": "markdown",
   "metadata": {},
   "source": [
    "## Adding TIER to the dataset"
   ]
  },
  {
   "cell_type": "code",
   "execution_count": 43,
   "metadata": {},
   "outputs": [],
   "source": [
    "def conditions(Time):\n",
    "    if Time == 'Missing_data':\n",
    "        return \"Missing_data\"\n",
    "    elif Time<2:\n",
    "        return \"5\"\n",
    "    elif 2<=Time<5:\n",
    "        return \"4\"\n",
    "    elif 5<=Time<10:\n",
    "        return \"3\"\n",
    "    elif 10<=Time<15:\n",
    "        return \"2\"\n",
    "    else:\n",
    "        return \"0&1\"\n",
    "    \n",
    "func = np.vectorize(conditions)\n",
    "transform = func(df_convenience.Time)\n",
    "df_convenience[\"TIER\"] = transform"
   ]
  },
  {
   "cell_type": "markdown",
   "metadata": {},
   "source": [
    "## Visualizing the TIER "
   ]
  },
  {
   "cell_type": "code",
   "execution_count": 44,
   "metadata": {
    "scrolled": false
   },
   "outputs": [
    {
     "data": {
      "text/plain": [
       "Text(0.5, 1.0, 'TIER levels based on cooking Convenience')"
      ]
     },
     "execution_count": 44,
     "metadata": {},
     "output_type": "execute_result"
    },
    {
     "data": {
      "image/png": "[encoded data removed]",
      "text/plain": [
       "<Figure size 1296x432 with 2 Axes>"
      ]
     },
     "metadata": {},
     "output_type": "display_data"
    }
   ],
   "source": [
    "#Pie plot\n",
    "f,ax=plt.subplots(1,2, figsize=(18,6))\n",
    "df_convenience['TIER'].value_counts().plot.pie( autopct='%1.0f%%',ax=ax[0])\n",
    "ax[0].set_title('TIER levels based on cooking Convenience')\n",
    "\n",
    "#Barplot\n",
    "sns.countplot('TIER',data=df_convenience,ax=ax[1])\n",
    "ax[1].set_title('TIER levels based on cooking Convenience')"
   ]
  },
  {
   "cell_type": "markdown",
   "metadata": {},
   "source": [
    "The above graph states for Stove preparation time (minutes per meal):\n",
    "    \n",
    "1. 35% households take More than 15 minutes to cook (TIER 0&1)\n",
    "2. 21% households take Less than 15 minutes to cook (TIER 2)\n",
    "3. 29% households take Less than 10 minutes to cook (TIER 3)\n",
    "4. 12% households take Less than 5 minutes to cook (TIER 4)\n",
    "5. 3% households take Less than 2 minutes to cook (TIER 5)\n"
   ]
  },
  {
   "cell_type": "markdown",
   "metadata": {},
   "source": [
    "# Attribute: Safety of Primary Cookstove\n",
    "\n",
    "I31 determines the type of injury. However, nothing provided in the dataset to analyse"
   ]
  },
  {
   "cell_type": "code",
   "execution_count": 45,
   "metadata": {},
   "outputs": [],
   "source": [
    "Injury_dict = {\n",
    "    \"1\": \"Death or permanent damage\",\n",
    "    \"2\": \"Burns/fire/poisoning\",\n",
    "    \"3\": \"Severe cough/respiratory problem\",\n",
    "    \"4\": \"Other major injury\",\n",
    "    \"5\": \"Minor injury\",\n",
    "    \"6\": \"Fire with no injury\",\n",
    "    \"7\": \"Itchy/watery eyes\",\n",
    "    \"8\": \"None\",\n",
    "} "
   ]
  },
  {
   "cell_type": "code",
   "execution_count": 46,
   "metadata": {},
   "outputs": [],
   "source": [
    "Match = section_I.loc[section_I['I3']==1]\n",
    "Match['I31']= Match[['I31_1','I31_2','I31_3','I31_4','I31_5','I31_6','I31_7','I31_8']].sum(axis=1)"
   ]
  },
  {
   "cell_type": "code",
   "execution_count": 47,
   "metadata": {},
   "outputs": [],
   "source": [
    "df_safety= Match[['I31']]"
   ]
  },
  {
   "cell_type": "markdown",
   "metadata": {},
   "source": [
    "## Adding TIER to the dataset"
   ]
  },
  {
   "cell_type": "code",
   "execution_count": 48,
   "metadata": {},
   "outputs": [],
   "source": [
    "def conditions(I31):\n",
    "\n",
    "    TIER1=[1,2,3,4]\n",
    "    TIER2=[5,6,7,8]\n",
    "    if I31 in TIER1:\n",
    "        return \"0-3\"\n",
    "    else:\n",
    "        return \"4&5\"\n",
    "    \n",
    "func = np.vectorize(conditions)\n",
    "transform = func(df_safety.I31)\n",
    "df_safety[\"TIER\"] = transform"
   ]
  },
  {
   "cell_type": "markdown",
   "metadata": {},
   "source": [
    "## Visualizing the TIER "
   ]
  },
  {
   "cell_type": "code",
   "execution_count": 49,
   "metadata": {
    "scrolled": true
   },
   "outputs": [
    {
     "data": {
      "text/plain": [
       "Text(0.5, 1.0, 'TIER levels based on Safety of Primary Cookstove')"
      ]
     },
     "execution_count": 49,
     "metadata": {},
     "output_type": "execute_result"
    },
    {
     "data": {
      "image/png": "[encoded data removed]",
      "text/plain": [
       "<Figure size 1296x432 with 2 Axes>"
      ]
     },
     "metadata": {},
     "output_type": "display_data"
    }
   ],
   "source": [
    "#Pie plot\n",
    "f,ax=plt.subplots(1,2, figsize=(18,6))\n",
    "df_safety['TIER'].value_counts().plot.pie( autopct='%1.0f%%',ax=ax[0])\n",
    "ax[0].set_title('TIER levels based on Safety of Primary Cookstove')\n",
    "\n",
    "#Barplot\n",
    "sns.countplot('TIER',data=df_safety,ax=ax[1])\n",
    "ax[1].set_title('TIER levels based on Safety of Primary Cookstove')"
   ]
  },
  {
   "cell_type": "markdown",
   "metadata": {},
   "source": [
    "The above graph states for Safety of Primary Cookstove:\n",
    "\n",
    "1. 1% of the housholds are seriously affected by accidents over the past 12 months (TIER 0-3)\n",
    "2. 99% of the housholds were not seriously affected by accidents over the past 12 months (TIER4-5)\n"
   ]
  },
  {
   "cell_type": "markdown",
   "metadata": {},
   "source": [
    "# Attribute: Affordability \n",
    "\n",
    "(Pg 40, Affordability could not be calculated for Rwanda because the survey was not able to collect expenditure information)\n",
    "\n",
    "(Pg 95, In this report, cookstove cost was not considered when calculating the Affordability tier due to data limitations which hindered making this calculation.)"
   ]
  },
  {
   "cell_type": "markdown",
   "metadata": {},
   "source": [
    "# Attribute: Fuel Availability\n",
    "\n",
    "No information provided in the report, survey or the dataset."
   ]
  },
  {
   "cell_type": "code",
   "execution_count": 50,
   "metadata": {},
   "outputs": [],
   "source": [
    "Match = section_I.loc[section_I['I3']==1]\n",
    "Availability = []\n",
    "for s in Match[\"I19A\"]:\n",
    "    Availability.append(s)"
   ]
  },
  {
   "cell_type": "code",
   "execution_count": 51,
   "metadata": {},
   "outputs": [],
   "source": [
    "df_availability=pd.DataFrame(Availability,columns=['Availability'])"
   ]
  },
  {
   "cell_type": "code",
   "execution_count": 52,
   "metadata": {},
   "outputs": [],
   "source": [
    "Availability = {\n",
    "    \"1\": \"Always available\",\n",
    "    \"2\": \"Mostly available\",\n",
    "    \"3\": \"Sometimes available\",\n",
    "    \"4\": \"Rarely available\",\n",
    "} "
   ]
  },
  {
   "cell_type": "markdown",
   "metadata": {},
   "source": [
    "## Adding TIER to the dataset"
   ]
  },
  {
   "cell_type": "code",
   "execution_count": 53,
   "metadata": {},
   "outputs": [],
   "source": [
    "def conditions(Availability):\n",
    "\n",
    "    if Availability==1:\n",
    "        return \"5\"\n",
    "    elif Availability==2:\n",
    "        return '4'\n",
    "    else:\n",
    "        return \"0-3\"\n",
    "    \n",
    "func = np.vectorize(conditions)\n",
    "transform = func(df_availability.Availability)\n",
    "df_availability[\"TIER\"] = transform"
   ]
  },
  {
   "cell_type": "markdown",
   "metadata": {},
   "source": [
    "## Visualizing the TIER "
   ]
  },
  {
   "cell_type": "code",
   "execution_count": 54,
   "metadata": {
    "scrolled": false
   },
   "outputs": [
    {
     "data": {
      "text/plain": [
       "Text(0.5, 1.0, 'TIER levels based on Fuel Availability')"
      ]
     },
     "execution_count": 54,
     "metadata": {},
     "output_type": "execute_result"
    },
    {
     "data": {
      "image/png": "[encoded data removed]",
      "text/plain": [
       "<Figure size 1296x432 with 2 Axes>"
      ]
     },
     "metadata": {},
     "output_type": "display_data"
    }
   ],
   "source": [
    "#Pie plot\n",
    "f,ax=plt.subplots(1,2, figsize=(18,6))\n",
    "df_availability['TIER'].value_counts().plot.pie( autopct='%1.0f%%',ax=ax[0])\n",
    "ax[0].set_title('TIER levels based on Fuel Availability')\n",
    "\n",
    "#Barplot\n",
    "sns.countplot('TIER',data=df_availability,ax=ax[1])\n",
    "ax[1].set_title('TIER levels based on Fuel Availability')"
   ]
  },
  {
   "cell_type": "markdown",
   "metadata": {},
   "source": [
    "The above graph states for Fuel Availability:\n",
    "\n",
    "1. Primary fuel is available to 32% households less than 80% of the year (TIER 0-3)\n",
    "2. Primary fuel is readily available to 42% households 80% of the year (TIER 4)\n",
    "3. Primary fuel is readily available to 27% housholds throughout the year (TIER 5)"
   ]
  },
  {
   "cell_type": "code",
   "execution_count": null,
   "metadata": {},
   "outputs": [],
   "source": []
  }
 ],
 "metadata": {
  "kernelspec": {
   "display_name": "Python 3",
   "language": "python",
   "name": "python3"
  },
  "language_info": {
   "codemirror_mode": {
    "name": "ipython",
    "version": 3
   },
   "file_extension": ".py",
   "mimetype": "text/x-python",
   "name": "python",
   "nbconvert_exporter": "python",
   "pygments_lexer": "ipython3",
   "version": "3.7.6"
  },
  "toc": {
   "base_numbering": 1,
   "nav_menu": {
    "height": "486px",
    "width": "905px"
   },
   "number_sections": true,
   "sideBar": true,
   "skip_h1_title": false,
   "title_cell": "Table of Contents",
   "title_sidebar": "Contents",
   "toc_cell": false,
   "toc_position": {},
   "toc_section_display": true,
   "toc_window_display": true
  }
 },
 "nbformat": 4,
 "nbformat_minor": 4
}
