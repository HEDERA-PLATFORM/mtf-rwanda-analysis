{
 "cells": [
  {
   "cell_type": "markdown",
   "metadata": {},
   "source": [
    "# Evaluation of Multi-Tier Framework for measuring access to electricity "
   ]
  },
  {
   "cell_type": "markdown",
   "metadata": {},
   "source": [
    "### Importing the useful libraries"
   ]
  },
  {
   "cell_type": "code",
   "execution_count": 43,
   "metadata": {},
   "outputs": [],
   "source": [
    "import numpy as np\n",
    "import pandas as pd\n",
    "\n",
    "df = pd.read_csv('Main_dataset.csv')\n"
   ]
  },
  {
   "cell_type": "markdown",
   "metadata": {},
   "source": [
    "## Appliances\n",
    "\n",
    "The Section **L** contains the appliances owned by each household. There are 61 possible appliances considered."
   ]
  },
  {
   "cell_type": "code",
   "execution_count": 57,
   "metadata": {},
   "outputs": [],
   "source": [
    "appliances_dataset = pd.read_excel(\"dataset.xlsx\",sheet_name=\"L\")"
   ]
  },
  {
   "cell_type": "code",
   "execution_count": 63,
   "metadata": {},
   "outputs": [],
   "source": [
    "appliances_items = []\n",
    "appliances_amount = []\n",
    "\n",
    "for i in range(0,len(df)):\n",
    "    hhid = df['HHID'][i]\n",
    "    a = appliances_dataset.loc[appliances_dataset[\"HHID\"]==hhid]\n",
    "    items = []\n",
    "    amount = []\n",
    "    for index,row in a.iterrows():\n",
    "        if row[\"La\"]>0:\n",
    "            items.append(row[\"Item\"])\n",
    "            amount.append(row[\"La\"])\n",
    "    appliances_items.append(items)\n",
    "    appliances_amount.append(amount)\n",
    "\n",
    "appliances = pd.DataFrame.from_dict({\"items\": appliances_items,\"amount\":appliances_amount} )"
   ]
  },
  {
   "cell_type": "code",
   "execution_count": 66,
   "metadata": {},
   "outputs": [],
   "source": [
    "appliances.to_excel(\"appliances_dataset.xlsx\")"
   ]
  },
  {
   "cell_type": "code",
   "execution_count": null,
   "metadata": {},
   "outputs": [],
   "source": []
  }
 ],
 "metadata": {
  "kernelspec": {
   "display_name": "Python 3",
   "language": "python",
   "name": "python3"
  },
  "language_info": {
   "codemirror_mode": {
    "name": "ipython",
    "version": 3
   },
   "file_extension": ".py",
   "mimetype": "text/x-python",
   "name": "python",
   "nbconvert_exporter": "python",
   "pygments_lexer": "ipython3",
   "version": "3.7.6"
  },
  "toc": {
   "base_numbering": 1,
   "nav_menu": {},
   "number_sections": true,
   "sideBar": true,
   "skip_h1_title": false,
   "title_cell": "Table of Contents",
   "title_sidebar": "Contents",
   "toc_cell": false,
   "toc_position": {},
   "toc_section_display": true,
   "toc_window_display": false
  }
 },
 "nbformat": 4,
 "nbformat_minor": 4
}
