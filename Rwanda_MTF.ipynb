{
 "cells": [
  {
   "cell_type": "markdown",
   "metadata": {},
   "source": [
    "# Evaluation of Multi-Tier Framework for measuring access to electricity "
   ]
  },
  {
   "cell_type": "markdown",
   "metadata": {},
   "source": [
    "### Importing the useful libraries"
   ]
  },
  {
   "cell_type": "code",
   "execution_count": 2383,
   "metadata": {},
   "outputs": [],
   "source": [
    "import numpy as np\n",
    "import pandas as pd\n",
    "import matplotlib.pyplot as plt\n",
    "from matplotlib.pyplot import pie, axis, show\n",
    "import seaborn as sns\n",
    "sns.set_style('darkgrid')\n",
    "import warnings\n",
    "warnings.filterwarnings(\"ignore\")"
   ]
  },
  {
   "cell_type": "markdown",
   "metadata": {},
   "source": [
    "### Importing the dataset"
   ]
  },
  {
   "cell_type": "code",
   "execution_count": 2384,
   "metadata": {
    "scrolled": true
   },
   "outputs": [],
   "source": [
    "df = pd.read_csv('Main_dataset.csv')"
   ]
  },
  {
   "cell_type": "code",
   "execution_count": 2385,
   "metadata": {},
   "outputs": [
    {
     "data": {
      "text/html": [
       "<div>\n",
       "<style scoped>\n",
       "    .dataframe tbody tr th:only-of-type {\n",
       "        vertical-align: middle;\n",
       "    }\n",
       "\n",
       "    .dataframe tbody tr th {\n",
       "        vertical-align: top;\n",
       "    }\n",
       "\n",
       "    .dataframe thead th {\n",
       "        text-align: right;\n",
       "    }\n",
       "</style>\n",
       "<table border=\"1\" class=\"dataframe\">\n",
       "  <thead>\n",
       "    <tr style=\"text-align: right;\">\n",
       "      <th></th>\n",
       "      <th>Unnamed: 0</th>\n",
       "      <th>HHID</th>\n",
       "      <th>Cluster</th>\n",
       "      <th>strata</th>\n",
       "      <th>Province</th>\n",
       "      <th>District</th>\n",
       "      <th>Sector</th>\n",
       "      <th>Cellule</th>\n",
       "      <th>Village</th>\n",
       "      <th>B1</th>\n",
       "      <th>...</th>\n",
       "      <th>T28</th>\n",
       "      <th>T28B</th>\n",
       "      <th>T28C</th>\n",
       "      <th>DATE_START</th>\n",
       "      <th>TIME_START</th>\n",
       "      <th>DATE_END</th>\n",
       "      <th>TIME_END</th>\n",
       "      <th>cluster</th>\n",
       "      <th>sample_weight</th>\n",
       "      <th>Locality</th>\n",
       "    </tr>\n",
       "  </thead>\n",
       "  <tbody>\n",
       "    <tr>\n",
       "      <th>0</th>\n",
       "      <td>0</td>\n",
       "      <td>1.102021e+12</td>\n",
       "      <td>1</td>\n",
       "      <td>11</td>\n",
       "      <td>City of Kigali</td>\n",
       "      <td>Nyarugenge</td>\n",
       "      <td>Kanyinya</td>\n",
       "      <td>Nzove</td>\n",
       "      <td>Ruyenzi</td>\n",
       "      <td>2.0</td>\n",
       "      <td>...</td>\n",
       "      <td>NaN</td>\n",
       "      <td>NaN</td>\n",
       "      <td>NaN</td>\n",
       "      <td>18/11/2016</td>\n",
       "      <td>12:05</td>\n",
       "      <td>18/11/2016</td>\n",
       "      <td>12:49</td>\n",
       "      <td>11</td>\n",
       "      <td>476.61765</td>\n",
       "      <td>Rural</td>\n",
       "    </tr>\n",
       "    <tr>\n",
       "      <th>1</th>\n",
       "      <td>1</td>\n",
       "      <td>1.102021e+12</td>\n",
       "      <td>1</td>\n",
       "      <td>12</td>\n",
       "      <td>City of Kigali</td>\n",
       "      <td>Nyarugenge</td>\n",
       "      <td>Kanyinya</td>\n",
       "      <td>Nzove</td>\n",
       "      <td>Ruyenzi</td>\n",
       "      <td>1.0</td>\n",
       "      <td>...</td>\n",
       "      <td>NaN</td>\n",
       "      <td>NaN</td>\n",
       "      <td>NaN</td>\n",
       "      <td>18/11/2016</td>\n",
       "      <td>10:23</td>\n",
       "      <td>18/11/2016</td>\n",
       "      <td>11:26</td>\n",
       "      <td>12</td>\n",
       "      <td>370.04202</td>\n",
       "      <td>Rural</td>\n",
       "    </tr>\n",
       "    <tr>\n",
       "      <th>2</th>\n",
       "      <td>2</td>\n",
       "      <td>1.102021e+12</td>\n",
       "      <td>1</td>\n",
       "      <td>12</td>\n",
       "      <td>City of Kigali</td>\n",
       "      <td>Nyarugenge</td>\n",
       "      <td>Kanyinya</td>\n",
       "      <td>Nzove</td>\n",
       "      <td>Ruyenzi</td>\n",
       "      <td>1.0</td>\n",
       "      <td>...</td>\n",
       "      <td>NaN</td>\n",
       "      <td>NaN</td>\n",
       "      <td>NaN</td>\n",
       "      <td>18/11/2016</td>\n",
       "      <td>11:32</td>\n",
       "      <td>18/11/2016</td>\n",
       "      <td>12:24</td>\n",
       "      <td>12</td>\n",
       "      <td>370.04202</td>\n",
       "      <td>Rural</td>\n",
       "    </tr>\n",
       "    <tr>\n",
       "      <th>3</th>\n",
       "      <td>3</td>\n",
       "      <td>1.102021e+12</td>\n",
       "      <td>1</td>\n",
       "      <td>12</td>\n",
       "      <td>City of Kigali</td>\n",
       "      <td>Nyarugenge</td>\n",
       "      <td>Kanyinya</td>\n",
       "      <td>Nzove</td>\n",
       "      <td>Ruyenzi</td>\n",
       "      <td>1.0</td>\n",
       "      <td>...</td>\n",
       "      <td>NaN</td>\n",
       "      <td>NaN</td>\n",
       "      <td>NaN</td>\n",
       "      <td>18/11/2016</td>\n",
       "      <td>10:30</td>\n",
       "      <td>18/11/2016</td>\n",
       "      <td>11:17</td>\n",
       "      <td>12</td>\n",
       "      <td>370.04202</td>\n",
       "      <td>Rural</td>\n",
       "    </tr>\n",
       "    <tr>\n",
       "      <th>4</th>\n",
       "      <td>4</td>\n",
       "      <td>1.102021e+12</td>\n",
       "      <td>1</td>\n",
       "      <td>12</td>\n",
       "      <td>City of Kigali</td>\n",
       "      <td>Nyarugenge</td>\n",
       "      <td>Kanyinya</td>\n",
       "      <td>Nzove</td>\n",
       "      <td>Ruyenzi</td>\n",
       "      <td>1.0</td>\n",
       "      <td>...</td>\n",
       "      <td>No</td>\n",
       "      <td>NaN</td>\n",
       "      <td>NaN</td>\n",
       "      <td>18/11/2016</td>\n",
       "      <td>10:14</td>\n",
       "      <td>18/11/2016</td>\n",
       "      <td>11:28</td>\n",
       "      <td>12</td>\n",
       "      <td>370.04202</td>\n",
       "      <td>Rural</td>\n",
       "    </tr>\n",
       "  </tbody>\n",
       "</table>\n",
       "<p>5 rows × 731 columns</p>\n",
       "</div>"
      ],
      "text/plain": [
       "   Unnamed: 0          HHID  Cluster  strata        Province    District  \\\n",
       "0           0  1.102021e+12        1      11  City of Kigali  Nyarugenge   \n",
       "1           1  1.102021e+12        1      12  City of Kigali  Nyarugenge   \n",
       "2           2  1.102021e+12        1      12  City of Kigali  Nyarugenge   \n",
       "3           3  1.102021e+12        1      12  City of Kigali  Nyarugenge   \n",
       "4           4  1.102021e+12        1      12  City of Kigali  Nyarugenge   \n",
       "\n",
       "     Sector Cellule  Village   B1  ...  T28 T28B  T28C  DATE_START  \\\n",
       "0  Kanyinya   Nzove  Ruyenzi  2.0  ...  NaN  NaN   NaN  18/11/2016   \n",
       "1  Kanyinya   Nzove  Ruyenzi  1.0  ...  NaN  NaN   NaN  18/11/2016   \n",
       "2  Kanyinya   Nzove  Ruyenzi  1.0  ...  NaN  NaN   NaN  18/11/2016   \n",
       "3  Kanyinya   Nzove  Ruyenzi  1.0  ...  NaN  NaN   NaN  18/11/2016   \n",
       "4  Kanyinya   Nzove  Ruyenzi  1.0  ...   No  NaN   NaN  18/11/2016   \n",
       "\n",
       "   TIME_START    DATE_END  TIME_END cluster  sample_weight  Locality  \n",
       "0       12:05  18/11/2016     12:49      11      476.61765     Rural  \n",
       "1       10:23  18/11/2016     11:26      12      370.04202     Rural  \n",
       "2       11:32  18/11/2016     12:24      12      370.04202     Rural  \n",
       "3       10:30  18/11/2016     11:17      12      370.04202     Rural  \n",
       "4       10:14  18/11/2016     11:28      12      370.04202     Rural  \n",
       "\n",
       "[5 rows x 731 columns]"
      ]
     },
     "execution_count": 2385,
     "metadata": {},
     "output_type": "execute_result"
    }
   ],
   "source": [
    "df.head()"
   ]
  },
  {
   "cell_type": "markdown",
   "metadata": {},
   "source": [
    "### Downloading csv file from dta format\n",
    "\n",
    "df.to_csv(\"Main_dataset.csv\")"
   ]
  },
  {
   "cell_type": "markdown",
   "metadata": {},
   "source": [
    "## Selecting the features for analysis"
   ]
  },
  {
   "cell_type": "markdown",
   "metadata": {},
   "source": [
    "## 1. Attribute: Capacity"
   ]
  },
  {
   "cell_type": "code",
   "execution_count": 2386,
   "metadata": {},
   "outputs": [],
   "source": [
    "df_cap= df[['C22']]"
   ]
  },
  {
   "cell_type": "code",
   "execution_count": 2387,
   "metadata": {
    "scrolled": false
   },
   "outputs": [
    {
     "name": "stdout",
     "output_type": "stream",
     "text": [
      "<class 'pandas.core.frame.DataFrame'>\n",
      "RangeIndex: 3295 entries, 0 to 3294\n",
      "Data columns (total 1 columns):\n",
      " #   Column  Non-Null Count  Dtype  \n",
      "---  ------  --------------  -----  \n",
      " 0   C22     1478 non-null   float64\n",
      "dtypes: float64(1)\n",
      "memory usage: 25.9 KB\n"
     ]
    }
   ],
   "source": [
    "df_cap.info()"
   ]
  },
  {
   "cell_type": "markdown",
   "metadata": {},
   "source": [
    "### Printing the new dataset"
   ]
  },
  {
   "cell_type": "code",
   "execution_count": 2388,
   "metadata": {},
   "outputs": [
    {
     "data": {
      "text/html": [
       "<div>\n",
       "<style scoped>\n",
       "    .dataframe tbody tr th:only-of-type {\n",
       "        vertical-align: middle;\n",
       "    }\n",
       "\n",
       "    .dataframe tbody tr th {\n",
       "        vertical-align: top;\n",
       "    }\n",
       "\n",
       "    .dataframe thead th {\n",
       "        text-align: right;\n",
       "    }\n",
       "</style>\n",
       "<table border=\"1\" class=\"dataframe\">\n",
       "  <thead>\n",
       "    <tr style=\"text-align: right;\">\n",
       "      <th></th>\n",
       "      <th>C22</th>\n",
       "    </tr>\n",
       "  </thead>\n",
       "  <tbody>\n",
       "    <tr>\n",
       "      <th>3290</th>\n",
       "      <td>NaN</td>\n",
       "    </tr>\n",
       "    <tr>\n",
       "      <th>3291</th>\n",
       "      <td>4.65</td>\n",
       "    </tr>\n",
       "    <tr>\n",
       "      <th>3292</th>\n",
       "      <td>6.05</td>\n",
       "    </tr>\n",
       "    <tr>\n",
       "      <th>3293</th>\n",
       "      <td>4.65</td>\n",
       "    </tr>\n",
       "    <tr>\n",
       "      <th>3294</th>\n",
       "      <td>NaN</td>\n",
       "    </tr>\n",
       "  </tbody>\n",
       "</table>\n",
       "</div>"
      ],
      "text/plain": [
       "       C22\n",
       "3290   NaN\n",
       "3291  4.65\n",
       "3292  6.05\n",
       "3293  4.65\n",
       "3294   NaN"
      ]
     },
     "execution_count": 2388,
     "metadata": {},
     "output_type": "execute_result"
    }
   ],
   "source": [
    "df_cap.tail()"
   ]
  },
  {
   "cell_type": "markdown",
   "metadata": {},
   "source": [
    "### Replacing NaN values with \"12345\" (random number) \n",
    "\n",
    "This is done to keep the missing values into analysis (As it is important to know how many missing values do we have)"
   ]
  },
  {
   "cell_type": "code",
   "execution_count": 2389,
   "metadata": {},
   "outputs": [],
   "source": [
    "df_cap[\"C22\"].fillna(12345, inplace = True) "
   ]
  },
  {
   "cell_type": "code",
   "execution_count": 2390,
   "metadata": {
    "scrolled": true
   },
   "outputs": [
    {
     "data": {
      "text/html": [
       "<div>\n",
       "<style scoped>\n",
       "    .dataframe tbody tr th:only-of-type {\n",
       "        vertical-align: middle;\n",
       "    }\n",
       "\n",
       "    .dataframe tbody tr th {\n",
       "        vertical-align: top;\n",
       "    }\n",
       "\n",
       "    .dataframe thead th {\n",
       "        text-align: right;\n",
       "    }\n",
       "</style>\n",
       "<table border=\"1\" class=\"dataframe\">\n",
       "  <thead>\n",
       "    <tr style=\"text-align: right;\">\n",
       "      <th></th>\n",
       "      <th>C22</th>\n",
       "    </tr>\n",
       "  </thead>\n",
       "  <tbody>\n",
       "    <tr>\n",
       "      <th>0</th>\n",
       "      <td>12345.0</td>\n",
       "    </tr>\n",
       "    <tr>\n",
       "      <th>1</th>\n",
       "      <td>12345.0</td>\n",
       "    </tr>\n",
       "    <tr>\n",
       "      <th>2</th>\n",
       "      <td>12345.0</td>\n",
       "    </tr>\n",
       "    <tr>\n",
       "      <th>3</th>\n",
       "      <td>12345.0</td>\n",
       "    </tr>\n",
       "    <tr>\n",
       "      <th>4</th>\n",
       "      <td>12345.0</td>\n",
       "    </tr>\n",
       "  </tbody>\n",
       "</table>\n",
       "</div>"
      ],
      "text/plain": [
       "       C22\n",
       "0  12345.0\n",
       "1  12345.0\n",
       "2  12345.0\n",
       "3  12345.0\n",
       "4  12345.0"
      ]
     },
     "execution_count": 2390,
     "metadata": {},
     "output_type": "execute_result"
    }
   ],
   "source": [
    "df_cap.head()"
   ]
  },
  {
   "cell_type": "code",
   "execution_count": 2391,
   "metadata": {},
   "outputs": [
    {
     "name": "stdout",
     "output_type": "stream",
     "text": [
      "<class 'pandas.core.frame.DataFrame'>\n",
      "RangeIndex: 3295 entries, 0 to 3294\n",
      "Data columns (total 1 columns):\n",
      " #   Column  Non-Null Count  Dtype  \n",
      "---  ------  --------------  -----  \n",
      " 0   C22     3295 non-null   float64\n",
      "dtypes: float64(1)\n",
      "memory usage: 25.9 KB\n"
     ]
    }
   ],
   "source": [
    "df_cap.info()"
   ]
  },
  {
   "cell_type": "markdown",
   "metadata": {},
   "source": [
    "### Adding column \"TIER\" to the dataset with respect to household's power consumption"
   ]
  },
  {
   "cell_type": "code",
   "execution_count": 2392,
   "metadata": {},
   "outputs": [],
   "source": [
    "def conditions(C22):\n",
    "    if C22 ==12345:\n",
    "        return \"Missing_data\"\n",
    "    elif C22<3:\n",
    "        return \"0\"\n",
    "    elif 3<=C22<50:\n",
    "        return \"1\"\n",
    "    elif 50<=C22<200:\n",
    "        return \"2\"\n",
    "    elif 200<=C22<800:\n",
    "        return \"3\"\n",
    "    elif 800<=C22<2000:\n",
    "        return \"4\"\n",
    "    else:\n",
    "        return \"5\"\n",
    "    \n",
    "func = np.vectorize(conditions)\n",
    "transform = func(df_cap.C22)\n",
    "df_cap[\"TIER\"] = transform"
   ]
  },
  {
   "cell_type": "code",
   "execution_count": 2393,
   "metadata": {
    "scrolled": true
   },
   "outputs": [
    {
     "data": {
      "text/html": [
       "<div>\n",
       "<style scoped>\n",
       "    .dataframe tbody tr th:only-of-type {\n",
       "        vertical-align: middle;\n",
       "    }\n",
       "\n",
       "    .dataframe tbody tr th {\n",
       "        vertical-align: top;\n",
       "    }\n",
       "\n",
       "    .dataframe thead th {\n",
       "        text-align: right;\n",
       "    }\n",
       "</style>\n",
       "<table border=\"1\" class=\"dataframe\">\n",
       "  <thead>\n",
       "    <tr style=\"text-align: right;\">\n",
       "      <th></th>\n",
       "      <th>C22</th>\n",
       "      <th>TIER</th>\n",
       "    </tr>\n",
       "  </thead>\n",
       "  <tbody>\n",
       "    <tr>\n",
       "      <th>0</th>\n",
       "      <td>12345.0</td>\n",
       "      <td>Missing_data</td>\n",
       "    </tr>\n",
       "    <tr>\n",
       "      <th>1</th>\n",
       "      <td>12345.0</td>\n",
       "      <td>Missing_data</td>\n",
       "    </tr>\n",
       "    <tr>\n",
       "      <th>2</th>\n",
       "      <td>12345.0</td>\n",
       "      <td>Missing_data</td>\n",
       "    </tr>\n",
       "    <tr>\n",
       "      <th>3</th>\n",
       "      <td>12345.0</td>\n",
       "      <td>Missing_data</td>\n",
       "    </tr>\n",
       "    <tr>\n",
       "      <th>4</th>\n",
       "      <td>12345.0</td>\n",
       "      <td>Missing_data</td>\n",
       "    </tr>\n",
       "  </tbody>\n",
       "</table>\n",
       "</div>"
      ],
      "text/plain": [
       "       C22          TIER\n",
       "0  12345.0  Missing_data\n",
       "1  12345.0  Missing_data\n",
       "2  12345.0  Missing_data\n",
       "3  12345.0  Missing_data\n",
       "4  12345.0  Missing_data"
      ]
     },
     "execution_count": 2393,
     "metadata": {},
     "output_type": "execute_result"
    }
   ],
   "source": [
    "df_cap.head()"
   ]
  },
  {
   "cell_type": "markdown",
   "metadata": {},
   "source": [
    "### Printing the TIER counts"
   ]
  },
  {
   "cell_type": "code",
   "execution_count": 2394,
   "metadata": {
    "scrolled": true
   },
   "outputs": [
    {
     "data": {
      "text/plain": [
       "Missing_data    1817\n",
       "1               1227\n",
       "0                143\n",
       "2                103\n",
       "3                  5\n",
       "Name: TIER, dtype: int64"
      ]
     },
     "execution_count": 2394,
     "metadata": {},
     "output_type": "execute_result"
    }
   ],
   "source": [
    "df_cap['TIER'].value_counts()"
   ]
  },
  {
   "cell_type": "markdown",
   "metadata": {},
   "source": [
    "### Visualizing the TIER levels "
   ]
  },
  {
   "cell_type": "code",
   "execution_count": 2395,
   "metadata": {
    "scrolled": false
   },
   "outputs": [
    {
     "data": {
      "text/plain": [
       "Text(0.5, 1.0, 'TIER levels based on power capacity')"
      ]
     },
     "execution_count": 2395,
     "metadata": {},
     "output_type": "execute_result"
    },
    {
     "data": {
      "image/png": "[encoded data removed]",
      "text/plain": [
       "<Figure size 432x288 with 1 Axes>"
      ]
     },
     "metadata": {},
     "output_type": "display_data"
    }
   ],
   "source": [
    "df_cap.TIER.value_counts().plot(kind='pie')\n",
    "plt.axis('equal')\n",
    "plt.title('TIER levels based on power capacity')"
   ]
  },
  {
   "cell_type": "markdown",
   "metadata": {},
   "source": [
    "## 2. Attribute: Availabilty (Day)"
   ]
  },
  {
   "cell_type": "markdown",
   "metadata": {},
   "source": [
    "Methodology:\n",
    "\n",
    "To understand the attribute more carefully, two columns have been taekn into consideration, C26A and C26B; \n",
    "* C26A represents the hours of electricity available each day and night from the grid in the worst months. \n",
    "* Whereas, C26B represents the hours of electricity available each day and nightfrom the grid in the actual months."
   ]
  },
  {
   "cell_type": "code",
   "execution_count": 2396,
   "metadata": {},
   "outputs": [],
   "source": [
    "df_av= df[['C26A','C26B']]"
   ]
  },
  {
   "cell_type": "code",
   "execution_count": 2397,
   "metadata": {
    "scrolled": true
   },
   "outputs": [
    {
     "data": {
      "text/html": [
       "<div>\n",
       "<style scoped>\n",
       "    .dataframe tbody tr th:only-of-type {\n",
       "        vertical-align: middle;\n",
       "    }\n",
       "\n",
       "    .dataframe tbody tr th {\n",
       "        vertical-align: top;\n",
       "    }\n",
       "\n",
       "    .dataframe thead th {\n",
       "        text-align: right;\n",
       "    }\n",
       "</style>\n",
       "<table border=\"1\" class=\"dataframe\">\n",
       "  <thead>\n",
       "    <tr style=\"text-align: right;\">\n",
       "      <th></th>\n",
       "      <th>C26A</th>\n",
       "      <th>C26B</th>\n",
       "    </tr>\n",
       "  </thead>\n",
       "  <tbody>\n",
       "    <tr>\n",
       "      <th>3290</th>\n",
       "      <td>NaN</td>\n",
       "      <td>NaN</td>\n",
       "    </tr>\n",
       "    <tr>\n",
       "      <th>3291</th>\n",
       "      <td>13.0</td>\n",
       "      <td>18.0</td>\n",
       "    </tr>\n",
       "    <tr>\n",
       "      <th>3292</th>\n",
       "      <td>19.0</td>\n",
       "      <td>24.0</td>\n",
       "    </tr>\n",
       "    <tr>\n",
       "      <th>3293</th>\n",
       "      <td>NaN</td>\n",
       "      <td>23.0</td>\n",
       "    </tr>\n",
       "    <tr>\n",
       "      <th>3294</th>\n",
       "      <td>NaN</td>\n",
       "      <td>NaN</td>\n",
       "    </tr>\n",
       "  </tbody>\n",
       "</table>\n",
       "</div>"
      ],
      "text/plain": [
       "      C26A  C26B\n",
       "3290   NaN   NaN\n",
       "3291  13.0  18.0\n",
       "3292  19.0  24.0\n",
       "3293   NaN  23.0\n",
       "3294   NaN   NaN"
      ]
     },
     "execution_count": 2397,
     "metadata": {},
     "output_type": "execute_result"
    }
   ],
   "source": [
    "df_av.tail()"
   ]
  },
  {
   "cell_type": "code",
   "execution_count": 2398,
   "metadata": {
    "scrolled": true
   },
   "outputs": [
    {
     "name": "stdout",
     "output_type": "stream",
     "text": [
      "<class 'pandas.core.frame.DataFrame'>\n",
      "RangeIndex: 3295 entries, 0 to 3294\n",
      "Data columns (total 2 columns):\n",
      " #   Column  Non-Null Count  Dtype \n",
      "---  ------  --------------  ----- \n",
      " 0   C26A    652 non-null    object\n",
      " 1   C26B    1591 non-null   object\n",
      "dtypes: object(2)\n",
      "memory usage: 51.6+ KB\n"
     ]
    }
   ],
   "source": [
    "df_av.info()"
   ]
  },
  {
   "cell_type": "markdown",
   "metadata": {},
   "source": [
    "## Calculation\n",
    "\n",
    "In this step a new column \"C26A_new\" hasbeen formed. For this column, the values from column \"C26A, worst months\" has been taken as the main source of analysis and any missing information (missing value of a household) for this column has been taken from the column \"C26B, actual months\". This is done because the world bank group considers worst situation for analysis. "
   ]
  },
  {
   "cell_type": "code",
   "execution_count": 2399,
   "metadata": {},
   "outputs": [],
   "source": [
    "df_av['C26A_new'] = df_av.C26A.fillna(value=df_av.C26B)"
   ]
  },
  {
   "cell_type": "code",
   "execution_count": 2400,
   "metadata": {},
   "outputs": [
    {
     "data": {
      "text/html": [
       "<div>\n",
       "<style scoped>\n",
       "    .dataframe tbody tr th:only-of-type {\n",
       "        vertical-align: middle;\n",
       "    }\n",
       "\n",
       "    .dataframe tbody tr th {\n",
       "        vertical-align: top;\n",
       "    }\n",
       "\n",
       "    .dataframe thead th {\n",
       "        text-align: right;\n",
       "    }\n",
       "</style>\n",
       "<table border=\"1\" class=\"dataframe\">\n",
       "  <thead>\n",
       "    <tr style=\"text-align: right;\">\n",
       "      <th></th>\n",
       "      <th>C26A</th>\n",
       "      <th>C26B</th>\n",
       "      <th>C26A_new</th>\n",
       "    </tr>\n",
       "  </thead>\n",
       "  <tbody>\n",
       "    <tr>\n",
       "      <th>3290</th>\n",
       "      <td>NaN</td>\n",
       "      <td>NaN</td>\n",
       "      <td>NaN</td>\n",
       "    </tr>\n",
       "    <tr>\n",
       "      <th>3291</th>\n",
       "      <td>13.0</td>\n",
       "      <td>18.0</td>\n",
       "      <td>13.0</td>\n",
       "    </tr>\n",
       "    <tr>\n",
       "      <th>3292</th>\n",
       "      <td>19.0</td>\n",
       "      <td>24.0</td>\n",
       "      <td>19.0</td>\n",
       "    </tr>\n",
       "    <tr>\n",
       "      <th>3293</th>\n",
       "      <td>NaN</td>\n",
       "      <td>23.0</td>\n",
       "      <td>23.0</td>\n",
       "    </tr>\n",
       "    <tr>\n",
       "      <th>3294</th>\n",
       "      <td>NaN</td>\n",
       "      <td>NaN</td>\n",
       "      <td>NaN</td>\n",
       "    </tr>\n",
       "  </tbody>\n",
       "</table>\n",
       "</div>"
      ],
      "text/plain": [
       "      C26A  C26B C26A_new\n",
       "3290   NaN   NaN      NaN\n",
       "3291  13.0  18.0     13.0\n",
       "3292  19.0  24.0     19.0\n",
       "3293   NaN  23.0     23.0\n",
       "3294   NaN   NaN      NaN"
      ]
     },
     "execution_count": 2400,
     "metadata": {},
     "output_type": "execute_result"
    }
   ],
   "source": [
    "df_av.tail()"
   ]
  },
  {
   "cell_type": "code",
   "execution_count": 2401,
   "metadata": {
    "scrolled": true
   },
   "outputs": [
    {
     "name": "stdout",
     "output_type": "stream",
     "text": [
      "<class 'pandas.core.frame.DataFrame'>\n",
      "RangeIndex: 3295 entries, 0 to 3294\n",
      "Data columns (total 3 columns):\n",
      " #   Column    Non-Null Count  Dtype \n",
      "---  ------    --------------  ----- \n",
      " 0   C26A      652 non-null    object\n",
      " 1   C26B      1591 non-null   object\n",
      " 2   C26A_new  1591 non-null   object\n",
      "dtypes: object(3)\n",
      "memory usage: 77.4+ KB\n"
     ]
    }
   ],
   "source": [
    "df_av.info()"
   ]
  },
  {
   "cell_type": "code",
   "execution_count": 2402,
   "metadata": {},
   "outputs": [
    {
     "data": {
      "text/plain": [
       "24.0          269\n",
       "22.0          232\n",
       "23.0          217\n",
       "20.0          199\n",
       "Don't know    189\n",
       "12.0           70\n",
       "21.0           59\n",
       "15.0           50\n",
       "18.0           46\n",
       "10.0           31\n",
       "6.0            28\n",
       "2.0            24\n",
       "5.0            23\n",
       "19.0           22\n",
       "3.0            21\n",
       "16.0           17\n",
       "4.0            15\n",
       "1.0            15\n",
       "17.0           14\n",
       "14.0           13\n",
       "8.0            12\n",
       "13.0           10\n",
       "11.0            7\n",
       "7.0             5\n",
       "9.0             3\n",
       "Name: C26A_new, dtype: int64"
      ]
     },
     "execution_count": 2402,
     "metadata": {},
     "output_type": "execute_result"
    }
   ],
   "source": [
    "df_av['C26A_new'].value_counts()"
   ]
  },
  {
   "cell_type": "markdown",
   "metadata": {},
   "source": [
    "### Replacing NaN and \"Don't know\" values with \"12345\" (random number) \n",
    "\n",
    "This is done to keep the missing values into analysis (As it is important to know how many missing values do we have)"
   ]
  },
  {
   "cell_type": "code",
   "execution_count": 2403,
   "metadata": {},
   "outputs": [],
   "source": [
    "df_av[\"C26A_new\"].fillna(12345, inplace = True) "
   ]
  },
  {
   "cell_type": "code",
   "execution_count": 2404,
   "metadata": {},
   "outputs": [],
   "source": [
    "df_av=df_av.replace(to_replace=\"Don't know\",value=12345)"
   ]
  },
  {
   "cell_type": "code",
   "execution_count": 2405,
   "metadata": {
    "scrolled": true
   },
   "outputs": [
    {
     "data": {
      "text/html": [
       "<div>\n",
       "<style scoped>\n",
       "    .dataframe tbody tr th:only-of-type {\n",
       "        vertical-align: middle;\n",
       "    }\n",
       "\n",
       "    .dataframe tbody tr th {\n",
       "        vertical-align: top;\n",
       "    }\n",
       "\n",
       "    .dataframe thead th {\n",
       "        text-align: right;\n",
       "    }\n",
       "</style>\n",
       "<table border=\"1\" class=\"dataframe\">\n",
       "  <thead>\n",
       "    <tr style=\"text-align: right;\">\n",
       "      <th></th>\n",
       "      <th>C26A</th>\n",
       "      <th>C26B</th>\n",
       "      <th>C26A_new</th>\n",
       "    </tr>\n",
       "  </thead>\n",
       "  <tbody>\n",
       "    <tr>\n",
       "      <th>3290</th>\n",
       "      <td>NaN</td>\n",
       "      <td>NaN</td>\n",
       "      <td>12345</td>\n",
       "    </tr>\n",
       "    <tr>\n",
       "      <th>3291</th>\n",
       "      <td>13.0</td>\n",
       "      <td>18.0</td>\n",
       "      <td>13.0</td>\n",
       "    </tr>\n",
       "    <tr>\n",
       "      <th>3292</th>\n",
       "      <td>19.0</td>\n",
       "      <td>24.0</td>\n",
       "      <td>19.0</td>\n",
       "    </tr>\n",
       "    <tr>\n",
       "      <th>3293</th>\n",
       "      <td>NaN</td>\n",
       "      <td>23.0</td>\n",
       "      <td>23.0</td>\n",
       "    </tr>\n",
       "    <tr>\n",
       "      <th>3294</th>\n",
       "      <td>NaN</td>\n",
       "      <td>NaN</td>\n",
       "      <td>12345</td>\n",
       "    </tr>\n",
       "  </tbody>\n",
       "</table>\n",
       "</div>"
      ],
      "text/plain": [
       "      C26A  C26B C26A_new\n",
       "3290   NaN   NaN    12345\n",
       "3291  13.0  18.0     13.0\n",
       "3292  19.0  24.0     19.0\n",
       "3293   NaN  23.0     23.0\n",
       "3294   NaN   NaN    12345"
      ]
     },
     "execution_count": 2405,
     "metadata": {},
     "output_type": "execute_result"
    }
   ],
   "source": [
    "df_av.tail()"
   ]
  },
  {
   "cell_type": "code",
   "execution_count": 2406,
   "metadata": {
    "scrolled": true
   },
   "outputs": [
    {
     "name": "stdout",
     "output_type": "stream",
     "text": [
      "<class 'pandas.core.frame.DataFrame'>\n",
      "RangeIndex: 3295 entries, 0 to 3294\n",
      "Data columns (total 3 columns):\n",
      " #   Column    Non-Null Count  Dtype \n",
      "---  ------    --------------  ----- \n",
      " 0   C26A      652 non-null    object\n",
      " 1   C26B      1591 non-null   object\n",
      " 2   C26A_new  3295 non-null   object\n",
      "dtypes: object(3)\n",
      "memory usage: 77.4+ KB\n"
     ]
    }
   ],
   "source": [
    "df_av.info()"
   ]
  },
  {
   "cell_type": "markdown",
   "metadata": {},
   "source": [
    "### Converting coulmn C26A_new from Dtype: Object to Dtype: Float"
   ]
  },
  {
   "cell_type": "code",
   "execution_count": 2407,
   "metadata": {},
   "outputs": [],
   "source": [
    "df_av[\"C26A_new\"] = pd.to_numeric(df_av[\"C26A_new\"])"
   ]
  },
  {
   "cell_type": "code",
   "execution_count": 2408,
   "metadata": {},
   "outputs": [
    {
     "name": "stdout",
     "output_type": "stream",
     "text": [
      "<class 'pandas.core.frame.DataFrame'>\n",
      "RangeIndex: 3295 entries, 0 to 3294\n",
      "Data columns (total 3 columns):\n",
      " #   Column    Non-Null Count  Dtype  \n",
      "---  ------    --------------  -----  \n",
      " 0   C26A      652 non-null    object \n",
      " 1   C26B      1591 non-null   object \n",
      " 2   C26A_new  3295 non-null   float64\n",
      "dtypes: float64(1), object(2)\n",
      "memory usage: 77.4+ KB\n"
     ]
    }
   ],
   "source": [
    "df_av.info()"
   ]
  },
  {
   "cell_type": "markdown",
   "metadata": {},
   "source": [
    "### Adding column \"AVAILABILITY\" to the dataset with respect to household's daily consumption"
   ]
  },
  {
   "cell_type": "code",
   "execution_count": 2409,
   "metadata": {},
   "outputs": [],
   "source": [
    "# AVAILABILITY: Day\n",
    "#Note: conditions for TIER 1 and 2 are the same\n",
    "\n",
    "def conditions(C26A_new):\n",
    "    if C26A_new ==12345:\n",
    "        return \"Missing_data\"\n",
    "    elif C26A_new<4:\n",
    "        return \"0\"\n",
    "    elif 4<=C26A_new<8:\n",
    "        return \"1&2\"\n",
    "    elif 8<=C26A_new<16:\n",
    "        return \"3\"\n",
    "    elif 16<=C26A_new<23:\n",
    "        return \"4\"\n",
    "    else:\n",
    "        return \"5\"\n",
    "    \n",
    "func = np.vectorize(conditions)\n",
    "transform = func(df_av.C26A_new)\n",
    "df_av[\"AVAILABILITY_DAY\"] = transform"
   ]
  },
  {
   "cell_type": "code",
   "execution_count": 2410,
   "metadata": {},
   "outputs": [
    {
     "data": {
      "text/html": [
       "<div>\n",
       "<style scoped>\n",
       "    .dataframe tbody tr th:only-of-type {\n",
       "        vertical-align: middle;\n",
       "    }\n",
       "\n",
       "    .dataframe tbody tr th {\n",
       "        vertical-align: top;\n",
       "    }\n",
       "\n",
       "    .dataframe thead th {\n",
       "        text-align: right;\n",
       "    }\n",
       "</style>\n",
       "<table border=\"1\" class=\"dataframe\">\n",
       "  <thead>\n",
       "    <tr style=\"text-align: right;\">\n",
       "      <th></th>\n",
       "      <th>C26A</th>\n",
       "      <th>C26B</th>\n",
       "      <th>C26A_new</th>\n",
       "      <th>AVAILABILITY_DAY</th>\n",
       "    </tr>\n",
       "  </thead>\n",
       "  <tbody>\n",
       "    <tr>\n",
       "      <th>3290</th>\n",
       "      <td>NaN</td>\n",
       "      <td>NaN</td>\n",
       "      <td>12345.0</td>\n",
       "      <td>Missing_data</td>\n",
       "    </tr>\n",
       "    <tr>\n",
       "      <th>3291</th>\n",
       "      <td>13.0</td>\n",
       "      <td>18.0</td>\n",
       "      <td>13.0</td>\n",
       "      <td>3</td>\n",
       "    </tr>\n",
       "    <tr>\n",
       "      <th>3292</th>\n",
       "      <td>19.0</td>\n",
       "      <td>24.0</td>\n",
       "      <td>19.0</td>\n",
       "      <td>4</td>\n",
       "    </tr>\n",
       "    <tr>\n",
       "      <th>3293</th>\n",
       "      <td>NaN</td>\n",
       "      <td>23.0</td>\n",
       "      <td>23.0</td>\n",
       "      <td>5</td>\n",
       "    </tr>\n",
       "    <tr>\n",
       "      <th>3294</th>\n",
       "      <td>NaN</td>\n",
       "      <td>NaN</td>\n",
       "      <td>12345.0</td>\n",
       "      <td>Missing_data</td>\n",
       "    </tr>\n",
       "  </tbody>\n",
       "</table>\n",
       "</div>"
      ],
      "text/plain": [
       "      C26A  C26B  C26A_new AVAILABILITY_DAY\n",
       "3290   NaN   NaN   12345.0     Missing_data\n",
       "3291  13.0  18.0      13.0                3\n",
       "3292  19.0  24.0      19.0                4\n",
       "3293   NaN  23.0      23.0                5\n",
       "3294   NaN   NaN   12345.0     Missing_data"
      ]
     },
     "execution_count": 2410,
     "metadata": {},
     "output_type": "execute_result"
    }
   ],
   "source": [
    "df_av.tail()"
   ]
  },
  {
   "cell_type": "code",
   "execution_count": 2411,
   "metadata": {},
   "outputs": [
    {
     "data": {
      "text/plain": [
       "Missing_data    1893\n",
       "4                589\n",
       "5                486\n",
       "3                196\n",
       "1&2               71\n",
       "0                 60\n",
       "Name: AVAILABILITY_DAY, dtype: int64"
      ]
     },
     "execution_count": 2411,
     "metadata": {},
     "output_type": "execute_result"
    }
   ],
   "source": [
    "df_av['AVAILABILITY_DAY'].value_counts()"
   ]
  },
  {
   "cell_type": "markdown",
   "metadata": {},
   "source": [
    "### Visualizing the TIER levels "
   ]
  },
  {
   "cell_type": "code",
   "execution_count": 2412,
   "metadata": {},
   "outputs": [
    {
     "data": {
      "text/plain": [
       "Text(0.5, 1.0, 'TIER levels based on electricity availability')"
      ]
     },
     "execution_count": 2412,
     "metadata": {},
     "output_type": "execute_result"
    },
    {
     "data": {
      "image/png": "[encoded data removed]",
      "text/plain": [
       "<Figure size 432x288 with 1 Axes>"
      ]
     },
     "metadata": {},
     "output_type": "display_data"
    }
   ],
   "source": [
    "df_av.AVAILABILITY_DAY.value_counts().plot(kind='pie')\n",
    "plt.axis('equal')\n",
    "plt.title('TIER levels based on electricity availability')"
   ]
  },
  {
   "cell_type": "markdown",
   "metadata": {},
   "source": [
    "## 2. Attribute: Availabilty (Evening)\n",
    "\n",
    "Methodology:\n",
    "\n",
    "To understand the attribute more carefully, two columns have been taekn into consideration, C27A and C27B; \n",
    "* C27A represents the hours of electricity available each evening from the grid in the worst months. \n",
    "* Whereas, C27B represents the hours of electricity available each evening from the grid in the actual months."
   ]
  },
  {
   "cell_type": "code",
   "execution_count": 2413,
   "metadata": {},
   "outputs": [],
   "source": [
    "df_ave= df[['C27A','C27B']]"
   ]
  },
  {
   "cell_type": "code",
   "execution_count": 2414,
   "metadata": {},
   "outputs": [
    {
     "data": {
      "text/html": [
       "<div>\n",
       "<style scoped>\n",
       "    .dataframe tbody tr th:only-of-type {\n",
       "        vertical-align: middle;\n",
       "    }\n",
       "\n",
       "    .dataframe tbody tr th {\n",
       "        vertical-align: top;\n",
       "    }\n",
       "\n",
       "    .dataframe thead th {\n",
       "        text-align: right;\n",
       "    }\n",
       "</style>\n",
       "<table border=\"1\" class=\"dataframe\">\n",
       "  <thead>\n",
       "    <tr style=\"text-align: right;\">\n",
       "      <th></th>\n",
       "      <th>C27A</th>\n",
       "      <th>C27B</th>\n",
       "    </tr>\n",
       "  </thead>\n",
       "  <tbody>\n",
       "    <tr>\n",
       "      <th>3290</th>\n",
       "      <td>NaN</td>\n",
       "      <td>NaN</td>\n",
       "    </tr>\n",
       "    <tr>\n",
       "      <th>3291</th>\n",
       "      <td>2.0</td>\n",
       "      <td>4.0</td>\n",
       "    </tr>\n",
       "    <tr>\n",
       "      <th>3292</th>\n",
       "      <td>1.0</td>\n",
       "      <td>4.0</td>\n",
       "    </tr>\n",
       "    <tr>\n",
       "      <th>3293</th>\n",
       "      <td>NaN</td>\n",
       "      <td>4.0</td>\n",
       "    </tr>\n",
       "    <tr>\n",
       "      <th>3294</th>\n",
       "      <td>NaN</td>\n",
       "      <td>NaN</td>\n",
       "    </tr>\n",
       "  </tbody>\n",
       "</table>\n",
       "</div>"
      ],
      "text/plain": [
       "     C27A C27B\n",
       "3290  NaN  NaN\n",
       "3291  2.0  4.0\n",
       "3292  1.0  4.0\n",
       "3293  NaN  4.0\n",
       "3294  NaN  NaN"
      ]
     },
     "execution_count": 2414,
     "metadata": {},
     "output_type": "execute_result"
    }
   ],
   "source": [
    "df_ave.tail()"
   ]
  },
  {
   "cell_type": "code",
   "execution_count": 2415,
   "metadata": {},
   "outputs": [
    {
     "name": "stdout",
     "output_type": "stream",
     "text": [
      "<class 'pandas.core.frame.DataFrame'>\n",
      "RangeIndex: 3295 entries, 0 to 3294\n",
      "Data columns (total 2 columns):\n",
      " #   Column  Non-Null Count  Dtype \n",
      "---  ------  --------------  ----- \n",
      " 0   C27A    652 non-null    object\n",
      " 1   C27B    1591 non-null   object\n",
      "dtypes: object(2)\n",
      "memory usage: 51.6+ KB\n"
     ]
    }
   ],
   "source": [
    "df_ave.info()"
   ]
  },
  {
   "cell_type": "markdown",
   "metadata": {},
   "source": [
    "## Calculation\n",
    "\n",
    "In this step a new column \"C27A_new\" hasbeen formed. For this column, the values from column \"C27A, worst months\" has been taken as the main source of analysis and any missing information (missing value of a household) for this column has been taken from the column \"C27B, actual months\". This is done because the world bank group considers worst situation for analysis. "
   ]
  },
  {
   "cell_type": "code",
   "execution_count": 2416,
   "metadata": {},
   "outputs": [],
   "source": [
    "df_ave['C27A_new'] = df_ave.C27A.fillna(value=df_ave.C27B)"
   ]
  },
  {
   "cell_type": "code",
   "execution_count": 2417,
   "metadata": {},
   "outputs": [
    {
     "data": {
      "text/html": [
       "<div>\n",
       "<style scoped>\n",
       "    .dataframe tbody tr th:only-of-type {\n",
       "        vertical-align: middle;\n",
       "    }\n",
       "\n",
       "    .dataframe tbody tr th {\n",
       "        vertical-align: top;\n",
       "    }\n",
       "\n",
       "    .dataframe thead th {\n",
       "        text-align: right;\n",
       "    }\n",
       "</style>\n",
       "<table border=\"1\" class=\"dataframe\">\n",
       "  <thead>\n",
       "    <tr style=\"text-align: right;\">\n",
       "      <th></th>\n",
       "      <th>C27A</th>\n",
       "      <th>C27B</th>\n",
       "      <th>C27A_new</th>\n",
       "    </tr>\n",
       "  </thead>\n",
       "  <tbody>\n",
       "    <tr>\n",
       "      <th>3290</th>\n",
       "      <td>NaN</td>\n",
       "      <td>NaN</td>\n",
       "      <td>NaN</td>\n",
       "    </tr>\n",
       "    <tr>\n",
       "      <th>3291</th>\n",
       "      <td>2.0</td>\n",
       "      <td>4.0</td>\n",
       "      <td>2.0</td>\n",
       "    </tr>\n",
       "    <tr>\n",
       "      <th>3292</th>\n",
       "      <td>1.0</td>\n",
       "      <td>4.0</td>\n",
       "      <td>1.0</td>\n",
       "    </tr>\n",
       "    <tr>\n",
       "      <th>3293</th>\n",
       "      <td>NaN</td>\n",
       "      <td>4.0</td>\n",
       "      <td>4.0</td>\n",
       "    </tr>\n",
       "    <tr>\n",
       "      <th>3294</th>\n",
       "      <td>NaN</td>\n",
       "      <td>NaN</td>\n",
       "      <td>NaN</td>\n",
       "    </tr>\n",
       "  </tbody>\n",
       "</table>\n",
       "</div>"
      ],
      "text/plain": [
       "     C27A C27B C27A_new\n",
       "3290  NaN  NaN      NaN\n",
       "3291  2.0  4.0      2.0\n",
       "3292  1.0  4.0      1.0\n",
       "3293  NaN  4.0      4.0\n",
       "3294  NaN  NaN      NaN"
      ]
     },
     "execution_count": 2417,
     "metadata": {},
     "output_type": "execute_result"
    }
   ],
   "source": [
    "df_ave.tail()"
   ]
  },
  {
   "cell_type": "code",
   "execution_count": 2418,
   "metadata": {},
   "outputs": [
    {
     "name": "stdout",
     "output_type": "stream",
     "text": [
      "<class 'pandas.core.frame.DataFrame'>\n",
      "RangeIndex: 3295 entries, 0 to 3294\n",
      "Data columns (total 3 columns):\n",
      " #   Column    Non-Null Count  Dtype \n",
      "---  ------    --------------  ----- \n",
      " 0   C27A      652 non-null    object\n",
      " 1   C27B      1591 non-null   object\n",
      " 2   C27A_new  1591 non-null   object\n",
      "dtypes: object(3)\n",
      "memory usage: 77.4+ KB\n"
     ]
    }
   ],
   "source": [
    "df_ave.info()"
   ]
  },
  {
   "cell_type": "code",
   "execution_count": 2419,
   "metadata": {},
   "outputs": [
    {
     "data": {
      "text/plain": [
       "2.0           212\n",
       "3.0           199\n",
       "4.0            98\n",
       "1.0            91\n",
       "Don't know     52\n",
       "Name: C27A, dtype: int64"
      ]
     },
     "execution_count": 2419,
     "metadata": {},
     "output_type": "execute_result"
    }
   ],
   "source": [
    "df_ave['C27A'].value_counts()"
   ]
  },
  {
   "cell_type": "markdown",
   "metadata": {},
   "source": [
    "### Replacing NaN and \"Don't know\" values with \"12345\" (random number) \n",
    "\n",
    "This is done to keep the missing values into analysis (As it is important to know how many missing values do we have)"
   ]
  },
  {
   "cell_type": "code",
   "execution_count": 2420,
   "metadata": {},
   "outputs": [],
   "source": [
    "df_ave[\"C27A_new\"].fillna(12345, inplace = True) "
   ]
  },
  {
   "cell_type": "code",
   "execution_count": 2421,
   "metadata": {},
   "outputs": [],
   "source": [
    "df_ave=df_ave.replace(to_replace=\"Don't know\",value=12345)"
   ]
  },
  {
   "cell_type": "code",
   "execution_count": 2422,
   "metadata": {},
   "outputs": [
    {
     "data": {
      "text/html": [
       "<div>\n",
       "<style scoped>\n",
       "    .dataframe tbody tr th:only-of-type {\n",
       "        vertical-align: middle;\n",
       "    }\n",
       "\n",
       "    .dataframe tbody tr th {\n",
       "        vertical-align: top;\n",
       "    }\n",
       "\n",
       "    .dataframe thead th {\n",
       "        text-align: right;\n",
       "    }\n",
       "</style>\n",
       "<table border=\"1\" class=\"dataframe\">\n",
       "  <thead>\n",
       "    <tr style=\"text-align: right;\">\n",
       "      <th></th>\n",
       "      <th>C27A</th>\n",
       "      <th>C27B</th>\n",
       "      <th>C27A_new</th>\n",
       "    </tr>\n",
       "  </thead>\n",
       "  <tbody>\n",
       "    <tr>\n",
       "      <th>3290</th>\n",
       "      <td>NaN</td>\n",
       "      <td>NaN</td>\n",
       "      <td>12345</td>\n",
       "    </tr>\n",
       "    <tr>\n",
       "      <th>3291</th>\n",
       "      <td>2.0</td>\n",
       "      <td>4.0</td>\n",
       "      <td>2.0</td>\n",
       "    </tr>\n",
       "    <tr>\n",
       "      <th>3292</th>\n",
       "      <td>1.0</td>\n",
       "      <td>4.0</td>\n",
       "      <td>1.0</td>\n",
       "    </tr>\n",
       "    <tr>\n",
       "      <th>3293</th>\n",
       "      <td>NaN</td>\n",
       "      <td>4.0</td>\n",
       "      <td>4.0</td>\n",
       "    </tr>\n",
       "    <tr>\n",
       "      <th>3294</th>\n",
       "      <td>NaN</td>\n",
       "      <td>NaN</td>\n",
       "      <td>12345</td>\n",
       "    </tr>\n",
       "  </tbody>\n",
       "</table>\n",
       "</div>"
      ],
      "text/plain": [
       "     C27A C27B C27A_new\n",
       "3290  NaN  NaN    12345\n",
       "3291  2.0  4.0      2.0\n",
       "3292  1.0  4.0      1.0\n",
       "3293  NaN  4.0      4.0\n",
       "3294  NaN  NaN    12345"
      ]
     },
     "execution_count": 2422,
     "metadata": {},
     "output_type": "execute_result"
    }
   ],
   "source": [
    "df_ave.tail()"
   ]
  },
  {
   "cell_type": "code",
   "execution_count": 2423,
   "metadata": {},
   "outputs": [
    {
     "name": "stdout",
     "output_type": "stream",
     "text": [
      "<class 'pandas.core.frame.DataFrame'>\n",
      "RangeIndex: 3295 entries, 0 to 3294\n",
      "Data columns (total 3 columns):\n",
      " #   Column    Non-Null Count  Dtype \n",
      "---  ------    --------------  ----- \n",
      " 0   C27A      652 non-null    object\n",
      " 1   C27B      1591 non-null   object\n",
      " 2   C27A_new  3295 non-null   object\n",
      "dtypes: object(3)\n",
      "memory usage: 77.4+ KB\n"
     ]
    }
   ],
   "source": [
    "df_ave.info()"
   ]
  },
  {
   "cell_type": "markdown",
   "metadata": {},
   "source": [
    "### Converting coulmn C27A_new from Dtype: Object to Dtype: Float"
   ]
  },
  {
   "cell_type": "code",
   "execution_count": 2424,
   "metadata": {},
   "outputs": [],
   "source": [
    "df_ave[\"C27A_new\"] = pd.to_numeric(df_ave[\"C27A_new\"])"
   ]
  },
  {
   "cell_type": "code",
   "execution_count": 2425,
   "metadata": {},
   "outputs": [
    {
     "name": "stdout",
     "output_type": "stream",
     "text": [
      "<class 'pandas.core.frame.DataFrame'>\n",
      "RangeIndex: 3295 entries, 0 to 3294\n",
      "Data columns (total 3 columns):\n",
      " #   Column    Non-Null Count  Dtype  \n",
      "---  ------    --------------  -----  \n",
      " 0   C27A      652 non-null    object \n",
      " 1   C27B      1591 non-null   object \n",
      " 2   C27A_new  3295 non-null   float64\n",
      "dtypes: float64(1), object(2)\n",
      "memory usage: 77.4+ KB\n"
     ]
    }
   ],
   "source": [
    "df_ave.info()"
   ]
  },
  {
   "cell_type": "markdown",
   "metadata": {},
   "source": [
    "### Adding column \"AVAILABILITY\" to the dataset with respect to household's evening consumption"
   ]
  },
  {
   "cell_type": "code",
   "execution_count": 2426,
   "metadata": {},
   "outputs": [],
   "source": [
    "# AVAILABILITY: Evening\n",
    "#Note: conditions for TIER 4 and 5 are the same\n",
    "\n",
    "\n",
    "def conditions(C27A_new):\n",
    "    if C27A_new ==12345:\n",
    "        return \"Missing_data\"\n",
    "    elif C27A_new<1:\n",
    "        return \"0\"\n",
    "    elif 1<=C27A_new<2:\n",
    "        return \"1\"\n",
    "    elif 2<=C27A_new<3:\n",
    "        return \"2\"\n",
    "    elif 3<=C27A_new<4:\n",
    "        return \"3\"\n",
    "    else:\n",
    "        return \"4&5\"\n",
    "    \n",
    "func = np.vectorize(conditions)\n",
    "transform = func(df_ave.C27A_new)\n",
    "df_ave[\"AVAILABILITY_EVENING\"] = transform"
   ]
  },
  {
   "cell_type": "code",
   "execution_count": 2427,
   "metadata": {},
   "outputs": [
    {
     "data": {
      "text/html": [
       "<div>\n",
       "<style scoped>\n",
       "    .dataframe tbody tr th:only-of-type {\n",
       "        vertical-align: middle;\n",
       "    }\n",
       "\n",
       "    .dataframe tbody tr th {\n",
       "        vertical-align: top;\n",
       "    }\n",
       "\n",
       "    .dataframe thead th {\n",
       "        text-align: right;\n",
       "    }\n",
       "</style>\n",
       "<table border=\"1\" class=\"dataframe\">\n",
       "  <thead>\n",
       "    <tr style=\"text-align: right;\">\n",
       "      <th></th>\n",
       "      <th>C27A</th>\n",
       "      <th>C27B</th>\n",
       "      <th>C27A_new</th>\n",
       "      <th>AVAILABILITY_EVENING</th>\n",
       "    </tr>\n",
       "  </thead>\n",
       "  <tbody>\n",
       "    <tr>\n",
       "      <th>3290</th>\n",
       "      <td>NaN</td>\n",
       "      <td>NaN</td>\n",
       "      <td>12345.0</td>\n",
       "      <td>Missing_data</td>\n",
       "    </tr>\n",
       "    <tr>\n",
       "      <th>3291</th>\n",
       "      <td>2.0</td>\n",
       "      <td>4.0</td>\n",
       "      <td>2.0</td>\n",
       "      <td>2</td>\n",
       "    </tr>\n",
       "    <tr>\n",
       "      <th>3292</th>\n",
       "      <td>1.0</td>\n",
       "      <td>4.0</td>\n",
       "      <td>1.0</td>\n",
       "      <td>1</td>\n",
       "    </tr>\n",
       "    <tr>\n",
       "      <th>3293</th>\n",
       "      <td>NaN</td>\n",
       "      <td>4.0</td>\n",
       "      <td>4.0</td>\n",
       "      <td>4&amp;5</td>\n",
       "    </tr>\n",
       "    <tr>\n",
       "      <th>3294</th>\n",
       "      <td>NaN</td>\n",
       "      <td>NaN</td>\n",
       "      <td>12345.0</td>\n",
       "      <td>Missing_data</td>\n",
       "    </tr>\n",
       "  </tbody>\n",
       "</table>\n",
       "</div>"
      ],
      "text/plain": [
       "     C27A C27B  C27A_new AVAILABILITY_EVENING\n",
       "3290  NaN  NaN   12345.0         Missing_data\n",
       "3291  2.0  4.0       2.0                    2\n",
       "3292  1.0  4.0       1.0                    1\n",
       "3293  NaN  4.0       4.0                  4&5\n",
       "3294  NaN  NaN   12345.0         Missing_data"
      ]
     },
     "execution_count": 2427,
     "metadata": {},
     "output_type": "execute_result"
    }
   ],
   "source": [
    "df_ave.tail()"
   ]
  },
  {
   "cell_type": "code",
   "execution_count": 2428,
   "metadata": {},
   "outputs": [
    {
     "data": {
      "text/plain": [
       "Missing_data    1797\n",
       "4&5              750\n",
       "3                393\n",
       "2                238\n",
       "1                117\n",
       "Name: AVAILABILITY_EVENING, dtype: int64"
      ]
     },
     "execution_count": 2428,
     "metadata": {},
     "output_type": "execute_result"
    }
   ],
   "source": [
    "df_ave['AVAILABILITY_EVENING'].value_counts()"
   ]
  },
  {
   "cell_type": "markdown",
   "metadata": {},
   "source": [
    "### Visualizing the TIER levels "
   ]
  },
  {
   "cell_type": "code",
   "execution_count": 2429,
   "metadata": {},
   "outputs": [
    {
     "data": {
      "text/plain": [
       "Text(0.5, 1.0, 'TIER levels based on electricity availability')"
      ]
     },
     "execution_count": 2429,
     "metadata": {},
     "output_type": "execute_result"
    },
    {
     "data": {
      "image/png": "[encoded data removed]",
      "text/plain": [
       "<Figure size 432x288 with 1 Axes>"
      ]
     },
     "metadata": {},
     "output_type": "display_data"
    }
   ],
   "source": [
    "df_ave.AVAILABILITY_EVENING.value_counts().plot(kind='pie')\n",
    "plt.axis('equal')\n",
    "plt.title('TIER levels based on electricity availability')"
   ]
  },
  {
   "cell_type": "markdown",
   "metadata": {},
   "source": [
    "## 3. Attribute: Reliability\n",
    "\n",
    "Methodology:\n",
    "\n",
    "To understand the attribute more carefully, two columns have been taekn into consideration, C29A and C29B; \n",
    "* C29A represents the electricity disruption from the grid in the worst months. \n",
    "* Whereas, C29B represents the electricity disruption from the grid in the actual months."
   ]
  },
  {
   "cell_type": "code",
   "execution_count": 2430,
   "metadata": {},
   "outputs": [],
   "source": [
    "df_dis= df[['C29A','C29B']]"
   ]
  },
  {
   "cell_type": "code",
   "execution_count": 2431,
   "metadata": {},
   "outputs": [
    {
     "data": {
      "text/html": [
       "<div>\n",
       "<style scoped>\n",
       "    .dataframe tbody tr th:only-of-type {\n",
       "        vertical-align: middle;\n",
       "    }\n",
       "\n",
       "    .dataframe tbody tr th {\n",
       "        vertical-align: top;\n",
       "    }\n",
       "\n",
       "    .dataframe thead th {\n",
       "        text-align: right;\n",
       "    }\n",
       "</style>\n",
       "<table border=\"1\" class=\"dataframe\">\n",
       "  <thead>\n",
       "    <tr style=\"text-align: right;\">\n",
       "      <th></th>\n",
       "      <th>C29A</th>\n",
       "      <th>C29B</th>\n",
       "    </tr>\n",
       "  </thead>\n",
       "  <tbody>\n",
       "    <tr>\n",
       "      <th>3290</th>\n",
       "      <td>NaN</td>\n",
       "      <td>NaN</td>\n",
       "    </tr>\n",
       "    <tr>\n",
       "      <th>3291</th>\n",
       "      <td>3.0</td>\n",
       "      <td>1.0</td>\n",
       "    </tr>\n",
       "    <tr>\n",
       "      <th>3292</th>\n",
       "      <td>1.0</td>\n",
       "      <td>Don't know</td>\n",
       "    </tr>\n",
       "    <tr>\n",
       "      <th>3293</th>\n",
       "      <td>NaN</td>\n",
       "      <td>2.0</td>\n",
       "    </tr>\n",
       "    <tr>\n",
       "      <th>3294</th>\n",
       "      <td>NaN</td>\n",
       "      <td>NaN</td>\n",
       "    </tr>\n",
       "  </tbody>\n",
       "</table>\n",
       "</div>"
      ],
      "text/plain": [
       "     C29A        C29B\n",
       "3290  NaN         NaN\n",
       "3291  3.0         1.0\n",
       "3292  1.0  Don't know\n",
       "3293  NaN         2.0\n",
       "3294  NaN         NaN"
      ]
     },
     "execution_count": 2431,
     "metadata": {},
     "output_type": "execute_result"
    }
   ],
   "source": [
    "df_dis.tail()"
   ]
  },
  {
   "cell_type": "code",
   "execution_count": 2432,
   "metadata": {},
   "outputs": [
    {
     "name": "stdout",
     "output_type": "stream",
     "text": [
      "<class 'pandas.core.frame.DataFrame'>\n",
      "RangeIndex: 3295 entries, 0 to 3294\n",
      "Data columns (total 2 columns):\n",
      " #   Column  Non-Null Count  Dtype \n",
      "---  ------  --------------  ----- \n",
      " 0   C29A    652 non-null    object\n",
      " 1   C29B    1591 non-null   object\n",
      "dtypes: object(2)\n",
      "memory usage: 51.6+ KB\n"
     ]
    }
   ],
   "source": [
    "df_dis.info()"
   ]
  },
  {
   "cell_type": "markdown",
   "metadata": {},
   "source": [
    "## Calculation\n",
    "\n",
    "In this step a new column \"C29A_new\" hasbeen formed. For this column, the values from column \"C29A, worst months\" has been taken as the main source of analysis and any missing information (missing value of a household) for this column has been taken from the column \"C29B, actual months\". This is done because the world bank group considers worst situation for analysis. "
   ]
  },
  {
   "cell_type": "code",
   "execution_count": 2433,
   "metadata": {},
   "outputs": [],
   "source": [
    "df_dis['C29A_new'] = df_dis.C29A.fillna(value=df_dis.C29B)"
   ]
  },
  {
   "cell_type": "code",
   "execution_count": 2434,
   "metadata": {},
   "outputs": [
    {
     "data": {
      "text/html": [
       "<div>\n",
       "<style scoped>\n",
       "    .dataframe tbody tr th:only-of-type {\n",
       "        vertical-align: middle;\n",
       "    }\n",
       "\n",
       "    .dataframe tbody tr th {\n",
       "        vertical-align: top;\n",
       "    }\n",
       "\n",
       "    .dataframe thead th {\n",
       "        text-align: right;\n",
       "    }\n",
       "</style>\n",
       "<table border=\"1\" class=\"dataframe\">\n",
       "  <thead>\n",
       "    <tr style=\"text-align: right;\">\n",
       "      <th></th>\n",
       "      <th>C29A</th>\n",
       "      <th>C29B</th>\n",
       "      <th>C29A_new</th>\n",
       "    </tr>\n",
       "  </thead>\n",
       "  <tbody>\n",
       "    <tr>\n",
       "      <th>3290</th>\n",
       "      <td>NaN</td>\n",
       "      <td>NaN</td>\n",
       "      <td>NaN</td>\n",
       "    </tr>\n",
       "    <tr>\n",
       "      <th>3291</th>\n",
       "      <td>3.0</td>\n",
       "      <td>1.0</td>\n",
       "      <td>3.0</td>\n",
       "    </tr>\n",
       "    <tr>\n",
       "      <th>3292</th>\n",
       "      <td>1.0</td>\n",
       "      <td>Don't know</td>\n",
       "      <td>1.0</td>\n",
       "    </tr>\n",
       "    <tr>\n",
       "      <th>3293</th>\n",
       "      <td>NaN</td>\n",
       "      <td>2.0</td>\n",
       "      <td>2.0</td>\n",
       "    </tr>\n",
       "    <tr>\n",
       "      <th>3294</th>\n",
       "      <td>NaN</td>\n",
       "      <td>NaN</td>\n",
       "      <td>NaN</td>\n",
       "    </tr>\n",
       "  </tbody>\n",
       "</table>\n",
       "</div>"
      ],
      "text/plain": [
       "     C29A        C29B C29A_new\n",
       "3290  NaN         NaN      NaN\n",
       "3291  3.0         1.0      3.0\n",
       "3292  1.0  Don't know      1.0\n",
       "3293  NaN         2.0      2.0\n",
       "3294  NaN         NaN      NaN"
      ]
     },
     "execution_count": 2434,
     "metadata": {},
     "output_type": "execute_result"
    }
   ],
   "source": [
    "df_dis.tail()"
   ]
  },
  {
   "cell_type": "code",
   "execution_count": 2435,
   "metadata": {},
   "outputs": [
    {
     "name": "stdout",
     "output_type": "stream",
     "text": [
      "<class 'pandas.core.frame.DataFrame'>\n",
      "RangeIndex: 3295 entries, 0 to 3294\n",
      "Data columns (total 3 columns):\n",
      " #   Column    Non-Null Count  Dtype \n",
      "---  ------    --------------  ----- \n",
      " 0   C29A      652 non-null    object\n",
      " 1   C29B      1591 non-null   object\n",
      " 2   C29A_new  1591 non-null   object\n",
      "dtypes: object(3)\n",
      "memory usage: 77.4+ KB\n"
     ]
    }
   ],
   "source": [
    "df_dis.info()"
   ]
  },
  {
   "cell_type": "code",
   "execution_count": 2436,
   "metadata": {},
   "outputs": [
    {
     "data": {
      "text/plain": [
       "1.0           207\n",
       "2.0           150\n",
       "Don't know    114\n",
       "3.0            90\n",
       "4.0            42\n",
       "5.0            27\n",
       "6.0            11\n",
       "8.0             5\n",
       "10.0            4\n",
       "7.0             2\n",
       "Name: C29A, dtype: int64"
      ]
     },
     "execution_count": 2436,
     "metadata": {},
     "output_type": "execute_result"
    }
   ],
   "source": [
    "df_dis['C29A'].value_counts()"
   ]
  },
  {
   "cell_type": "markdown",
   "metadata": {},
   "source": [
    "### Replacing NaN and \"Don't know\" values with \"11111\" (random number) \n",
    "\n",
    "This is done to keep the missing values into analysis (As it is important to know how many missing values do we have)"
   ]
  },
  {
   "cell_type": "code",
   "execution_count": 2437,
   "metadata": {},
   "outputs": [],
   "source": [
    "df_dis[\"C29A_new\"].fillna(11111, inplace = True) "
   ]
  },
  {
   "cell_type": "code",
   "execution_count": 2438,
   "metadata": {},
   "outputs": [],
   "source": [
    "df_dis=df_dis.replace(to_replace=\"Don't know\",value=11111)"
   ]
  },
  {
   "cell_type": "code",
   "execution_count": 2439,
   "metadata": {},
   "outputs": [
    {
     "data": {
      "text/html": [
       "<div>\n",
       "<style scoped>\n",
       "    .dataframe tbody tr th:only-of-type {\n",
       "        vertical-align: middle;\n",
       "    }\n",
       "\n",
       "    .dataframe tbody tr th {\n",
       "        vertical-align: top;\n",
       "    }\n",
       "\n",
       "    .dataframe thead th {\n",
       "        text-align: right;\n",
       "    }\n",
       "</style>\n",
       "<table border=\"1\" class=\"dataframe\">\n",
       "  <thead>\n",
       "    <tr style=\"text-align: right;\">\n",
       "      <th></th>\n",
       "      <th>C29A</th>\n",
       "      <th>C29B</th>\n",
       "      <th>C29A_new</th>\n",
       "    </tr>\n",
       "  </thead>\n",
       "  <tbody>\n",
       "    <tr>\n",
       "      <th>3290</th>\n",
       "      <td>NaN</td>\n",
       "      <td>NaN</td>\n",
       "      <td>11111</td>\n",
       "    </tr>\n",
       "    <tr>\n",
       "      <th>3291</th>\n",
       "      <td>3.0</td>\n",
       "      <td>1.0</td>\n",
       "      <td>3.0</td>\n",
       "    </tr>\n",
       "    <tr>\n",
       "      <th>3292</th>\n",
       "      <td>1.0</td>\n",
       "      <td>11111</td>\n",
       "      <td>1.0</td>\n",
       "    </tr>\n",
       "    <tr>\n",
       "      <th>3293</th>\n",
       "      <td>NaN</td>\n",
       "      <td>2.0</td>\n",
       "      <td>2.0</td>\n",
       "    </tr>\n",
       "    <tr>\n",
       "      <th>3294</th>\n",
       "      <td>NaN</td>\n",
       "      <td>NaN</td>\n",
       "      <td>11111</td>\n",
       "    </tr>\n",
       "  </tbody>\n",
       "</table>\n",
       "</div>"
      ],
      "text/plain": [
       "     C29A   C29B C29A_new\n",
       "3290  NaN    NaN    11111\n",
       "3291  3.0    1.0      3.0\n",
       "3292  1.0  11111      1.0\n",
       "3293  NaN    2.0      2.0\n",
       "3294  NaN    NaN    11111"
      ]
     },
     "execution_count": 2439,
     "metadata": {},
     "output_type": "execute_result"
    }
   ],
   "source": [
    "df_dis.tail()"
   ]
  },
  {
   "cell_type": "code",
   "execution_count": 2440,
   "metadata": {},
   "outputs": [
    {
     "name": "stdout",
     "output_type": "stream",
     "text": [
      "<class 'pandas.core.frame.DataFrame'>\n",
      "RangeIndex: 3295 entries, 0 to 3294\n",
      "Data columns (total 3 columns):\n",
      " #   Column    Non-Null Count  Dtype \n",
      "---  ------    --------------  ----- \n",
      " 0   C29A      652 non-null    object\n",
      " 1   C29B      1591 non-null   object\n",
      " 2   C29A_new  3295 non-null   object\n",
      "dtypes: object(3)\n",
      "memory usage: 77.4+ KB\n"
     ]
    }
   ],
   "source": [
    "df_dis.info()"
   ]
  },
  {
   "cell_type": "markdown",
   "metadata": {},
   "source": [
    "### Converting coulmn C27A_new from Dtype: Object to Dtype: Float"
   ]
  },
  {
   "cell_type": "code",
   "execution_count": 2441,
   "metadata": {},
   "outputs": [],
   "source": [
    "df_dis[\"C29A_new\"] = pd.to_numeric(df_dis[\"C29A_new\"])"
   ]
  },
  {
   "cell_type": "code",
   "execution_count": 2442,
   "metadata": {},
   "outputs": [
    {
     "name": "stdout",
     "output_type": "stream",
     "text": [
      "<class 'pandas.core.frame.DataFrame'>\n",
      "RangeIndex: 3295 entries, 0 to 3294\n",
      "Data columns (total 3 columns):\n",
      " #   Column    Non-Null Count  Dtype  \n",
      "---  ------    --------------  -----  \n",
      " 0   C29A      652 non-null    object \n",
      " 1   C29B      1591 non-null   object \n",
      " 2   C29A_new  3295 non-null   float64\n",
      "dtypes: float64(1), object(2)\n",
      "memory usage: 77.4+ KB\n"
     ]
    }
   ],
   "source": [
    "df_dis.info()"
   ]
  },
  {
   "cell_type": "markdown",
   "metadata": {},
   "source": [
    "Now this new column \"C29A_new\" depicts daily disruption from the grid. To calculate weekly disruption, this column has to be multiplied by 7."
   ]
  },
  {
   "cell_type": "code",
   "execution_count": 2443,
   "metadata": {},
   "outputs": [],
   "source": [
    "df_dis['C29A_new'] = df_dis['C29A_new'].apply(lambda x: x*7)"
   ]
  },
  {
   "cell_type": "code",
   "execution_count": 2444,
   "metadata": {},
   "outputs": [
    {
     "data": {
      "text/html": [
       "<div>\n",
       "<style scoped>\n",
       "    .dataframe tbody tr th:only-of-type {\n",
       "        vertical-align: middle;\n",
       "    }\n",
       "\n",
       "    .dataframe tbody tr th {\n",
       "        vertical-align: top;\n",
       "    }\n",
       "\n",
       "    .dataframe thead th {\n",
       "        text-align: right;\n",
       "    }\n",
       "</style>\n",
       "<table border=\"1\" class=\"dataframe\">\n",
       "  <thead>\n",
       "    <tr style=\"text-align: right;\">\n",
       "      <th></th>\n",
       "      <th>C29A</th>\n",
       "      <th>C29B</th>\n",
       "      <th>C29A_new</th>\n",
       "    </tr>\n",
       "  </thead>\n",
       "  <tbody>\n",
       "    <tr>\n",
       "      <th>3290</th>\n",
       "      <td>NaN</td>\n",
       "      <td>NaN</td>\n",
       "      <td>77777.0</td>\n",
       "    </tr>\n",
       "    <tr>\n",
       "      <th>3291</th>\n",
       "      <td>3.0</td>\n",
       "      <td>1.0</td>\n",
       "      <td>21.0</td>\n",
       "    </tr>\n",
       "    <tr>\n",
       "      <th>3292</th>\n",
       "      <td>1.0</td>\n",
       "      <td>11111</td>\n",
       "      <td>7.0</td>\n",
       "    </tr>\n",
       "    <tr>\n",
       "      <th>3293</th>\n",
       "      <td>NaN</td>\n",
       "      <td>2.0</td>\n",
       "      <td>14.0</td>\n",
       "    </tr>\n",
       "    <tr>\n",
       "      <th>3294</th>\n",
       "      <td>NaN</td>\n",
       "      <td>NaN</td>\n",
       "      <td>77777.0</td>\n",
       "    </tr>\n",
       "  </tbody>\n",
       "</table>\n",
       "</div>"
      ],
      "text/plain": [
       "     C29A   C29B  C29A_new\n",
       "3290  NaN    NaN   77777.0\n",
       "3291  3.0    1.0      21.0\n",
       "3292  1.0  11111       7.0\n",
       "3293  NaN    2.0      14.0\n",
       "3294  NaN    NaN   77777.0"
      ]
     },
     "execution_count": 2444,
     "metadata": {},
     "output_type": "execute_result"
    }
   ],
   "source": [
    "df_dis.tail()"
   ]
  },
  {
   "cell_type": "markdown",
   "metadata": {},
   "source": [
    "### Adding column \"RELIABILITY\" to the dataset with respect to electricity disruption"
   ]
  },
  {
   "cell_type": "code",
   "execution_count": 2445,
   "metadata": {},
   "outputs": [],
   "source": [
    "# RELIABILITY\n",
    "#Note: conditions for TIER 0,1 and 2 are the same and TIER 3 and 4 are the same\n",
    "\n",
    "\n",
    "def conditions(C29A_new):\n",
    "    if C29A_new ==77777:\n",
    "        return \"Missing_data\"\n",
    "    elif C29A_new>14:\n",
    "        return \"0,1&2\"\n",
    "    elif 3<C29A_new<14:\n",
    "        return \"3&4\"\n",
    "    else:\n",
    "        return \"5\"\n",
    "    \n",
    "func = np.vectorize(conditions)\n",
    "transform = func(df_dis.C29A_new)\n",
    "df_dis[\"RELIABILITY\"] = transform"
   ]
  },
  {
   "cell_type": "code",
   "execution_count": 2446,
   "metadata": {},
   "outputs": [
    {
     "data": {
      "text/html": [
       "<div>\n",
       "<style scoped>\n",
       "    .dataframe tbody tr th:only-of-type {\n",
       "        vertical-align: middle;\n",
       "    }\n",
       "\n",
       "    .dataframe tbody tr th {\n",
       "        vertical-align: top;\n",
       "    }\n",
       "\n",
       "    .dataframe thead th {\n",
       "        text-align: right;\n",
       "    }\n",
       "</style>\n",
       "<table border=\"1\" class=\"dataframe\">\n",
       "  <thead>\n",
       "    <tr style=\"text-align: right;\">\n",
       "      <th></th>\n",
       "      <th>C29A</th>\n",
       "      <th>C29B</th>\n",
       "      <th>C29A_new</th>\n",
       "      <th>RELIABILITY</th>\n",
       "    </tr>\n",
       "  </thead>\n",
       "  <tbody>\n",
       "    <tr>\n",
       "      <th>3290</th>\n",
       "      <td>NaN</td>\n",
       "      <td>NaN</td>\n",
       "      <td>77777.0</td>\n",
       "      <td>Missing_data</td>\n",
       "    </tr>\n",
       "    <tr>\n",
       "      <th>3291</th>\n",
       "      <td>3.0</td>\n",
       "      <td>1.0</td>\n",
       "      <td>21.0</td>\n",
       "      <td>0,1&amp;2</td>\n",
       "    </tr>\n",
       "    <tr>\n",
       "      <th>3292</th>\n",
       "      <td>1.0</td>\n",
       "      <td>11111</td>\n",
       "      <td>7.0</td>\n",
       "      <td>3&amp;4</td>\n",
       "    </tr>\n",
       "    <tr>\n",
       "      <th>3293</th>\n",
       "      <td>NaN</td>\n",
       "      <td>2.0</td>\n",
       "      <td>14.0</td>\n",
       "      <td>5</td>\n",
       "    </tr>\n",
       "    <tr>\n",
       "      <th>3294</th>\n",
       "      <td>NaN</td>\n",
       "      <td>NaN</td>\n",
       "      <td>77777.0</td>\n",
       "      <td>Missing_data</td>\n",
       "    </tr>\n",
       "  </tbody>\n",
       "</table>\n",
       "</div>"
      ],
      "text/plain": [
       "     C29A   C29B  C29A_new   RELIABILITY\n",
       "3290  NaN    NaN   77777.0  Missing_data\n",
       "3291  3.0    1.0      21.0         0,1&2\n",
       "3292  1.0  11111       7.0           3&4\n",
       "3293  NaN    2.0      14.0             5\n",
       "3294  NaN    NaN   77777.0  Missing_data"
      ]
     },
     "execution_count": 2446,
     "metadata": {},
     "output_type": "execute_result"
    }
   ],
   "source": [
    "df_dis.tail()"
   ]
  },
  {
   "cell_type": "code",
   "execution_count": 2447,
   "metadata": {},
   "outputs": [
    {
     "data": {
      "text/plain": [
       "Missing_data    1971\n",
       "3&4              691\n",
       "5                353\n",
       "0,1&2            280\n",
       "Name: RELIABILITY, dtype: int64"
      ]
     },
     "execution_count": 2447,
     "metadata": {},
     "output_type": "execute_result"
    }
   ],
   "source": [
    "df_dis['RELIABILITY'].value_counts()"
   ]
  },
  {
   "cell_type": "markdown",
   "metadata": {},
   "source": [
    "### Visualizing the TIER levels "
   ]
  },
  {
   "cell_type": "code",
   "execution_count": 2448,
   "metadata": {},
   "outputs": [
    {
     "data": {
      "text/plain": [
       "Text(0.5, 1.0, 'TIER levels based on electricity reliabilty')"
      ]
     },
     "execution_count": 2448,
     "metadata": {},
     "output_type": "execute_result"
    },
    {
     "data": {
      "image/png": "[encoded data removed]",
      "text/plain": [
       "<Figure size 432x288 with 1 Axes>"
      ]
     },
     "metadata": {},
     "output_type": "display_data"
    }
   ],
   "source": [
    "df_dis.RELIABILITY.value_counts().plot(kind='pie')\n",
    "plt.axis('equal')\n",
    "plt.title('TIER levels based on electricity reliabilty')"
   ]
  },
  {
   "cell_type": "markdown",
   "metadata": {},
   "source": [
    "## 4. Attribute: Quality\n",
    "\n",
    "For this attribute column C39 has been selected as it describes if in the last 12 months, any of the appliances got damaged because the voltage was going up and down from the grid."
   ]
  },
  {
   "cell_type": "code",
   "execution_count": 2449,
   "metadata": {},
   "outputs": [],
   "source": [
    "df_q= df[['C39']]"
   ]
  },
  {
   "cell_type": "code",
   "execution_count": 2450,
   "metadata": {},
   "outputs": [
    {
     "data": {
      "text/html": [
       "<div>\n",
       "<style scoped>\n",
       "    .dataframe tbody tr th:only-of-type {\n",
       "        vertical-align: middle;\n",
       "    }\n",
       "\n",
       "    .dataframe tbody tr th {\n",
       "        vertical-align: top;\n",
       "    }\n",
       "\n",
       "    .dataframe thead th {\n",
       "        text-align: right;\n",
       "    }\n",
       "</style>\n",
       "<table border=\"1\" class=\"dataframe\">\n",
       "  <thead>\n",
       "    <tr style=\"text-align: right;\">\n",
       "      <th></th>\n",
       "      <th>C39</th>\n",
       "    </tr>\n",
       "  </thead>\n",
       "  <tbody>\n",
       "    <tr>\n",
       "      <th>3290</th>\n",
       "      <td>NaN</td>\n",
       "    </tr>\n",
       "    <tr>\n",
       "      <th>3291</th>\n",
       "      <td>Yes</td>\n",
       "    </tr>\n",
       "    <tr>\n",
       "      <th>3292</th>\n",
       "      <td>No</td>\n",
       "    </tr>\n",
       "    <tr>\n",
       "      <th>3293</th>\n",
       "      <td>No</td>\n",
       "    </tr>\n",
       "    <tr>\n",
       "      <th>3294</th>\n",
       "      <td>NaN</td>\n",
       "    </tr>\n",
       "  </tbody>\n",
       "</table>\n",
       "</div>"
      ],
      "text/plain": [
       "      C39\n",
       "3290  NaN\n",
       "3291  Yes\n",
       "3292   No\n",
       "3293   No\n",
       "3294  NaN"
      ]
     },
     "execution_count": 2450,
     "metadata": {},
     "output_type": "execute_result"
    }
   ],
   "source": [
    "df_q.tail()"
   ]
  },
  {
   "cell_type": "code",
   "execution_count": 2451,
   "metadata": {},
   "outputs": [
    {
     "name": "stdout",
     "output_type": "stream",
     "text": [
      "<class 'pandas.core.frame.DataFrame'>\n",
      "RangeIndex: 3295 entries, 0 to 3294\n",
      "Data columns (total 1 columns):\n",
      " #   Column  Non-Null Count  Dtype \n",
      "---  ------  --------------  ----- \n",
      " 0   C39     1591 non-null   object\n",
      "dtypes: object(1)\n",
      "memory usage: 25.9+ KB\n"
     ]
    }
   ],
   "source": [
    "df_q.info()"
   ]
  },
  {
   "cell_type": "code",
   "execution_count": 2452,
   "metadata": {},
   "outputs": [
    {
     "data": {
      "text/plain": [
       "No            1115\n",
       "Yes            343\n",
       "Don?t know     133\n",
       "Name: C39, dtype: int64"
      ]
     },
     "execution_count": 2452,
     "metadata": {},
     "output_type": "execute_result"
    }
   ],
   "source": [
    "df_q['C39'].value_counts()"
   ]
  },
  {
   "cell_type": "markdown",
   "metadata": {},
   "source": [
    "### Making a new column and replacing NaN and \"Don't know\" values with \"11111\" (random number) \n",
    "\n",
    "This is done to keep the missing values into analysis (As it is important to know how many missing values do we have)"
   ]
  },
  {
   "cell_type": "code",
   "execution_count": 2453,
   "metadata": {},
   "outputs": [],
   "source": [
    "df_q['C39_new'] = df_q.C39.fillna(value=df_q.C39)"
   ]
  },
  {
   "cell_type": "code",
   "execution_count": 2454,
   "metadata": {},
   "outputs": [],
   "source": [
    "df_q[\"C39_new\"].fillna(11111, inplace = True) "
   ]
  },
  {
   "cell_type": "code",
   "execution_count": 2455,
   "metadata": {},
   "outputs": [],
   "source": [
    "df_q=df_q.replace(to_replace=\"Don?t know\",value=11111)"
   ]
  },
  {
   "cell_type": "code",
   "execution_count": 2456,
   "metadata": {},
   "outputs": [
    {
     "data": {
      "text/html": [
       "<div>\n",
       "<style scoped>\n",
       "    .dataframe tbody tr th:only-of-type {\n",
       "        vertical-align: middle;\n",
       "    }\n",
       "\n",
       "    .dataframe tbody tr th {\n",
       "        vertical-align: top;\n",
       "    }\n",
       "\n",
       "    .dataframe thead th {\n",
       "        text-align: right;\n",
       "    }\n",
       "</style>\n",
       "<table border=\"1\" class=\"dataframe\">\n",
       "  <thead>\n",
       "    <tr style=\"text-align: right;\">\n",
       "      <th></th>\n",
       "      <th>C39</th>\n",
       "      <th>C39_new</th>\n",
       "    </tr>\n",
       "  </thead>\n",
       "  <tbody>\n",
       "    <tr>\n",
       "      <th>0</th>\n",
       "      <td>NaN</td>\n",
       "      <td>11111</td>\n",
       "    </tr>\n",
       "    <tr>\n",
       "      <th>1</th>\n",
       "      <td>NaN</td>\n",
       "      <td>11111</td>\n",
       "    </tr>\n",
       "    <tr>\n",
       "      <th>2</th>\n",
       "      <td>NaN</td>\n",
       "      <td>11111</td>\n",
       "    </tr>\n",
       "    <tr>\n",
       "      <th>3</th>\n",
       "      <td>NaN</td>\n",
       "      <td>11111</td>\n",
       "    </tr>\n",
       "    <tr>\n",
       "      <th>4</th>\n",
       "      <td>NaN</td>\n",
       "      <td>11111</td>\n",
       "    </tr>\n",
       "  </tbody>\n",
       "</table>\n",
       "</div>"
      ],
      "text/plain": [
       "   C39 C39_new\n",
       "0  NaN   11111\n",
       "1  NaN   11111\n",
       "2  NaN   11111\n",
       "3  NaN   11111\n",
       "4  NaN   11111"
      ]
     },
     "execution_count": 2456,
     "metadata": {},
     "output_type": "execute_result"
    }
   ],
   "source": [
    "df_q.head()"
   ]
  },
  {
   "cell_type": "code",
   "execution_count": 2457,
   "metadata": {},
   "outputs": [
    {
     "name": "stdout",
     "output_type": "stream",
     "text": [
      "<class 'pandas.core.frame.DataFrame'>\n",
      "RangeIndex: 3295 entries, 0 to 3294\n",
      "Data columns (total 2 columns):\n",
      " #   Column   Non-Null Count  Dtype \n",
      "---  ------   --------------  ----- \n",
      " 0   C39      1591 non-null   object\n",
      " 1   C39_new  3295 non-null   object\n",
      "dtypes: object(2)\n",
      "memory usage: 51.6+ KB\n"
     ]
    }
   ],
   "source": [
    "df_q.info()"
   ]
  },
  {
   "cell_type": "code",
   "execution_count": 2458,
   "metadata": {},
   "outputs": [
    {
     "data": {
      "text/plain": [
       "11111    1837\n",
       "No       1115\n",
       "Yes       343\n",
       "Name: C39_new, dtype: int64"
      ]
     },
     "execution_count": 2458,
     "metadata": {},
     "output_type": "execute_result"
    }
   ],
   "source": [
    "df_q['C39_new'].value_counts()"
   ]
  },
  {
   "cell_type": "markdown",
   "metadata": {},
   "source": [
    "### Adding column \"QUALITY\" to the dataset "
   ]
  },
  {
   "cell_type": "code",
   "execution_count": 2459,
   "metadata": {},
   "outputs": [],
   "source": [
    "# RELIABILITY\n",
    "#Note: conditions for TIER 0,1,2 and 3 are the same and TIER 4 and 5 are the same\n",
    "\n",
    "\n",
    "def conditions(C39_new):\n",
    "    if C39_new ==11111:\n",
    "        return \"Missing_data\"\n",
    "    elif C39_new==\"Yes\":\n",
    "        return \"0,1,2&3\"\n",
    "    else:\n",
    "        return \"4&5\"\n",
    "    \n",
    "func = np.vectorize(conditions)\n",
    "transform = func(df_q.C39_new)\n",
    "df_q[\"QUALITY\"] = transform"
   ]
  },
  {
   "cell_type": "code",
   "execution_count": 2460,
   "metadata": {},
   "outputs": [
    {
     "data": {
      "text/html": [
       "<div>\n",
       "<style scoped>\n",
       "    .dataframe tbody tr th:only-of-type {\n",
       "        vertical-align: middle;\n",
       "    }\n",
       "\n",
       "    .dataframe tbody tr th {\n",
       "        vertical-align: top;\n",
       "    }\n",
       "\n",
       "    .dataframe thead th {\n",
       "        text-align: right;\n",
       "    }\n",
       "</style>\n",
       "<table border=\"1\" class=\"dataframe\">\n",
       "  <thead>\n",
       "    <tr style=\"text-align: right;\">\n",
       "      <th></th>\n",
       "      <th>C39</th>\n",
       "      <th>C39_new</th>\n",
       "      <th>QUALITY</th>\n",
       "    </tr>\n",
       "  </thead>\n",
       "  <tbody>\n",
       "    <tr>\n",
       "      <th>3290</th>\n",
       "      <td>NaN</td>\n",
       "      <td>11111</td>\n",
       "      <td>Missing_data</td>\n",
       "    </tr>\n",
       "    <tr>\n",
       "      <th>3291</th>\n",
       "      <td>Yes</td>\n",
       "      <td>Yes</td>\n",
       "      <td>0,1,2&amp;3</td>\n",
       "    </tr>\n",
       "    <tr>\n",
       "      <th>3292</th>\n",
       "      <td>No</td>\n",
       "      <td>No</td>\n",
       "      <td>4&amp;5</td>\n",
       "    </tr>\n",
       "    <tr>\n",
       "      <th>3293</th>\n",
       "      <td>No</td>\n",
       "      <td>No</td>\n",
       "      <td>4&amp;5</td>\n",
       "    </tr>\n",
       "    <tr>\n",
       "      <th>3294</th>\n",
       "      <td>NaN</td>\n",
       "      <td>11111</td>\n",
       "      <td>Missing_data</td>\n",
       "    </tr>\n",
       "  </tbody>\n",
       "</table>\n",
       "</div>"
      ],
      "text/plain": [
       "      C39 C39_new       QUALITY\n",
       "3290  NaN   11111  Missing_data\n",
       "3291  Yes     Yes       0,1,2&3\n",
       "3292   No      No           4&5\n",
       "3293   No      No           4&5\n",
       "3294  NaN   11111  Missing_data"
      ]
     },
     "execution_count": 2460,
     "metadata": {},
     "output_type": "execute_result"
    }
   ],
   "source": [
    "df_q.tail()"
   ]
  },
  {
   "cell_type": "code",
   "execution_count": 2461,
   "metadata": {},
   "outputs": [
    {
     "data": {
      "text/plain": [
       "Missing_data    1837\n",
       "4&5             1115\n",
       "0,1,2&3          343\n",
       "Name: QUALITY, dtype: int64"
      ]
     },
     "execution_count": 2461,
     "metadata": {},
     "output_type": "execute_result"
    }
   ],
   "source": [
    "df_q['QUALITY'].value_counts()"
   ]
  },
  {
   "cell_type": "markdown",
   "metadata": {},
   "source": [
    "### Visualizing the TIER levels "
   ]
  },
  {
   "cell_type": "code",
   "execution_count": 2462,
   "metadata": {},
   "outputs": [
    {
     "data": {
      "text/plain": [
       "Text(0.5, 1.0, 'TIER levels based on electricity quality')"
      ]
     },
     "execution_count": 2462,
     "metadata": {},
     "output_type": "execute_result"
    },
    {
     "data": {
      "image/png": "[encoded data removed]",
      "text/plain": [
       "<Figure size 432x288 with 1 Axes>"
      ]
     },
     "metadata": {},
     "output_type": "display_data"
    }
   ],
   "source": [
    "df_q.QUALITY.value_counts().plot(kind='pie')\n",
    "plt.axis('equal')\n",
    "plt.title('TIER levels based on electricity quality')"
   ]
  },
  {
   "cell_type": "code",
   "execution_count": null,
   "metadata": {},
   "outputs": [],
   "source": []
  }
 ],
 "metadata": {
  "kernelspec": {
   "display_name": "Python 3",
   "language": "python",
   "name": "python3"
  },
  "language_info": {
   "codemirror_mode": {
    "name": "ipython",
    "version": 3
   },
   "file_extension": ".py",
   "mimetype": "text/x-python",
   "name": "python",
   "nbconvert_exporter": "python",
   "pygments_lexer": "ipython3",
   "version": "3.7.6"
  }
 },
 "nbformat": 4,
 "nbformat_minor": 4
}
