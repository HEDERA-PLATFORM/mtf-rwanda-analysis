{
 "cells": [
  {
   "cell_type": "markdown",
   "metadata": {},
   "source": [
    "# Evaluation of Multi-Tier Framework for measuring access to electricity "
   ]
  },
  {
   "cell_type": "markdown",
   "metadata": {},
   "source": [
    "### Importing the useful libraries"
   ]
  },
  {
   "cell_type": "code",
   "execution_count": 1145,
   "metadata": {},
   "outputs": [],
   "source": [
    "import numpy as np\n",
    "import pandas as pd\n",
    "import matplotlib.pyplot as plt\n",
    "from matplotlib.pyplot import pie, axis, show\n",
    "import seaborn as sns\n",
    "sns.set_style('darkgrid')\n",
    "import warnings\n",
    "warnings.filterwarnings(\"ignore\")"
   ]
  },
  {
   "cell_type": "markdown",
   "metadata": {},
   "source": [
    "### Importing the dataset"
   ]
  },
  {
   "cell_type": "code",
   "execution_count": 1146,
   "metadata": {
    "scrolled": true
   },
   "outputs": [],
   "source": [
    "df = pd.read_csv('Main_dataset.csv')"
   ]
  },
  {
   "cell_type": "code",
   "execution_count": 1147,
   "metadata": {},
   "outputs": [
    {
     "data": {
      "text/html": [
       "<div>\n",
       "<style scoped>\n",
       "    .dataframe tbody tr th:only-of-type {\n",
       "        vertical-align: middle;\n",
       "    }\n",
       "\n",
       "    .dataframe tbody tr th {\n",
       "        vertical-align: top;\n",
       "    }\n",
       "\n",
       "    .dataframe thead th {\n",
       "        text-align: right;\n",
       "    }\n",
       "</style>\n",
       "<table border=\"1\" class=\"dataframe\">\n",
       "  <thead>\n",
       "    <tr style=\"text-align: right;\">\n",
       "      <th></th>\n",
       "      <th>Unnamed: 0</th>\n",
       "      <th>HHID</th>\n",
       "      <th>Cluster</th>\n",
       "      <th>strata</th>\n",
       "      <th>Province</th>\n",
       "      <th>District</th>\n",
       "      <th>Sector</th>\n",
       "      <th>Cellule</th>\n",
       "      <th>Village</th>\n",
       "      <th>B1</th>\n",
       "      <th>...</th>\n",
       "      <th>T28</th>\n",
       "      <th>T28B</th>\n",
       "      <th>T28C</th>\n",
       "      <th>DATE_START</th>\n",
       "      <th>TIME_START</th>\n",
       "      <th>DATE_END</th>\n",
       "      <th>TIME_END</th>\n",
       "      <th>cluster</th>\n",
       "      <th>sample_weight</th>\n",
       "      <th>Locality</th>\n",
       "    </tr>\n",
       "  </thead>\n",
       "  <tbody>\n",
       "    <tr>\n",
       "      <th>0</th>\n",
       "      <td>0</td>\n",
       "      <td>1.102021e+12</td>\n",
       "      <td>1</td>\n",
       "      <td>11</td>\n",
       "      <td>City of Kigali</td>\n",
       "      <td>Nyarugenge</td>\n",
       "      <td>Kanyinya</td>\n",
       "      <td>Nzove</td>\n",
       "      <td>Ruyenzi</td>\n",
       "      <td>2.0</td>\n",
       "      <td>...</td>\n",
       "      <td>NaN</td>\n",
       "      <td>NaN</td>\n",
       "      <td>NaN</td>\n",
       "      <td>18/11/2016</td>\n",
       "      <td>12:05</td>\n",
       "      <td>18/11/2016</td>\n",
       "      <td>12:49</td>\n",
       "      <td>11</td>\n",
       "      <td>476.61765</td>\n",
       "      <td>Rural</td>\n",
       "    </tr>\n",
       "    <tr>\n",
       "      <th>1</th>\n",
       "      <td>1</td>\n",
       "      <td>1.102021e+12</td>\n",
       "      <td>1</td>\n",
       "      <td>12</td>\n",
       "      <td>City of Kigali</td>\n",
       "      <td>Nyarugenge</td>\n",
       "      <td>Kanyinya</td>\n",
       "      <td>Nzove</td>\n",
       "      <td>Ruyenzi</td>\n",
       "      <td>1.0</td>\n",
       "      <td>...</td>\n",
       "      <td>NaN</td>\n",
       "      <td>NaN</td>\n",
       "      <td>NaN</td>\n",
       "      <td>18/11/2016</td>\n",
       "      <td>10:23</td>\n",
       "      <td>18/11/2016</td>\n",
       "      <td>11:26</td>\n",
       "      <td>12</td>\n",
       "      <td>370.04202</td>\n",
       "      <td>Rural</td>\n",
       "    </tr>\n",
       "    <tr>\n",
       "      <th>2</th>\n",
       "      <td>2</td>\n",
       "      <td>1.102021e+12</td>\n",
       "      <td>1</td>\n",
       "      <td>12</td>\n",
       "      <td>City of Kigali</td>\n",
       "      <td>Nyarugenge</td>\n",
       "      <td>Kanyinya</td>\n",
       "      <td>Nzove</td>\n",
       "      <td>Ruyenzi</td>\n",
       "      <td>1.0</td>\n",
       "      <td>...</td>\n",
       "      <td>NaN</td>\n",
       "      <td>NaN</td>\n",
       "      <td>NaN</td>\n",
       "      <td>18/11/2016</td>\n",
       "      <td>11:32</td>\n",
       "      <td>18/11/2016</td>\n",
       "      <td>12:24</td>\n",
       "      <td>12</td>\n",
       "      <td>370.04202</td>\n",
       "      <td>Rural</td>\n",
       "    </tr>\n",
       "    <tr>\n",
       "      <th>3</th>\n",
       "      <td>3</td>\n",
       "      <td>1.102021e+12</td>\n",
       "      <td>1</td>\n",
       "      <td>12</td>\n",
       "      <td>City of Kigali</td>\n",
       "      <td>Nyarugenge</td>\n",
       "      <td>Kanyinya</td>\n",
       "      <td>Nzove</td>\n",
       "      <td>Ruyenzi</td>\n",
       "      <td>1.0</td>\n",
       "      <td>...</td>\n",
       "      <td>NaN</td>\n",
       "      <td>NaN</td>\n",
       "      <td>NaN</td>\n",
       "      <td>18/11/2016</td>\n",
       "      <td>10:30</td>\n",
       "      <td>18/11/2016</td>\n",
       "      <td>11:17</td>\n",
       "      <td>12</td>\n",
       "      <td>370.04202</td>\n",
       "      <td>Rural</td>\n",
       "    </tr>\n",
       "    <tr>\n",
       "      <th>4</th>\n",
       "      <td>4</td>\n",
       "      <td>1.102021e+12</td>\n",
       "      <td>1</td>\n",
       "      <td>12</td>\n",
       "      <td>City of Kigali</td>\n",
       "      <td>Nyarugenge</td>\n",
       "      <td>Kanyinya</td>\n",
       "      <td>Nzove</td>\n",
       "      <td>Ruyenzi</td>\n",
       "      <td>1.0</td>\n",
       "      <td>...</td>\n",
       "      <td>No</td>\n",
       "      <td>NaN</td>\n",
       "      <td>NaN</td>\n",
       "      <td>18/11/2016</td>\n",
       "      <td>10:14</td>\n",
       "      <td>18/11/2016</td>\n",
       "      <td>11:28</td>\n",
       "      <td>12</td>\n",
       "      <td>370.04202</td>\n",
       "      <td>Rural</td>\n",
       "    </tr>\n",
       "  </tbody>\n",
       "</table>\n",
       "<p>5 rows × 731 columns</p>\n",
       "</div>"
      ],
      "text/plain": [
       "   Unnamed: 0          HHID  Cluster  strata        Province    District  \\\n",
       "0           0  1.102021e+12        1      11  City of Kigali  Nyarugenge   \n",
       "1           1  1.102021e+12        1      12  City of Kigali  Nyarugenge   \n",
       "2           2  1.102021e+12        1      12  City of Kigali  Nyarugenge   \n",
       "3           3  1.102021e+12        1      12  City of Kigali  Nyarugenge   \n",
       "4           4  1.102021e+12        1      12  City of Kigali  Nyarugenge   \n",
       "\n",
       "     Sector Cellule  Village   B1  ...  T28 T28B  T28C  DATE_START  \\\n",
       "0  Kanyinya   Nzove  Ruyenzi  2.0  ...  NaN  NaN   NaN  18/11/2016   \n",
       "1  Kanyinya   Nzove  Ruyenzi  1.0  ...  NaN  NaN   NaN  18/11/2016   \n",
       "2  Kanyinya   Nzove  Ruyenzi  1.0  ...  NaN  NaN   NaN  18/11/2016   \n",
       "3  Kanyinya   Nzove  Ruyenzi  1.0  ...  NaN  NaN   NaN  18/11/2016   \n",
       "4  Kanyinya   Nzove  Ruyenzi  1.0  ...   No  NaN   NaN  18/11/2016   \n",
       "\n",
       "   TIME_START    DATE_END  TIME_END cluster  sample_weight  Locality  \n",
       "0       12:05  18/11/2016     12:49      11      476.61765     Rural  \n",
       "1       10:23  18/11/2016     11:26      12      370.04202     Rural  \n",
       "2       11:32  18/11/2016     12:24      12      370.04202     Rural  \n",
       "3       10:30  18/11/2016     11:17      12      370.04202     Rural  \n",
       "4       10:14  18/11/2016     11:28      12      370.04202     Rural  \n",
       "\n",
       "[5 rows x 731 columns]"
      ]
     },
     "execution_count": 1147,
     "metadata": {},
     "output_type": "execute_result"
    }
   ],
   "source": [
    "df.head()"
   ]
  },
  {
   "cell_type": "markdown",
   "metadata": {},
   "source": [
    "### Downloading csv file from dta format\n",
    "\n",
    "df.to_csv(\"Main_dataset.csv\")"
   ]
  },
  {
   "cell_type": "markdown",
   "metadata": {},
   "source": [
    "## Selecting the features for analysis"
   ]
  },
  {
   "cell_type": "markdown",
   "metadata": {},
   "source": [
    "## 1. Attribute: Capacity"
   ]
  },
  {
   "cell_type": "code",
   "execution_count": 1148,
   "metadata": {},
   "outputs": [],
   "source": [
    "df_cap= df[['C22']]"
   ]
  },
  {
   "cell_type": "code",
   "execution_count": 1149,
   "metadata": {
    "scrolled": false
   },
   "outputs": [
    {
     "name": "stdout",
     "output_type": "stream",
     "text": [
      "<class 'pandas.core.frame.DataFrame'>\n",
      "RangeIndex: 3295 entries, 0 to 3294\n",
      "Data columns (total 1 columns):\n",
      " #   Column  Non-Null Count  Dtype  \n",
      "---  ------  --------------  -----  \n",
      " 0   C22     1478 non-null   float64\n",
      "dtypes: float64(1)\n",
      "memory usage: 25.9 KB\n"
     ]
    }
   ],
   "source": [
    "df_cap.info()"
   ]
  },
  {
   "cell_type": "markdown",
   "metadata": {},
   "source": [
    "### Printing the new dataset"
   ]
  },
  {
   "cell_type": "code",
   "execution_count": 1150,
   "metadata": {},
   "outputs": [
    {
     "data": {
      "text/html": [
       "<div>\n",
       "<style scoped>\n",
       "    .dataframe tbody tr th:only-of-type {\n",
       "        vertical-align: middle;\n",
       "    }\n",
       "\n",
       "    .dataframe tbody tr th {\n",
       "        vertical-align: top;\n",
       "    }\n",
       "\n",
       "    .dataframe thead th {\n",
       "        text-align: right;\n",
       "    }\n",
       "</style>\n",
       "<table border=\"1\" class=\"dataframe\">\n",
       "  <thead>\n",
       "    <tr style=\"text-align: right;\">\n",
       "      <th></th>\n",
       "      <th>C22</th>\n",
       "    </tr>\n",
       "  </thead>\n",
       "  <tbody>\n",
       "    <tr>\n",
       "      <th>3290</th>\n",
       "      <td>NaN</td>\n",
       "    </tr>\n",
       "    <tr>\n",
       "      <th>3291</th>\n",
       "      <td>4.65</td>\n",
       "    </tr>\n",
       "    <tr>\n",
       "      <th>3292</th>\n",
       "      <td>6.05</td>\n",
       "    </tr>\n",
       "    <tr>\n",
       "      <th>3293</th>\n",
       "      <td>4.65</td>\n",
       "    </tr>\n",
       "    <tr>\n",
       "      <th>3294</th>\n",
       "      <td>NaN</td>\n",
       "    </tr>\n",
       "  </tbody>\n",
       "</table>\n",
       "</div>"
      ],
      "text/plain": [
       "       C22\n",
       "3290   NaN\n",
       "3291  4.65\n",
       "3292  6.05\n",
       "3293  4.65\n",
       "3294   NaN"
      ]
     },
     "execution_count": 1150,
     "metadata": {},
     "output_type": "execute_result"
    }
   ],
   "source": [
    "df_cap.tail()"
   ]
  },
  {
   "cell_type": "markdown",
   "metadata": {},
   "source": [
    "### Replacing NaN values with \"12345\" (random number) \n",
    "\n",
    "This is done to keep the missing values into analysis (As it is important to know how many missing values do we have)"
   ]
  },
  {
   "cell_type": "code",
   "execution_count": 1151,
   "metadata": {},
   "outputs": [],
   "source": [
    "df_cap[\"C22\"].fillna(12345, inplace = True) "
   ]
  },
  {
   "cell_type": "code",
   "execution_count": 1152,
   "metadata": {
    "scrolled": true
   },
   "outputs": [
    {
     "data": {
      "text/html": [
       "<div>\n",
       "<style scoped>\n",
       "    .dataframe tbody tr th:only-of-type {\n",
       "        vertical-align: middle;\n",
       "    }\n",
       "\n",
       "    .dataframe tbody tr th {\n",
       "        vertical-align: top;\n",
       "    }\n",
       "\n",
       "    .dataframe thead th {\n",
       "        text-align: right;\n",
       "    }\n",
       "</style>\n",
       "<table border=\"1\" class=\"dataframe\">\n",
       "  <thead>\n",
       "    <tr style=\"text-align: right;\">\n",
       "      <th></th>\n",
       "      <th>C22</th>\n",
       "    </tr>\n",
       "  </thead>\n",
       "  <tbody>\n",
       "    <tr>\n",
       "      <th>0</th>\n",
       "      <td>12345.0</td>\n",
       "    </tr>\n",
       "    <tr>\n",
       "      <th>1</th>\n",
       "      <td>12345.0</td>\n",
       "    </tr>\n",
       "    <tr>\n",
       "      <th>2</th>\n",
       "      <td>12345.0</td>\n",
       "    </tr>\n",
       "    <tr>\n",
       "      <th>3</th>\n",
       "      <td>12345.0</td>\n",
       "    </tr>\n",
       "    <tr>\n",
       "      <th>4</th>\n",
       "      <td>12345.0</td>\n",
       "    </tr>\n",
       "  </tbody>\n",
       "</table>\n",
       "</div>"
      ],
      "text/plain": [
       "       C22\n",
       "0  12345.0\n",
       "1  12345.0\n",
       "2  12345.0\n",
       "3  12345.0\n",
       "4  12345.0"
      ]
     },
     "execution_count": 1152,
     "metadata": {},
     "output_type": "execute_result"
    }
   ],
   "source": [
    "df_cap.head()"
   ]
  },
  {
   "cell_type": "code",
   "execution_count": 1153,
   "metadata": {},
   "outputs": [
    {
     "name": "stdout",
     "output_type": "stream",
     "text": [
      "<class 'pandas.core.frame.DataFrame'>\n",
      "RangeIndex: 3295 entries, 0 to 3294\n",
      "Data columns (total 1 columns):\n",
      " #   Column  Non-Null Count  Dtype  \n",
      "---  ------  --------------  -----  \n",
      " 0   C22     3295 non-null   float64\n",
      "dtypes: float64(1)\n",
      "memory usage: 25.9 KB\n"
     ]
    }
   ],
   "source": [
    "df_cap.info()"
   ]
  },
  {
   "cell_type": "markdown",
   "metadata": {},
   "source": [
    "### Adding column \"TIER\" to the dataset with respect to household's power consumption"
   ]
  },
  {
   "cell_type": "code",
   "execution_count": 1154,
   "metadata": {},
   "outputs": [],
   "source": [
    "def conditions(C22):\n",
    "    if C22 ==12345:\n",
    "        return \"Missing_data\"\n",
    "    elif C22<3:\n",
    "        return \"0\"\n",
    "    elif 3<C22<50:\n",
    "        return \"1\"\n",
    "    elif 50<C22<200:\n",
    "        return \"2\"\n",
    "    elif 200<C22<800:\n",
    "        return \"3\"\n",
    "    elif 800<C22<2000:\n",
    "        return \"4\"\n",
    "    else:\n",
    "        return \"5\"\n",
    "    \n",
    "func = np.vectorize(conditions)\n",
    "transform = func(df_cap.C22)\n",
    "df_cap[\"TIER\"] = transform"
   ]
  },
  {
   "cell_type": "code",
   "execution_count": 1155,
   "metadata": {
    "scrolled": true
   },
   "outputs": [
    {
     "data": {
      "text/html": [
       "<div>\n",
       "<style scoped>\n",
       "    .dataframe tbody tr th:only-of-type {\n",
       "        vertical-align: middle;\n",
       "    }\n",
       "\n",
       "    .dataframe tbody tr th {\n",
       "        vertical-align: top;\n",
       "    }\n",
       "\n",
       "    .dataframe thead th {\n",
       "        text-align: right;\n",
       "    }\n",
       "</style>\n",
       "<table border=\"1\" class=\"dataframe\">\n",
       "  <thead>\n",
       "    <tr style=\"text-align: right;\">\n",
       "      <th></th>\n",
       "      <th>C22</th>\n",
       "      <th>TIER</th>\n",
       "    </tr>\n",
       "  </thead>\n",
       "  <tbody>\n",
       "    <tr>\n",
       "      <th>0</th>\n",
       "      <td>12345.0</td>\n",
       "      <td>Missing_data</td>\n",
       "    </tr>\n",
       "    <tr>\n",
       "      <th>1</th>\n",
       "      <td>12345.0</td>\n",
       "      <td>Missing_data</td>\n",
       "    </tr>\n",
       "    <tr>\n",
       "      <th>2</th>\n",
       "      <td>12345.0</td>\n",
       "      <td>Missing_data</td>\n",
       "    </tr>\n",
       "    <tr>\n",
       "      <th>3</th>\n",
       "      <td>12345.0</td>\n",
       "      <td>Missing_data</td>\n",
       "    </tr>\n",
       "    <tr>\n",
       "      <th>4</th>\n",
       "      <td>12345.0</td>\n",
       "      <td>Missing_data</td>\n",
       "    </tr>\n",
       "  </tbody>\n",
       "</table>\n",
       "</div>"
      ],
      "text/plain": [
       "       C22          TIER\n",
       "0  12345.0  Missing_data\n",
       "1  12345.0  Missing_data\n",
       "2  12345.0  Missing_data\n",
       "3  12345.0  Missing_data\n",
       "4  12345.0  Missing_data"
      ]
     },
     "execution_count": 1155,
     "metadata": {},
     "output_type": "execute_result"
    }
   ],
   "source": [
    "df_cap.head()"
   ]
  },
  {
   "cell_type": "markdown",
   "metadata": {},
   "source": [
    "### Printing the TIER counts"
   ]
  },
  {
   "cell_type": "code",
   "execution_count": 1156,
   "metadata": {
    "scrolled": true
   },
   "outputs": [
    {
     "data": {
      "text/plain": [
       "Missing_data    1817\n",
       "1               1227\n",
       "0                143\n",
       "2                103\n",
       "3                  5\n",
       "Name: TIER, dtype: int64"
      ]
     },
     "execution_count": 1156,
     "metadata": {},
     "output_type": "execute_result"
    }
   ],
   "source": [
    "df_cap['TIER'].value_counts()"
   ]
  },
  {
   "cell_type": "markdown",
   "metadata": {},
   "source": [
    "### Visualizing the TIER levels "
   ]
  },
  {
   "cell_type": "code",
   "execution_count": 1157,
   "metadata": {
    "scrolled": false
   },
   "outputs": [
    {
     "data": {
      "text/plain": [
       "Text(0.5, 1.0, 'TIER levels based on power capacity')"
      ]
     },
     "execution_count": 1157,
     "metadata": {},
     "output_type": "execute_result"
    },
    {
     "data": {
      "image/png": "[encoded data removed]",
      "text/plain": [
       "<Figure size 432x288 with 1 Axes>"
      ]
     },
     "metadata": {},
     "output_type": "display_data"
    }
   ],
   "source": [
    "df_cap.TIER.value_counts().plot(kind='pie')\n",
    "plt.axis('equal')\n",
    "plt.title('TIER levels based on power capacity')"
   ]
  },
  {
   "cell_type": "markdown",
   "metadata": {},
   "source": [
    "## 2. Attribute: Availabilty"
   ]
  },
  {
   "cell_type": "markdown",
   "metadata": {},
   "source": [
    "Methodology:\n",
    "\n",
    "To understand the attribute more carefully, two columns have been taekn into consideration, C26A and C26B; \n",
    "* C26A represents the hours of electricity available each day and night from the grid in the worst months. \n",
    "* Whereas, C26B represents the hours of electricity available each day and nightfrom the grid in the actual months."
   ]
  },
  {
   "cell_type": "code",
   "execution_count": 1158,
   "metadata": {},
   "outputs": [],
   "source": [
    "df_av= df[['C26A','C26B']]"
   ]
  },
  {
   "cell_type": "code",
   "execution_count": 1159,
   "metadata": {
    "scrolled": true
   },
   "outputs": [
    {
     "data": {
      "text/html": [
       "<div>\n",
       "<style scoped>\n",
       "    .dataframe tbody tr th:only-of-type {\n",
       "        vertical-align: middle;\n",
       "    }\n",
       "\n",
       "    .dataframe tbody tr th {\n",
       "        vertical-align: top;\n",
       "    }\n",
       "\n",
       "    .dataframe thead th {\n",
       "        text-align: right;\n",
       "    }\n",
       "</style>\n",
       "<table border=\"1\" class=\"dataframe\">\n",
       "  <thead>\n",
       "    <tr style=\"text-align: right;\">\n",
       "      <th></th>\n",
       "      <th>C26A</th>\n",
       "      <th>C26B</th>\n",
       "    </tr>\n",
       "  </thead>\n",
       "  <tbody>\n",
       "    <tr>\n",
       "      <th>3290</th>\n",
       "      <td>NaN</td>\n",
       "      <td>NaN</td>\n",
       "    </tr>\n",
       "    <tr>\n",
       "      <th>3291</th>\n",
       "      <td>13.0</td>\n",
       "      <td>18.0</td>\n",
       "    </tr>\n",
       "    <tr>\n",
       "      <th>3292</th>\n",
       "      <td>19.0</td>\n",
       "      <td>24.0</td>\n",
       "    </tr>\n",
       "    <tr>\n",
       "      <th>3293</th>\n",
       "      <td>NaN</td>\n",
       "      <td>23.0</td>\n",
       "    </tr>\n",
       "    <tr>\n",
       "      <th>3294</th>\n",
       "      <td>NaN</td>\n",
       "      <td>NaN</td>\n",
       "    </tr>\n",
       "  </tbody>\n",
       "</table>\n",
       "</div>"
      ],
      "text/plain": [
       "      C26A  C26B\n",
       "3290   NaN   NaN\n",
       "3291  13.0  18.0\n",
       "3292  19.0  24.0\n",
       "3293   NaN  23.0\n",
       "3294   NaN   NaN"
      ]
     },
     "execution_count": 1159,
     "metadata": {},
     "output_type": "execute_result"
    }
   ],
   "source": [
    "df_av.tail()"
   ]
  },
  {
   "cell_type": "code",
   "execution_count": 1160,
   "metadata": {
    "scrolled": true
   },
   "outputs": [
    {
     "name": "stdout",
     "output_type": "stream",
     "text": [
      "<class 'pandas.core.frame.DataFrame'>\n",
      "RangeIndex: 3295 entries, 0 to 3294\n",
      "Data columns (total 2 columns):\n",
      " #   Column  Non-Null Count  Dtype \n",
      "---  ------  --------------  ----- \n",
      " 0   C26A    652 non-null    object\n",
      " 1   C26B    1591 non-null   object\n",
      "dtypes: object(2)\n",
      "memory usage: 51.6+ KB\n"
     ]
    }
   ],
   "source": [
    "df_av.info()"
   ]
  },
  {
   "cell_type": "markdown",
   "metadata": {},
   "source": [
    "## Calculation\n",
    "\n",
    "In this step a new column \"C26A_new\" hasbeen formed. For this column, the values from column \"C26A, worst months\" has been taken as the main source of analysis and any missing information (missing value of a household) for this column has been taken from the column \"C26B, actual months\". This is done because the world bank group considers worst situation for analysis. "
   ]
  },
  {
   "cell_type": "code",
   "execution_count": 1161,
   "metadata": {},
   "outputs": [],
   "source": [
    "df_av['C26A_new'] = df_av.C26A.fillna(value=df_av.C26B)"
   ]
  },
  {
   "cell_type": "code",
   "execution_count": 1162,
   "metadata": {},
   "outputs": [
    {
     "data": {
      "text/html": [
       "<div>\n",
       "<style scoped>\n",
       "    .dataframe tbody tr th:only-of-type {\n",
       "        vertical-align: middle;\n",
       "    }\n",
       "\n",
       "    .dataframe tbody tr th {\n",
       "        vertical-align: top;\n",
       "    }\n",
       "\n",
       "    .dataframe thead th {\n",
       "        text-align: right;\n",
       "    }\n",
       "</style>\n",
       "<table border=\"1\" class=\"dataframe\">\n",
       "  <thead>\n",
       "    <tr style=\"text-align: right;\">\n",
       "      <th></th>\n",
       "      <th>C26A</th>\n",
       "      <th>C26B</th>\n",
       "      <th>C26A_new</th>\n",
       "    </tr>\n",
       "  </thead>\n",
       "  <tbody>\n",
       "    <tr>\n",
       "      <th>3290</th>\n",
       "      <td>NaN</td>\n",
       "      <td>NaN</td>\n",
       "      <td>NaN</td>\n",
       "    </tr>\n",
       "    <tr>\n",
       "      <th>3291</th>\n",
       "      <td>13.0</td>\n",
       "      <td>18.0</td>\n",
       "      <td>13.0</td>\n",
       "    </tr>\n",
       "    <tr>\n",
       "      <th>3292</th>\n",
       "      <td>19.0</td>\n",
       "      <td>24.0</td>\n",
       "      <td>19.0</td>\n",
       "    </tr>\n",
       "    <tr>\n",
       "      <th>3293</th>\n",
       "      <td>NaN</td>\n",
       "      <td>23.0</td>\n",
       "      <td>23.0</td>\n",
       "    </tr>\n",
       "    <tr>\n",
       "      <th>3294</th>\n",
       "      <td>NaN</td>\n",
       "      <td>NaN</td>\n",
       "      <td>NaN</td>\n",
       "    </tr>\n",
       "  </tbody>\n",
       "</table>\n",
       "</div>"
      ],
      "text/plain": [
       "      C26A  C26B C26A_new\n",
       "3290   NaN   NaN      NaN\n",
       "3291  13.0  18.0     13.0\n",
       "3292  19.0  24.0     19.0\n",
       "3293   NaN  23.0     23.0\n",
       "3294   NaN   NaN      NaN"
      ]
     },
     "execution_count": 1162,
     "metadata": {},
     "output_type": "execute_result"
    }
   ],
   "source": [
    "df_av.tail()"
   ]
  },
  {
   "cell_type": "code",
   "execution_count": 1163,
   "metadata": {
    "scrolled": true
   },
   "outputs": [
    {
     "name": "stdout",
     "output_type": "stream",
     "text": [
      "<class 'pandas.core.frame.DataFrame'>\n",
      "RangeIndex: 3295 entries, 0 to 3294\n",
      "Data columns (total 3 columns):\n",
      " #   Column    Non-Null Count  Dtype \n",
      "---  ------    --------------  ----- \n",
      " 0   C26A      652 non-null    object\n",
      " 1   C26B      1591 non-null   object\n",
      " 2   C26A_new  1591 non-null   object\n",
      "dtypes: object(3)\n",
      "memory usage: 77.4+ KB\n"
     ]
    }
   ],
   "source": [
    "df_av.info()"
   ]
  },
  {
   "cell_type": "markdown",
   "metadata": {},
   "source": [
    "### Replacing NaN values with \"12345\" (random number) \n",
    "\n",
    "This is done to keep the missing values into analysis (As it is important to know how many missing values do we have)"
   ]
  },
  {
   "cell_type": "code",
   "execution_count": 1164,
   "metadata": {},
   "outputs": [],
   "source": [
    "df_av[\"C26A_new\"].fillna(12345, inplace = True) "
   ]
  },
  {
   "cell_type": "code",
   "execution_count": 1165,
   "metadata": {
    "scrolled": true
   },
   "outputs": [
    {
     "data": {
      "text/html": [
       "<div>\n",
       "<style scoped>\n",
       "    .dataframe tbody tr th:only-of-type {\n",
       "        vertical-align: middle;\n",
       "    }\n",
       "\n",
       "    .dataframe tbody tr th {\n",
       "        vertical-align: top;\n",
       "    }\n",
       "\n",
       "    .dataframe thead th {\n",
       "        text-align: right;\n",
       "    }\n",
       "</style>\n",
       "<table border=\"1\" class=\"dataframe\">\n",
       "  <thead>\n",
       "    <tr style=\"text-align: right;\">\n",
       "      <th></th>\n",
       "      <th>C26A</th>\n",
       "      <th>C26B</th>\n",
       "      <th>C26A_new</th>\n",
       "    </tr>\n",
       "  </thead>\n",
       "  <tbody>\n",
       "    <tr>\n",
       "      <th>3290</th>\n",
       "      <td>NaN</td>\n",
       "      <td>NaN</td>\n",
       "      <td>12345</td>\n",
       "    </tr>\n",
       "    <tr>\n",
       "      <th>3291</th>\n",
       "      <td>13.0</td>\n",
       "      <td>18.0</td>\n",
       "      <td>13.0</td>\n",
       "    </tr>\n",
       "    <tr>\n",
       "      <th>3292</th>\n",
       "      <td>19.0</td>\n",
       "      <td>24.0</td>\n",
       "      <td>19.0</td>\n",
       "    </tr>\n",
       "    <tr>\n",
       "      <th>3293</th>\n",
       "      <td>NaN</td>\n",
       "      <td>23.0</td>\n",
       "      <td>23.0</td>\n",
       "    </tr>\n",
       "    <tr>\n",
       "      <th>3294</th>\n",
       "      <td>NaN</td>\n",
       "      <td>NaN</td>\n",
       "      <td>12345</td>\n",
       "    </tr>\n",
       "  </tbody>\n",
       "</table>\n",
       "</div>"
      ],
      "text/plain": [
       "      C26A  C26B C26A_new\n",
       "3290   NaN   NaN    12345\n",
       "3291  13.0  18.0     13.0\n",
       "3292  19.0  24.0     19.0\n",
       "3293   NaN  23.0     23.0\n",
       "3294   NaN   NaN    12345"
      ]
     },
     "execution_count": 1165,
     "metadata": {},
     "output_type": "execute_result"
    }
   ],
   "source": [
    "df_av.tail()"
   ]
  },
  {
   "cell_type": "code",
   "execution_count": 1166,
   "metadata": {},
   "outputs": [],
   "source": [
    "df_av=df_av.replace(to_replace=\"Don't know\",value=12345)"
   ]
  },
  {
   "cell_type": "code",
   "execution_count": 1167,
   "metadata": {
    "scrolled": true
   },
   "outputs": [
    {
     "name": "stdout",
     "output_type": "stream",
     "text": [
      "<class 'pandas.core.frame.DataFrame'>\n",
      "RangeIndex: 3295 entries, 0 to 3294\n",
      "Data columns (total 3 columns):\n",
      " #   Column    Non-Null Count  Dtype \n",
      "---  ------    --------------  ----- \n",
      " 0   C26A      652 non-null    object\n",
      " 1   C26B      1591 non-null   object\n",
      " 2   C26A_new  3295 non-null   object\n",
      "dtypes: object(3)\n",
      "memory usage: 77.4+ KB\n"
     ]
    }
   ],
   "source": [
    "df_av.info()"
   ]
  },
  {
   "cell_type": "markdown",
   "metadata": {},
   "source": [
    "### Converting coulmn C26A_new from Dtype: Object to Dtype: Float"
   ]
  },
  {
   "cell_type": "code",
   "execution_count": 1168,
   "metadata": {},
   "outputs": [],
   "source": [
    "df_av[\"C26A_new\"] = pd.to_numeric(df_av[\"C26A_new\"])"
   ]
  },
  {
   "cell_type": "markdown",
   "metadata": {},
   "source": [
    "### Adding column \"AVAILABILITY\" to the dataset with respect to household's daily consumption"
   ]
  },
  {
   "cell_type": "code",
   "execution_count": 1169,
   "metadata": {},
   "outputs": [],
   "source": [
    "# AVAILABILITY\n",
    "#Note: conditions for TIER 1 and 2 are the same\n",
    "\n",
    "def conditions(C26A_new):\n",
    "    if C26A_new ==12345:\n",
    "        return \"Missing_data\"\n",
    "    elif C26A_new<4:\n",
    "        return \"0\"\n",
    "    elif 4<C26A_new<8:\n",
    "        return \"1&2\"\n",
    "    elif 8<C26A_new<16:\n",
    "        return \"3\"\n",
    "    elif 16<C26A_new<23:\n",
    "        return \"4\"\n",
    "    else:\n",
    "        return \"5\"\n",
    "    \n",
    "func = np.vectorize(conditions)\n",
    "transform = func(df_av.C26A_new)\n",
    "df_av[\"AVAILABILITY\"] = transform"
   ]
  },
  {
   "cell_type": "code",
   "execution_count": 1170,
   "metadata": {},
   "outputs": [
    {
     "data": {
      "text/html": [
       "<div>\n",
       "<style scoped>\n",
       "    .dataframe tbody tr th:only-of-type {\n",
       "        vertical-align: middle;\n",
       "    }\n",
       "\n",
       "    .dataframe tbody tr th {\n",
       "        vertical-align: top;\n",
       "    }\n",
       "\n",
       "    .dataframe thead th {\n",
       "        text-align: right;\n",
       "    }\n",
       "</style>\n",
       "<table border=\"1\" class=\"dataframe\">\n",
       "  <thead>\n",
       "    <tr style=\"text-align: right;\">\n",
       "      <th></th>\n",
       "      <th>C26A</th>\n",
       "      <th>C26B</th>\n",
       "      <th>C26A_new</th>\n",
       "      <th>AVAILABILITY</th>\n",
       "    </tr>\n",
       "  </thead>\n",
       "  <tbody>\n",
       "    <tr>\n",
       "      <th>3290</th>\n",
       "      <td>NaN</td>\n",
       "      <td>NaN</td>\n",
       "      <td>12345.0</td>\n",
       "      <td>Missing_data</td>\n",
       "    </tr>\n",
       "    <tr>\n",
       "      <th>3291</th>\n",
       "      <td>13.0</td>\n",
       "      <td>18.0</td>\n",
       "      <td>13.0</td>\n",
       "      <td>3</td>\n",
       "    </tr>\n",
       "    <tr>\n",
       "      <th>3292</th>\n",
       "      <td>19.0</td>\n",
       "      <td>24.0</td>\n",
       "      <td>19.0</td>\n",
       "      <td>4</td>\n",
       "    </tr>\n",
       "    <tr>\n",
       "      <th>3293</th>\n",
       "      <td>NaN</td>\n",
       "      <td>23.0</td>\n",
       "      <td>23.0</td>\n",
       "      <td>5</td>\n",
       "    </tr>\n",
       "    <tr>\n",
       "      <th>3294</th>\n",
       "      <td>NaN</td>\n",
       "      <td>NaN</td>\n",
       "      <td>12345.0</td>\n",
       "      <td>Missing_data</td>\n",
       "    </tr>\n",
       "  </tbody>\n",
       "</table>\n",
       "</div>"
      ],
      "text/plain": [
       "      C26A  C26B  C26A_new  AVAILABILITY\n",
       "3290   NaN   NaN   12345.0  Missing_data\n",
       "3291  13.0  18.0      13.0             3\n",
       "3292  19.0  24.0      19.0             4\n",
       "3293   NaN  23.0      23.0             5\n",
       "3294   NaN   NaN   12345.0  Missing_data"
      ]
     },
     "execution_count": 1170,
     "metadata": {},
     "output_type": "execute_result"
    }
   ],
   "source": [
    "df_av.tail()"
   ]
  },
  {
   "cell_type": "code",
   "execution_count": 1171,
   "metadata": {},
   "outputs": [
    {
     "data": {
      "text/plain": [
       "Missing_data    1893\n",
       "4                572\n",
       "5                530\n",
       "3                184\n",
       "0                 60\n",
       "1&2               56\n",
       "Name: AVAILABILITY, dtype: int64"
      ]
     },
     "execution_count": 1171,
     "metadata": {},
     "output_type": "execute_result"
    }
   ],
   "source": [
    "df_av['AVAILABILITY'].value_counts()"
   ]
  },
  {
   "cell_type": "markdown",
   "metadata": {},
   "source": [
    "### Visualizing the TIER levels "
   ]
  },
  {
   "cell_type": "code",
   "execution_count": 1172,
   "metadata": {},
   "outputs": [
    {
     "data": {
      "text/plain": [
       "Text(0.5, 1.0, 'TIER levels based on electricity availability')"
      ]
     },
     "execution_count": 1172,
     "metadata": {},
     "output_type": "execute_result"
    },
    {
     "data": {
      "image/png": "[encoded data removed]",
      "text/plain": [
       "<Figure size 432x288 with 1 Axes>"
      ]
     },
     "metadata": {},
     "output_type": "display_data"
    }
   ],
   "source": [
    "df_av.AVAILABILITY.value_counts().plot(kind='pie')\n",
    "plt.axis('equal')\n",
    "plt.title('TIER levels based on electricity availability')"
   ]
  },
  {
   "cell_type": "code",
   "execution_count": null,
   "metadata": {},
   "outputs": [],
   "source": []
  }
 ],
 "metadata": {
  "kernelspec": {
   "display_name": "Python 3",
   "language": "python",
   "name": "python3"
  },
  "language_info": {
   "codemirror_mode": {
    "name": "ipython",
    "version": 3
   },
   "file_extension": ".py",
   "mimetype": "text/x-python",
   "name": "python",
   "nbconvert_exporter": "python",
   "pygments_lexer": "ipython3",
   "version": "3.7.6"
  }
 },
 "nbformat": 4,
 "nbformat_minor": 4
}
