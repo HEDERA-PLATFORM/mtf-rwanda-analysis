{
 "cells": [
  {
   "cell_type": "markdown",
   "metadata": {},
   "source": [
    "# Evaluation of Multi-Tier Framework for measuring access to electricity "
   ]
  },
  {
   "cell_type": "markdown",
   "metadata": {},
   "source": [
    "### Importing the useful libraries"
   ]
  },
  {
   "cell_type": "code",
   "execution_count": 3051,
   "metadata": {},
   "outputs": [],
   "source": [
    "import numpy as np\n",
    "import pandas as pd\n",
    "import matplotlib.pyplot as plt\n",
    "from matplotlib.pyplot import pie, axis, show\n",
    "import seaborn as sns\n",
    "sns.set_style('darkgrid')\n",
    "import warnings\n",
    "warnings.filterwarnings(\"ignore\")\n",
    "import math"
   ]
  },
  {
   "cell_type": "markdown",
   "metadata": {},
   "source": [
    "### Importing the dataset"
   ]
  },
  {
   "cell_type": "code",
   "execution_count": 3052,
   "metadata": {
    "scrolled": true
   },
   "outputs": [],
   "source": [
    "df = pd.read_csv('Main_dataset.csv')"
   ]
  },
  {
   "cell_type": "code",
   "execution_count": 3053,
   "metadata": {},
   "outputs": [
    {
     "data": {
      "text/html": [
       "<div>\n",
       "<style scoped>\n",
       "    .dataframe tbody tr th:only-of-type {\n",
       "        vertical-align: middle;\n",
       "    }\n",
       "\n",
       "    .dataframe tbody tr th {\n",
       "        vertical-align: top;\n",
       "    }\n",
       "\n",
       "    .dataframe thead th {\n",
       "        text-align: right;\n",
       "    }\n",
       "</style>\n",
       "<table border=\"1\" class=\"dataframe\">\n",
       "  <thead>\n",
       "    <tr style=\"text-align: right;\">\n",
       "      <th></th>\n",
       "      <th>Unnamed: 0</th>\n",
       "      <th>HHID</th>\n",
       "      <th>Cluster</th>\n",
       "      <th>strata</th>\n",
       "      <th>Province</th>\n",
       "      <th>District</th>\n",
       "      <th>Sector</th>\n",
       "      <th>Cellule</th>\n",
       "      <th>Village</th>\n",
       "      <th>B1</th>\n",
       "      <th>...</th>\n",
       "      <th>T28</th>\n",
       "      <th>T28B</th>\n",
       "      <th>T28C</th>\n",
       "      <th>DATE_START</th>\n",
       "      <th>TIME_START</th>\n",
       "      <th>DATE_END</th>\n",
       "      <th>TIME_END</th>\n",
       "      <th>cluster</th>\n",
       "      <th>sample_weight</th>\n",
       "      <th>Locality</th>\n",
       "    </tr>\n",
       "  </thead>\n",
       "  <tbody>\n",
       "    <tr>\n",
       "      <th>0</th>\n",
       "      <td>0</td>\n",
       "      <td>1.102021e+12</td>\n",
       "      <td>1</td>\n",
       "      <td>11</td>\n",
       "      <td>City of Kigali</td>\n",
       "      <td>Nyarugenge</td>\n",
       "      <td>Kanyinya</td>\n",
       "      <td>Nzove</td>\n",
       "      <td>Ruyenzi</td>\n",
       "      <td>2.0</td>\n",
       "      <td>...</td>\n",
       "      <td>NaN</td>\n",
       "      <td>NaN</td>\n",
       "      <td>NaN</td>\n",
       "      <td>18/11/2016</td>\n",
       "      <td>12:05</td>\n",
       "      <td>18/11/2016</td>\n",
       "      <td>12:49</td>\n",
       "      <td>11</td>\n",
       "      <td>476.61765</td>\n",
       "      <td>Rural</td>\n",
       "    </tr>\n",
       "    <tr>\n",
       "      <th>1</th>\n",
       "      <td>1</td>\n",
       "      <td>1.102021e+12</td>\n",
       "      <td>1</td>\n",
       "      <td>12</td>\n",
       "      <td>City of Kigali</td>\n",
       "      <td>Nyarugenge</td>\n",
       "      <td>Kanyinya</td>\n",
       "      <td>Nzove</td>\n",
       "      <td>Ruyenzi</td>\n",
       "      <td>1.0</td>\n",
       "      <td>...</td>\n",
       "      <td>NaN</td>\n",
       "      <td>NaN</td>\n",
       "      <td>NaN</td>\n",
       "      <td>18/11/2016</td>\n",
       "      <td>10:23</td>\n",
       "      <td>18/11/2016</td>\n",
       "      <td>11:26</td>\n",
       "      <td>12</td>\n",
       "      <td>370.04202</td>\n",
       "      <td>Rural</td>\n",
       "    </tr>\n",
       "    <tr>\n",
       "      <th>2</th>\n",
       "      <td>2</td>\n",
       "      <td>1.102021e+12</td>\n",
       "      <td>1</td>\n",
       "      <td>12</td>\n",
       "      <td>City of Kigali</td>\n",
       "      <td>Nyarugenge</td>\n",
       "      <td>Kanyinya</td>\n",
       "      <td>Nzove</td>\n",
       "      <td>Ruyenzi</td>\n",
       "      <td>1.0</td>\n",
       "      <td>...</td>\n",
       "      <td>NaN</td>\n",
       "      <td>NaN</td>\n",
       "      <td>NaN</td>\n",
       "      <td>18/11/2016</td>\n",
       "      <td>11:32</td>\n",
       "      <td>18/11/2016</td>\n",
       "      <td>12:24</td>\n",
       "      <td>12</td>\n",
       "      <td>370.04202</td>\n",
       "      <td>Rural</td>\n",
       "    </tr>\n",
       "    <tr>\n",
       "      <th>3</th>\n",
       "      <td>3</td>\n",
       "      <td>1.102021e+12</td>\n",
       "      <td>1</td>\n",
       "      <td>12</td>\n",
       "      <td>City of Kigali</td>\n",
       "      <td>Nyarugenge</td>\n",
       "      <td>Kanyinya</td>\n",
       "      <td>Nzove</td>\n",
       "      <td>Ruyenzi</td>\n",
       "      <td>1.0</td>\n",
       "      <td>...</td>\n",
       "      <td>NaN</td>\n",
       "      <td>NaN</td>\n",
       "      <td>NaN</td>\n",
       "      <td>18/11/2016</td>\n",
       "      <td>10:30</td>\n",
       "      <td>18/11/2016</td>\n",
       "      <td>11:17</td>\n",
       "      <td>12</td>\n",
       "      <td>370.04202</td>\n",
       "      <td>Rural</td>\n",
       "    </tr>\n",
       "    <tr>\n",
       "      <th>4</th>\n",
       "      <td>4</td>\n",
       "      <td>1.102021e+12</td>\n",
       "      <td>1</td>\n",
       "      <td>12</td>\n",
       "      <td>City of Kigali</td>\n",
       "      <td>Nyarugenge</td>\n",
       "      <td>Kanyinya</td>\n",
       "      <td>Nzove</td>\n",
       "      <td>Ruyenzi</td>\n",
       "      <td>1.0</td>\n",
       "      <td>...</td>\n",
       "      <td>No</td>\n",
       "      <td>NaN</td>\n",
       "      <td>NaN</td>\n",
       "      <td>18/11/2016</td>\n",
       "      <td>10:14</td>\n",
       "      <td>18/11/2016</td>\n",
       "      <td>11:28</td>\n",
       "      <td>12</td>\n",
       "      <td>370.04202</td>\n",
       "      <td>Rural</td>\n",
       "    </tr>\n",
       "  </tbody>\n",
       "</table>\n",
       "<p>5 rows × 731 columns</p>\n",
       "</div>"
      ],
      "text/plain": [
       "   Unnamed: 0          HHID  Cluster  strata        Province    District  \\\n",
       "0           0  1.102021e+12        1      11  City of Kigali  Nyarugenge   \n",
       "1           1  1.102021e+12        1      12  City of Kigali  Nyarugenge   \n",
       "2           2  1.102021e+12        1      12  City of Kigali  Nyarugenge   \n",
       "3           3  1.102021e+12        1      12  City of Kigali  Nyarugenge   \n",
       "4           4  1.102021e+12        1      12  City of Kigali  Nyarugenge   \n",
       "\n",
       "     Sector Cellule  Village   B1  ...  T28 T28B  T28C  DATE_START  \\\n",
       "0  Kanyinya   Nzove  Ruyenzi  2.0  ...  NaN  NaN   NaN  18/11/2016   \n",
       "1  Kanyinya   Nzove  Ruyenzi  1.0  ...  NaN  NaN   NaN  18/11/2016   \n",
       "2  Kanyinya   Nzove  Ruyenzi  1.0  ...  NaN  NaN   NaN  18/11/2016   \n",
       "3  Kanyinya   Nzove  Ruyenzi  1.0  ...  NaN  NaN   NaN  18/11/2016   \n",
       "4  Kanyinya   Nzove  Ruyenzi  1.0  ...   No  NaN   NaN  18/11/2016   \n",
       "\n",
       "   TIME_START    DATE_END  TIME_END cluster  sample_weight  Locality  \n",
       "0       12:05  18/11/2016     12:49      11      476.61765     Rural  \n",
       "1       10:23  18/11/2016     11:26      12      370.04202     Rural  \n",
       "2       11:32  18/11/2016     12:24      12      370.04202     Rural  \n",
       "3       10:30  18/11/2016     11:17      12      370.04202     Rural  \n",
       "4       10:14  18/11/2016     11:28      12      370.04202     Rural  \n",
       "\n",
       "[5 rows x 731 columns]"
      ]
     },
     "execution_count": 3053,
     "metadata": {},
     "output_type": "execute_result"
    }
   ],
   "source": [
    "df.head()"
   ]
  },
  {
   "cell_type": "markdown",
   "metadata": {},
   "source": [
    "### Analysing different Attributes\n",
    "\n",
    "Attributes which are analysed for MTF_Rwanda_Questionnaire_Household: \n",
    "\n",
    "1. Capacity\n",
    "2. Availability\n",
    "3. Reliability\n",
    "4. Quality\n",
    "5. Affordability\n",
    "6. Formality\n",
    "7. Health and safety"
   ]
  },
  {
   "cell_type": "markdown",
   "metadata": {},
   "source": [
    "### Downloading csv file from dta format\n",
    "\n",
    "df.to_csv(\"Main_dataset.csv\")"
   ]
  },
  {
   "cell_type": "markdown",
   "metadata": {},
   "source": [
    "# Attribute: Capacity"
   ]
  },
  {
   "cell_type": "markdown",
   "metadata": {},
   "source": [
    "To find out the power capacity, we need to know the different sources of power available. From our dataset:\n",
    "    \n",
    "1. C22: Power available from the national grid\n",
    "2. C64: Power available from the mini grid\n",
    "3. C88: Power available from the generator set\n",
    "4. C117: Power available from the inverter\n",
    "5. C119: Power available from the batteries\n",
    "6. C151: Power available from solar panel (Not present in the dataset but is there in the survey)\n",
    "7. C154: Power available from solar batteries (Not present in the dataset but is there in the survey)\n",
    "8. Other source: Pico-Hyro (power capacity question not mentioned in the survey)"
   ]
  },
  {
   "cell_type": "code",
   "execution_count": 3054,
   "metadata": {},
   "outputs": [],
   "source": [
    "df_analysis= df[['C22', 'C64','C88','C117','C119A']]"
   ]
  },
  {
   "cell_type": "code",
   "execution_count": 3055,
   "metadata": {},
   "outputs": [
    {
     "data": {
      "text/html": [
       "<div>\n",
       "<style scoped>\n",
       "    .dataframe tbody tr th:only-of-type {\n",
       "        vertical-align: middle;\n",
       "    }\n",
       "\n",
       "    .dataframe tbody tr th {\n",
       "        vertical-align: top;\n",
       "    }\n",
       "\n",
       "    .dataframe thead th {\n",
       "        text-align: right;\n",
       "    }\n",
       "</style>\n",
       "<table border=\"1\" class=\"dataframe\">\n",
       "  <thead>\n",
       "    <tr style=\"text-align: right;\">\n",
       "      <th></th>\n",
       "      <th>C22</th>\n",
       "      <th>C64</th>\n",
       "      <th>C88</th>\n",
       "      <th>C117</th>\n",
       "      <th>C119A</th>\n",
       "    </tr>\n",
       "  </thead>\n",
       "  <tbody>\n",
       "    <tr>\n",
       "      <th>3290</th>\n",
       "      <td>NaN</td>\n",
       "      <td>NaN</td>\n",
       "      <td>NaN</td>\n",
       "      <td>NaN</td>\n",
       "      <td>NaN</td>\n",
       "    </tr>\n",
       "    <tr>\n",
       "      <th>3291</th>\n",
       "      <td>4.65</td>\n",
       "      <td>NaN</td>\n",
       "      <td>NaN</td>\n",
       "      <td>NaN</td>\n",
       "      <td>NaN</td>\n",
       "    </tr>\n",
       "    <tr>\n",
       "      <th>3292</th>\n",
       "      <td>6.05</td>\n",
       "      <td>NaN</td>\n",
       "      <td>NaN</td>\n",
       "      <td>NaN</td>\n",
       "      <td>NaN</td>\n",
       "    </tr>\n",
       "    <tr>\n",
       "      <th>3293</th>\n",
       "      <td>4.65</td>\n",
       "      <td>NaN</td>\n",
       "      <td>NaN</td>\n",
       "      <td>NaN</td>\n",
       "      <td>NaN</td>\n",
       "    </tr>\n",
       "    <tr>\n",
       "      <th>3294</th>\n",
       "      <td>NaN</td>\n",
       "      <td>NaN</td>\n",
       "      <td>NaN</td>\n",
       "      <td>NaN</td>\n",
       "      <td>NaN</td>\n",
       "    </tr>\n",
       "  </tbody>\n",
       "</table>\n",
       "</div>"
      ],
      "text/plain": [
       "       C22  C64  C88  C117  C119A\n",
       "3290   NaN  NaN  NaN   NaN    NaN\n",
       "3291  4.65  NaN  NaN   NaN    NaN\n",
       "3292  6.05  NaN  NaN   NaN    NaN\n",
       "3293  4.65  NaN  NaN   NaN    NaN\n",
       "3294   NaN  NaN  NaN   NaN    NaN"
      ]
     },
     "execution_count": 3055,
     "metadata": {},
     "output_type": "execute_result"
    }
   ],
   "source": [
    "df_analysis.tail()"
   ]
  },
  {
   "cell_type": "markdown",
   "metadata": {},
   "source": [
    "### Renaming the columns"
   ]
  },
  {
   "cell_type": "markdown",
   "metadata": {},
   "source": [
    "For a better understanding of the dataset, the columns are named as follows:\n",
    "\n",
    "1. C22: National_Grid\n",
    "2. C64: Mini_Grid\n",
    "3. C88: Generator\n",
    "4. C117: Inverter\n",
    "5. C119A: Battery"
   ]
  },
  {
   "cell_type": "code",
   "execution_count": 3056,
   "metadata": {},
   "outputs": [],
   "source": [
    "df_analysis.columns = ['National_Grid', 'Mini_Grid','Generator','Inverter','Battery']"
   ]
  },
  {
   "cell_type": "code",
   "execution_count": 3057,
   "metadata": {
    "scrolled": true
   },
   "outputs": [
    {
     "data": {
      "text/html": [
       "<div>\n",
       "<style scoped>\n",
       "    .dataframe tbody tr th:only-of-type {\n",
       "        vertical-align: middle;\n",
       "    }\n",
       "\n",
       "    .dataframe tbody tr th {\n",
       "        vertical-align: top;\n",
       "    }\n",
       "\n",
       "    .dataframe thead th {\n",
       "        text-align: right;\n",
       "    }\n",
       "</style>\n",
       "<table border=\"1\" class=\"dataframe\">\n",
       "  <thead>\n",
       "    <tr style=\"text-align: right;\">\n",
       "      <th></th>\n",
       "      <th>National_Grid</th>\n",
       "      <th>Mini_Grid</th>\n",
       "      <th>Generator</th>\n",
       "      <th>Inverter</th>\n",
       "      <th>Battery</th>\n",
       "    </tr>\n",
       "  </thead>\n",
       "  <tbody>\n",
       "    <tr>\n",
       "      <th>3290</th>\n",
       "      <td>NaN</td>\n",
       "      <td>NaN</td>\n",
       "      <td>NaN</td>\n",
       "      <td>NaN</td>\n",
       "      <td>NaN</td>\n",
       "    </tr>\n",
       "    <tr>\n",
       "      <th>3291</th>\n",
       "      <td>4.65</td>\n",
       "      <td>NaN</td>\n",
       "      <td>NaN</td>\n",
       "      <td>NaN</td>\n",
       "      <td>NaN</td>\n",
       "    </tr>\n",
       "    <tr>\n",
       "      <th>3292</th>\n",
       "      <td>6.05</td>\n",
       "      <td>NaN</td>\n",
       "      <td>NaN</td>\n",
       "      <td>NaN</td>\n",
       "      <td>NaN</td>\n",
       "    </tr>\n",
       "    <tr>\n",
       "      <th>3293</th>\n",
       "      <td>4.65</td>\n",
       "      <td>NaN</td>\n",
       "      <td>NaN</td>\n",
       "      <td>NaN</td>\n",
       "      <td>NaN</td>\n",
       "    </tr>\n",
       "    <tr>\n",
       "      <th>3294</th>\n",
       "      <td>NaN</td>\n",
       "      <td>NaN</td>\n",
       "      <td>NaN</td>\n",
       "      <td>NaN</td>\n",
       "      <td>NaN</td>\n",
       "    </tr>\n",
       "  </tbody>\n",
       "</table>\n",
       "</div>"
      ],
      "text/plain": [
       "      National_Grid  Mini_Grid  Generator  Inverter  Battery\n",
       "3290            NaN        NaN        NaN       NaN      NaN\n",
       "3291           4.65        NaN        NaN       NaN      NaN\n",
       "3292           6.05        NaN        NaN       NaN      NaN\n",
       "3293           4.65        NaN        NaN       NaN      NaN\n",
       "3294            NaN        NaN        NaN       NaN      NaN"
      ]
     },
     "execution_count": 3057,
     "metadata": {},
     "output_type": "execute_result"
    }
   ],
   "source": [
    "df_analysis.tail()"
   ]
  },
  {
   "cell_type": "code",
   "execution_count": 3058,
   "metadata": {},
   "outputs": [
    {
     "data": {
      "text/html": [
       "<div>\n",
       "<style scoped>\n",
       "    .dataframe tbody tr th:only-of-type {\n",
       "        vertical-align: middle;\n",
       "    }\n",
       "\n",
       "    .dataframe tbody tr th {\n",
       "        vertical-align: top;\n",
       "    }\n",
       "\n",
       "    .dataframe thead th {\n",
       "        text-align: right;\n",
       "    }\n",
       "</style>\n",
       "<table border=\"1\" class=\"dataframe\">\n",
       "  <thead>\n",
       "    <tr style=\"text-align: right;\">\n",
       "      <th></th>\n",
       "      <th>National_Grid</th>\n",
       "      <th>Mini_Grid</th>\n",
       "      <th>Generator</th>\n",
       "      <th>Inverter</th>\n",
       "      <th>Battery</th>\n",
       "    </tr>\n",
       "  </thead>\n",
       "  <tbody>\n",
       "    <tr>\n",
       "      <th>count</th>\n",
       "      <td>1478.000000</td>\n",
       "      <td>8.000000</td>\n",
       "      <td>1.0</td>\n",
       "      <td>1.0</td>\n",
       "      <td>4.000000</td>\n",
       "    </tr>\n",
       "    <tr>\n",
       "      <th>mean</th>\n",
       "      <td>20.231604</td>\n",
       "      <td>9.883625</td>\n",
       "      <td>12.0</td>\n",
       "      <td>220.0</td>\n",
       "      <td>20.000000</td>\n",
       "    </tr>\n",
       "    <tr>\n",
       "      <th>std</th>\n",
       "      <td>30.050734</td>\n",
       "      <td>5.797545</td>\n",
       "      <td>NaN</td>\n",
       "      <td>NaN</td>\n",
       "      <td>33.665016</td>\n",
       "    </tr>\n",
       "    <tr>\n",
       "      <th>min</th>\n",
       "      <td>2.000000</td>\n",
       "      <td>4.651000</td>\n",
       "      <td>12.0</td>\n",
       "      <td>220.0</td>\n",
       "      <td>0.000000</td>\n",
       "    </tr>\n",
       "    <tr>\n",
       "      <th>25%</th>\n",
       "      <td>4.650000</td>\n",
       "      <td>4.651000</td>\n",
       "      <td>12.0</td>\n",
       "      <td>220.0</td>\n",
       "      <td>0.000000</td>\n",
       "    </tr>\n",
       "    <tr>\n",
       "      <th>50%</th>\n",
       "      <td>9.300000</td>\n",
       "      <td>9.302000</td>\n",
       "      <td>12.0</td>\n",
       "      <td>220.0</td>\n",
       "      <td>5.000000</td>\n",
       "    </tr>\n",
       "    <tr>\n",
       "      <th>75%</th>\n",
       "      <td>23.260000</td>\n",
       "      <td>11.627750</td>\n",
       "      <td>12.0</td>\n",
       "      <td>220.0</td>\n",
       "      <td>25.000000</td>\n",
       "    </tr>\n",
       "    <tr>\n",
       "      <th>max</th>\n",
       "      <td>400.000000</td>\n",
       "      <td>18.605000</td>\n",
       "      <td>12.0</td>\n",
       "      <td>220.0</td>\n",
       "      <td>70.000000</td>\n",
       "    </tr>\n",
       "  </tbody>\n",
       "</table>\n",
       "</div>"
      ],
      "text/plain": [
       "       National_Grid  Mini_Grid  Generator  Inverter    Battery\n",
       "count    1478.000000   8.000000        1.0       1.0   4.000000\n",
       "mean       20.231604   9.883625       12.0     220.0  20.000000\n",
       "std        30.050734   5.797545        NaN       NaN  33.665016\n",
       "min         2.000000   4.651000       12.0     220.0   0.000000\n",
       "25%         4.650000   4.651000       12.0     220.0   0.000000\n",
       "50%         9.300000   9.302000       12.0     220.0   5.000000\n",
       "75%        23.260000  11.627750       12.0     220.0  25.000000\n",
       "max       400.000000  18.605000       12.0     220.0  70.000000"
      ]
     },
     "execution_count": 3058,
     "metadata": {},
     "output_type": "execute_result"
    }
   ],
   "source": [
    "df_analysis.describe()"
   ]
  },
  {
   "cell_type": "markdown",
   "metadata": {},
   "source": [
    "### Disaggregating attribute capacity into \"National_Grid\" and \"Total_capacity\""
   ]
  },
  {
   "cell_type": "markdown",
   "metadata": {},
   "source": [
    "1. The attribute capacity has been further disaggregated into \"National_Grid\" and \"Total_capacity\" to study the dynamics thoroughly.\n",
    "\n",
    "2. Page 14 of MTF Energy Access Country Diagnostic report confirms that the average monthly household consumption of electricity is 20.8 kWh nationwide, 29.2 kWh in urban areas, and 9.9 kWh in rural areas. This means that the values recorded in the MTF survey for capacity are in kWh.\n",
    "\n",
    "3. 26.8% of households households have been assessed as having basic access to electricity supply. The remaining 73.2% have no electricity source"
   ]
  },
  {
   "cell_type": "markdown",
   "metadata": {},
   "source": [
    "## First analysing capacity: \"Total_capacity\"\n",
    "\n",
    "Total capacity is the sum of capacities of all the power sources."
   ]
  },
  {
   "cell_type": "code",
   "execution_count": 3059,
   "metadata": {},
   "outputs": [],
   "source": [
    "lst=[]\n",
    "for i in range(df_analysis.shape[0]):\n",
    "    temp=0\n",
    "    for j in range(df_analysis.shape[1]):\n",
    "        if math.isnan(df_analysis.iat[i,j]):\n",
    "            temp = temp\n",
    "        else:\n",
    "            temp = temp + df_analysis.iat[i,j]\n",
    "    lst.append(temp)\n",
    "\n",
    "# adding list to dataframe\n",
    "df_analysis[\"Total_Capacity\"] = lst"
   ]
  },
  {
   "cell_type": "code",
   "execution_count": 3060,
   "metadata": {
    "scrolled": true
   },
   "outputs": [
    {
     "data": {
      "text/html": [
       "<div>\n",
       "<style scoped>\n",
       "    .dataframe tbody tr th:only-of-type {\n",
       "        vertical-align: middle;\n",
       "    }\n",
       "\n",
       "    .dataframe tbody tr th {\n",
       "        vertical-align: top;\n",
       "    }\n",
       "\n",
       "    .dataframe thead th {\n",
       "        text-align: right;\n",
       "    }\n",
       "</style>\n",
       "<table border=\"1\" class=\"dataframe\">\n",
       "  <thead>\n",
       "    <tr style=\"text-align: right;\">\n",
       "      <th></th>\n",
       "      <th>National_Grid</th>\n",
       "      <th>Mini_Grid</th>\n",
       "      <th>Generator</th>\n",
       "      <th>Inverter</th>\n",
       "      <th>Battery</th>\n",
       "      <th>Total_Capacity</th>\n",
       "    </tr>\n",
       "  </thead>\n",
       "  <tbody>\n",
       "    <tr>\n",
       "      <th>0</th>\n",
       "      <td>NaN</td>\n",
       "      <td>NaN</td>\n",
       "      <td>NaN</td>\n",
       "      <td>NaN</td>\n",
       "      <td>NaN</td>\n",
       "      <td>0.0</td>\n",
       "    </tr>\n",
       "    <tr>\n",
       "      <th>1</th>\n",
       "      <td>NaN</td>\n",
       "      <td>NaN</td>\n",
       "      <td>NaN</td>\n",
       "      <td>NaN</td>\n",
       "      <td>NaN</td>\n",
       "      <td>0.0</td>\n",
       "    </tr>\n",
       "    <tr>\n",
       "      <th>2</th>\n",
       "      <td>NaN</td>\n",
       "      <td>NaN</td>\n",
       "      <td>NaN</td>\n",
       "      <td>NaN</td>\n",
       "      <td>NaN</td>\n",
       "      <td>0.0</td>\n",
       "    </tr>\n",
       "    <tr>\n",
       "      <th>3</th>\n",
       "      <td>NaN</td>\n",
       "      <td>NaN</td>\n",
       "      <td>NaN</td>\n",
       "      <td>NaN</td>\n",
       "      <td>NaN</td>\n",
       "      <td>0.0</td>\n",
       "    </tr>\n",
       "    <tr>\n",
       "      <th>4</th>\n",
       "      <td>NaN</td>\n",
       "      <td>NaN</td>\n",
       "      <td>NaN</td>\n",
       "      <td>NaN</td>\n",
       "      <td>NaN</td>\n",
       "      <td>0.0</td>\n",
       "    </tr>\n",
       "  </tbody>\n",
       "</table>\n",
       "</div>"
      ],
      "text/plain": [
       "   National_Grid  Mini_Grid  Generator  Inverter  Battery  Total_Capacity\n",
       "0            NaN        NaN        NaN       NaN      NaN             0.0\n",
       "1            NaN        NaN        NaN       NaN      NaN             0.0\n",
       "2            NaN        NaN        NaN       NaN      NaN             0.0\n",
       "3            NaN        NaN        NaN       NaN      NaN             0.0\n",
       "4            NaN        NaN        NaN       NaN      NaN             0.0"
      ]
     },
     "execution_count": 3060,
     "metadata": {},
     "output_type": "execute_result"
    }
   ],
   "source": [
    "df_analysis.head()"
   ]
  },
  {
   "cell_type": "markdown",
   "metadata": {},
   "source": [
    "### Visualizing the new dataset"
   ]
  },
  {
   "cell_type": "code",
   "execution_count": 3061,
   "metadata": {},
   "outputs": [],
   "source": [
    "df_total=df_analysis[['Total_Capacity']]"
   ]
  },
  {
   "cell_type": "markdown",
   "metadata": {},
   "source": [
    "The power capacity units provided in the dataset are in monthly kWh. However, for TIER analysis the units are in daily Wh consumption. Therefore, dividing the dataset by 30 and multiplying it by 1000."
   ]
  },
  {
   "cell_type": "code",
   "execution_count": 3062,
   "metadata": {
    "scrolled": true
   },
   "outputs": [],
   "source": [
    "df_total['Total_Capacity']= df_total.Total_Capacity.apply(lambda x: x if math.isnan(x) else (x*1000)/30)"
   ]
  },
  {
   "cell_type": "code",
   "execution_count": 3063,
   "metadata": {
    "scrolled": false
   },
   "outputs": [
    {
     "data": {
      "text/html": [
       "<div>\n",
       "<style scoped>\n",
       "    .dataframe tbody tr th:only-of-type {\n",
       "        vertical-align: middle;\n",
       "    }\n",
       "\n",
       "    .dataframe tbody tr th {\n",
       "        vertical-align: top;\n",
       "    }\n",
       "\n",
       "    .dataframe thead th {\n",
       "        text-align: right;\n",
       "    }\n",
       "</style>\n",
       "<table border=\"1\" class=\"dataframe\">\n",
       "  <thead>\n",
       "    <tr style=\"text-align: right;\">\n",
       "      <th></th>\n",
       "      <th>Total_Capacity</th>\n",
       "    </tr>\n",
       "  </thead>\n",
       "  <tbody>\n",
       "    <tr>\n",
       "      <th>0</th>\n",
       "      <td>0.0</td>\n",
       "    </tr>\n",
       "    <tr>\n",
       "      <th>1</th>\n",
       "      <td>0.0</td>\n",
       "    </tr>\n",
       "    <tr>\n",
       "      <th>2</th>\n",
       "      <td>0.0</td>\n",
       "    </tr>\n",
       "    <tr>\n",
       "      <th>3</th>\n",
       "      <td>0.0</td>\n",
       "    </tr>\n",
       "    <tr>\n",
       "      <th>4</th>\n",
       "      <td>0.0</td>\n",
       "    </tr>\n",
       "  </tbody>\n",
       "</table>\n",
       "</div>"
      ],
      "text/plain": [
       "   Total_Capacity\n",
       "0             0.0\n",
       "1             0.0\n",
       "2             0.0\n",
       "3             0.0\n",
       "4             0.0"
      ]
     },
     "execution_count": 3063,
     "metadata": {},
     "output_type": "execute_result"
    }
   ],
   "source": [
    "df_total.head()"
   ]
  },
  {
   "cell_type": "markdown",
   "metadata": {},
   "source": [
    "### Replacing 0 values again with NaN"
   ]
  },
  {
   "cell_type": "code",
   "execution_count": 3064,
   "metadata": {},
   "outputs": [],
   "source": [
    "df_total.replace(0, np.nan, inplace=True)"
   ]
  },
  {
   "cell_type": "code",
   "execution_count": 3065,
   "metadata": {},
   "outputs": [
    {
     "data": {
      "text/html": [
       "<div>\n",
       "<style scoped>\n",
       "    .dataframe tbody tr th:only-of-type {\n",
       "        vertical-align: middle;\n",
       "    }\n",
       "\n",
       "    .dataframe tbody tr th {\n",
       "        vertical-align: top;\n",
       "    }\n",
       "\n",
       "    .dataframe thead th {\n",
       "        text-align: right;\n",
       "    }\n",
       "</style>\n",
       "<table border=\"1\" class=\"dataframe\">\n",
       "  <thead>\n",
       "    <tr style=\"text-align: right;\">\n",
       "      <th></th>\n",
       "      <th>Total_Capacity</th>\n",
       "    </tr>\n",
       "  </thead>\n",
       "  <tbody>\n",
       "    <tr>\n",
       "      <th>0</th>\n",
       "      <td>NaN</td>\n",
       "    </tr>\n",
       "    <tr>\n",
       "      <th>1</th>\n",
       "      <td>NaN</td>\n",
       "    </tr>\n",
       "    <tr>\n",
       "      <th>2</th>\n",
       "      <td>NaN</td>\n",
       "    </tr>\n",
       "    <tr>\n",
       "      <th>3</th>\n",
       "      <td>NaN</td>\n",
       "    </tr>\n",
       "    <tr>\n",
       "      <th>4</th>\n",
       "      <td>NaN</td>\n",
       "    </tr>\n",
       "  </tbody>\n",
       "</table>\n",
       "</div>"
      ],
      "text/plain": [
       "   Total_Capacity\n",
       "0             NaN\n",
       "1             NaN\n",
       "2             NaN\n",
       "3             NaN\n",
       "4             NaN"
      ]
     },
     "execution_count": 3065,
     "metadata": {},
     "output_type": "execute_result"
    }
   ],
   "source": [
    "df_total.head()"
   ]
  },
  {
   "cell_type": "markdown",
   "metadata": {},
   "source": [
    "### Checking for outliers in \"Total_Capacity\""
   ]
  },
  {
   "cell_type": "code",
   "execution_count": 3066,
   "metadata": {
    "scrolled": false
   },
   "outputs": [
    {
     "data": {
      "text/plain": [
       "<matplotlib.axes._subplots.AxesSubplot at 0x7fcc943b6f50>"
      ]
     },
     "execution_count": 3066,
     "metadata": {},
     "output_type": "execute_result"
    },
    {
     "data": {
      "image/png": "[encoded data removed]",
      "text/plain": [
       "<Figure size 432x288 with 1 Axes>"
      ]
     },
     "metadata": {},
     "output_type": "display_data"
    }
   ],
   "source": [
    "df_total.boxplot(column='Total_Capacity', return_type='axes')"
   ]
  },
  {
   "cell_type": "markdown",
   "metadata": {},
   "source": [
    "### Checking the percentage of outliers"
   ]
  },
  {
   "cell_type": "code",
   "execution_count": 3067,
   "metadata": {},
   "outputs": [],
   "source": [
    "#Outlier treatment for active and reactive power\n",
    "Q1=df_total.Total_Capacity.quantile(0.25)\n",
    "Q3=df_total.Total_Capacity.quantile(0.75)\n",
    "\n",
    "#Calculating inter-quantile range\n",
    "IQR=Q3-Q1\n",
    "\n",
    "lower_bound = Q1-1.5*IQR\n",
    "upper_bound = Q3+1.5*IQR\n",
    "\n",
    "df_total[\"Outliers\"] = df_total.Total_Capacity.apply(lambda x: \"NaN\" if math.isnan(x) else (\"True\" if x > upper_bound or x < lower_bound else \"False\"))"
   ]
  },
  {
   "cell_type": "code",
   "execution_count": 3068,
   "metadata": {},
   "outputs": [
    {
     "data": {
      "text/html": [
       "<div>\n",
       "<style scoped>\n",
       "    .dataframe tbody tr th:only-of-type {\n",
       "        vertical-align: middle;\n",
       "    }\n",
       "\n",
       "    .dataframe tbody tr th {\n",
       "        vertical-align: top;\n",
       "    }\n",
       "\n",
       "    .dataframe thead th {\n",
       "        text-align: right;\n",
       "    }\n",
       "</style>\n",
       "<table border=\"1\" class=\"dataframe\">\n",
       "  <thead>\n",
       "    <tr style=\"text-align: right;\">\n",
       "      <th></th>\n",
       "      <th>Total_Capacity</th>\n",
       "      <th>Outliers</th>\n",
       "    </tr>\n",
       "  </thead>\n",
       "  <tbody>\n",
       "    <tr>\n",
       "      <th>3290</th>\n",
       "      <td>NaN</td>\n",
       "      <td>NaN</td>\n",
       "    </tr>\n",
       "    <tr>\n",
       "      <th>3291</th>\n",
       "      <td>155.000000</td>\n",
       "      <td>False</td>\n",
       "    </tr>\n",
       "    <tr>\n",
       "      <th>3292</th>\n",
       "      <td>201.666667</td>\n",
       "      <td>False</td>\n",
       "    </tr>\n",
       "    <tr>\n",
       "      <th>3293</th>\n",
       "      <td>155.000000</td>\n",
       "      <td>False</td>\n",
       "    </tr>\n",
       "    <tr>\n",
       "      <th>3294</th>\n",
       "      <td>NaN</td>\n",
       "      <td>NaN</td>\n",
       "    </tr>\n",
       "  </tbody>\n",
       "</table>\n",
       "</div>"
      ],
      "text/plain": [
       "      Total_Capacity Outliers\n",
       "3290             NaN      NaN\n",
       "3291      155.000000    False\n",
       "3292      201.666667    False\n",
       "3293      155.000000    False\n",
       "3294             NaN      NaN"
      ]
     },
     "execution_count": 3068,
     "metadata": {},
     "output_type": "execute_result"
    }
   ],
   "source": [
    "df_total.tail()"
   ]
  },
  {
   "cell_type": "code",
   "execution_count": 3069,
   "metadata": {},
   "outputs": [
    {
     "data": {
      "text/plain": [
       "NaN      1810\n",
       "False    1376\n",
       "True      109\n",
       "Name: Outliers, dtype: int64"
      ]
     },
     "execution_count": 3069,
     "metadata": {},
     "output_type": "execute_result"
    }
   ],
   "source": [
    "df_total['Outliers'].value_counts()"
   ]
  },
  {
   "cell_type": "code",
   "execution_count": 3070,
   "metadata": {
    "scrolled": false
   },
   "outputs": [
    {
     "data": {
      "text/plain": [
       "Text(0.5, 1.0, 'Percentage of outliers in \"Total_Capacity\"')"
      ]
     },
     "execution_count": 3070,
     "metadata": {},
     "output_type": "execute_result"
    },
    {
     "data": {
      "image/png": "[encoded data removed]",
      "text/plain": [
       "<Figure size 432x432 with 1 Axes>"
      ]
     },
     "metadata": {},
     "output_type": "display_data"
    }
   ],
   "source": [
    "#Pie plot\n",
    "df_total.Outliers.value_counts().plot(kind='pie', autopct='%1.0f%%',figsize=(6,6))\n",
    "plt.axis('equal')\n",
    "plt.title('Percentage of outliers in \"Total_Capacity\"')"
   ]
  },
  {
   "cell_type": "markdown",
   "metadata": {},
   "source": [
    "From the above Pie chart we can see that there are 3% of outliers present in our dataset"
   ]
  },
  {
   "cell_type": "markdown",
   "metadata": {},
   "source": [
    "### Removing the outliers"
   ]
  },
  {
   "cell_type": "code",
   "execution_count": 3071,
   "metadata": {},
   "outputs": [],
   "source": [
    "df_total_cleaned= df_total[df_total.Outliers != 'True']"
   ]
  },
  {
   "cell_type": "code",
   "execution_count": 3072,
   "metadata": {},
   "outputs": [
    {
     "data": {
      "text/plain": [
       "<matplotlib.axes._subplots.AxesSubplot at 0x7fcc89af5510>"
      ]
     },
     "execution_count": 3072,
     "metadata": {},
     "output_type": "execute_result"
    },
    {
     "data": {
      "image/png": "[encoded data removed]",
      "text/plain": [
       "<Figure size 432x288 with 1 Axes>"
      ]
     },
     "metadata": {},
     "output_type": "display_data"
    }
   ],
   "source": [
    "df_total_cleaned.boxplot(column='Total_Capacity', return_type='axes')"
   ]
  },
  {
   "cell_type": "code",
   "execution_count": 3073,
   "metadata": {},
   "outputs": [],
   "source": [
    "df_total_cleaned.drop('Outliers', axis=1, inplace=True)"
   ]
  },
  {
   "cell_type": "markdown",
   "metadata": {},
   "source": [
    "### Replacing NaN values with \"Missing_data\" \n",
    "\n",
    "This is done to keep the missing values into analysis (As it is important to know how many missing values do we have)"
   ]
  },
  {
   "cell_type": "code",
   "execution_count": 3074,
   "metadata": {},
   "outputs": [],
   "source": [
    "df_total_cleaned[\"Total_Capacity\"] = df_total_cleaned.Total_Capacity.apply(lambda x: \"Missing_data\" if math.isnan(x) else x)"
   ]
  },
  {
   "cell_type": "code",
   "execution_count": 3075,
   "metadata": {
    "scrolled": true
   },
   "outputs": [
    {
     "data": {
      "text/html": [
       "<div>\n",
       "<style scoped>\n",
       "    .dataframe tbody tr th:only-of-type {\n",
       "        vertical-align: middle;\n",
       "    }\n",
       "\n",
       "    .dataframe tbody tr th {\n",
       "        vertical-align: top;\n",
       "    }\n",
       "\n",
       "    .dataframe thead th {\n",
       "        text-align: right;\n",
       "    }\n",
       "</style>\n",
       "<table border=\"1\" class=\"dataframe\">\n",
       "  <thead>\n",
       "    <tr style=\"text-align: right;\">\n",
       "      <th></th>\n",
       "      <th>Total_Capacity</th>\n",
       "    </tr>\n",
       "  </thead>\n",
       "  <tbody>\n",
       "    <tr>\n",
       "      <th>3290</th>\n",
       "      <td>Missing_data</td>\n",
       "    </tr>\n",
       "    <tr>\n",
       "      <th>3291</th>\n",
       "      <td>155</td>\n",
       "    </tr>\n",
       "    <tr>\n",
       "      <th>3292</th>\n",
       "      <td>201.667</td>\n",
       "    </tr>\n",
       "    <tr>\n",
       "      <th>3293</th>\n",
       "      <td>155</td>\n",
       "    </tr>\n",
       "    <tr>\n",
       "      <th>3294</th>\n",
       "      <td>Missing_data</td>\n",
       "    </tr>\n",
       "  </tbody>\n",
       "</table>\n",
       "</div>"
      ],
      "text/plain": [
       "     Total_Capacity\n",
       "3290   Missing_data\n",
       "3291            155\n",
       "3292        201.667\n",
       "3293            155\n",
       "3294   Missing_data"
      ]
     },
     "execution_count": 3075,
     "metadata": {},
     "output_type": "execute_result"
    }
   ],
   "source": [
    "df_total_cleaned.tail()"
   ]
  },
  {
   "cell_type": "code",
   "execution_count": 3076,
   "metadata": {},
   "outputs": [
    {
     "name": "stdout",
     "output_type": "stream",
     "text": [
      "<class 'pandas.core.frame.DataFrame'>\n",
      "Int64Index: 3186 entries, 0 to 3294\n",
      "Data columns (total 1 columns):\n",
      " #   Column          Non-Null Count  Dtype \n",
      "---  ------          --------------  ----- \n",
      " 0   Total_Capacity  3186 non-null   object\n",
      "dtypes: object(1)\n",
      "memory usage: 49.8+ KB\n"
     ]
    }
   ],
   "source": [
    "df_total_cleaned.info()"
   ]
  },
  {
   "cell_type": "markdown",
   "metadata": {},
   "source": [
    "### Adding column \"TIER\" to the dataset "
   ]
  },
  {
   "cell_type": "code",
   "execution_count": 3077,
   "metadata": {},
   "outputs": [],
   "source": [
    "def conditions(Total_Capacity):\n",
    "    if Total_Capacity =='Missing_data':\n",
    "        return \"Missing_data\"\n",
    "    elif Total_Capacity<3:\n",
    "        return \"0\"\n",
    "    elif 3<=Total_Capacity<50:\n",
    "        return \"1\"\n",
    "    elif 50<=Total_Capacity<200:\n",
    "        return \"2\"\n",
    "    elif 200<=Total_Capacity<800:\n",
    "        return \"3\"\n",
    "    elif 800<=Total_Capacity<2000:\n",
    "        return \"4\"\n",
    "    else:\n",
    "        return \"5\"\n",
    "    \n",
    "func = np.vectorize(conditions)\n",
    "transform = func(df_total_cleaned.Total_Capacity)\n",
    "df_total_cleaned[\"TIER\"] = transform"
   ]
  },
  {
   "cell_type": "code",
   "execution_count": 3078,
   "metadata": {
    "scrolled": true
   },
   "outputs": [
    {
     "data": {
      "text/html": [
       "<div>\n",
       "<style scoped>\n",
       "    .dataframe tbody tr th:only-of-type {\n",
       "        vertical-align: middle;\n",
       "    }\n",
       "\n",
       "    .dataframe tbody tr th {\n",
       "        vertical-align: top;\n",
       "    }\n",
       "\n",
       "    .dataframe thead th {\n",
       "        text-align: right;\n",
       "    }\n",
       "</style>\n",
       "<table border=\"1\" class=\"dataframe\">\n",
       "  <thead>\n",
       "    <tr style=\"text-align: right;\">\n",
       "      <th></th>\n",
       "      <th>Total_Capacity</th>\n",
       "      <th>TIER</th>\n",
       "    </tr>\n",
       "  </thead>\n",
       "  <tbody>\n",
       "    <tr>\n",
       "      <th>0</th>\n",
       "      <td>Missing_data</td>\n",
       "      <td>Missing_data</td>\n",
       "    </tr>\n",
       "    <tr>\n",
       "      <th>1</th>\n",
       "      <td>Missing_data</td>\n",
       "      <td>Missing_data</td>\n",
       "    </tr>\n",
       "    <tr>\n",
       "      <th>2</th>\n",
       "      <td>Missing_data</td>\n",
       "      <td>Missing_data</td>\n",
       "    </tr>\n",
       "    <tr>\n",
       "      <th>3</th>\n",
       "      <td>Missing_data</td>\n",
       "      <td>Missing_data</td>\n",
       "    </tr>\n",
       "    <tr>\n",
       "      <th>4</th>\n",
       "      <td>Missing_data</td>\n",
       "      <td>Missing_data</td>\n",
       "    </tr>\n",
       "  </tbody>\n",
       "</table>\n",
       "</div>"
      ],
      "text/plain": [
       "  Total_Capacity          TIER\n",
       "0   Missing_data  Missing_data\n",
       "1   Missing_data  Missing_data\n",
       "2   Missing_data  Missing_data\n",
       "3   Missing_data  Missing_data\n",
       "4   Missing_data  Missing_data"
      ]
     },
     "execution_count": 3078,
     "metadata": {},
     "output_type": "execute_result"
    }
   ],
   "source": [
    "df_total_cleaned.head()"
   ]
  },
  {
   "cell_type": "markdown",
   "metadata": {},
   "source": [
    "### Printing the TIER counts"
   ]
  },
  {
   "cell_type": "code",
   "execution_count": 3079,
   "metadata": {
    "scrolled": false
   },
   "outputs": [
    {
     "data": {
      "text/plain": [
       "Missing_data    1810\n",
       "3                746\n",
       "2                451\n",
       "4                179\n",
       "Name: TIER, dtype: int64"
      ]
     },
     "execution_count": 3079,
     "metadata": {},
     "output_type": "execute_result"
    }
   ],
   "source": [
    "df_total_cleaned['TIER'].value_counts()"
   ]
  },
  {
   "cell_type": "markdown",
   "metadata": {},
   "source": [
    "### Visualizing the TIER levels "
   ]
  },
  {
   "cell_type": "code",
   "execution_count": 3080,
   "metadata": {
    "scrolled": true
   },
   "outputs": [
    {
     "data": {
      "text/plain": [
       "Text(0.5, 1.0, 'TIER levels based on power capacity')"
      ]
     },
     "execution_count": 3080,
     "metadata": {},
     "output_type": "execute_result"
    },
    {
     "data": {
      "image/png": "[encoded data removed]",
      "text/plain": [
       "<Figure size 1296x432 with 2 Axes>"
      ]
     },
     "metadata": {},
     "output_type": "display_data"
    }
   ],
   "source": [
    "#Pie plot\n",
    "f,ax=plt.subplots(1,2, figsize=(18,6))\n",
    "df_total_cleaned['TIER'].value_counts().plot.pie( autopct='%1.0f%%',ax=ax[0])\n",
    "ax[0].set_title('TIER levels based on power capacity')\n",
    "\n",
    "#Boxplot\n",
    "sns.countplot('TIER',data=df_total_cleaned,ax=ax[1])\n",
    "ax[1].set_title('TIER levels based on power capacity')"
   ]
  },
  {
   "cell_type": "markdown",
   "metadata": {},
   "source": [
    "Page 22 of MTF Energy Access Country Diagnostic report confirms that almost all households in Tier 3 or above are connected to the grid (Maximum percentage of grid connected households lies in TIER 3). Most households in Tier 0 have no access to electricity."
   ]
  },
  {
   "cell_type": "markdown",
   "metadata": {},
   "source": [
    "## Now analysing capacity: \"National_Grid\""
   ]
  },
  {
   "cell_type": "code",
   "execution_count": 3081,
   "metadata": {},
   "outputs": [],
   "source": [
    "df_cap=df_analysis[['National_Grid']]"
   ]
  },
  {
   "cell_type": "code",
   "execution_count": 3082,
   "metadata": {
    "scrolled": false
   },
   "outputs": [
    {
     "data": {
      "text/html": [
       "<div>\n",
       "<style scoped>\n",
       "    .dataframe tbody tr th:only-of-type {\n",
       "        vertical-align: middle;\n",
       "    }\n",
       "\n",
       "    .dataframe tbody tr th {\n",
       "        vertical-align: top;\n",
       "    }\n",
       "\n",
       "    .dataframe thead th {\n",
       "        text-align: right;\n",
       "    }\n",
       "</style>\n",
       "<table border=\"1\" class=\"dataframe\">\n",
       "  <thead>\n",
       "    <tr style=\"text-align: right;\">\n",
       "      <th></th>\n",
       "      <th>National_Grid</th>\n",
       "    </tr>\n",
       "  </thead>\n",
       "  <tbody>\n",
       "    <tr>\n",
       "      <th>3290</th>\n",
       "      <td>NaN</td>\n",
       "    </tr>\n",
       "    <tr>\n",
       "      <th>3291</th>\n",
       "      <td>4.65</td>\n",
       "    </tr>\n",
       "    <tr>\n",
       "      <th>3292</th>\n",
       "      <td>6.05</td>\n",
       "    </tr>\n",
       "    <tr>\n",
       "      <th>3293</th>\n",
       "      <td>4.65</td>\n",
       "    </tr>\n",
       "    <tr>\n",
       "      <th>3294</th>\n",
       "      <td>NaN</td>\n",
       "    </tr>\n",
       "  </tbody>\n",
       "</table>\n",
       "</div>"
      ],
      "text/plain": [
       "      National_Grid\n",
       "3290            NaN\n",
       "3291           4.65\n",
       "3292           6.05\n",
       "3293           4.65\n",
       "3294            NaN"
      ]
     },
     "execution_count": 3082,
     "metadata": {},
     "output_type": "execute_result"
    }
   ],
   "source": [
    "df_cap.tail()"
   ]
  },
  {
   "cell_type": "code",
   "execution_count": 3083,
   "metadata": {},
   "outputs": [
    {
     "name": "stdout",
     "output_type": "stream",
     "text": [
      "<class 'pandas.core.frame.DataFrame'>\n",
      "RangeIndex: 3295 entries, 0 to 3294\n",
      "Data columns (total 1 columns):\n",
      " #   Column         Non-Null Count  Dtype  \n",
      "---  ------         --------------  -----  \n",
      " 0   National_Grid  1478 non-null   float64\n",
      "dtypes: float64(1)\n",
      "memory usage: 25.9 KB\n"
     ]
    }
   ],
   "source": [
    "df_cap.info()"
   ]
  },
  {
   "cell_type": "markdown",
   "metadata": {},
   "source": [
    "The power capacity units provided in the dataset are in monthly kWh. However, for TIER analysis the units are in daily Wh consumption. Therefore, dividing the dataset by 30 and multiplying it by 1000."
   ]
  },
  {
   "cell_type": "code",
   "execution_count": 3084,
   "metadata": {},
   "outputs": [],
   "source": [
    "df_cap[\"National_Grid\"] = df_cap.National_Grid.apply(lambda x: x if math.isnan(x) else (x*1000)/30)"
   ]
  },
  {
   "cell_type": "code",
   "execution_count": 3085,
   "metadata": {},
   "outputs": [
    {
     "data": {
      "text/html": [
       "<div>\n",
       "<style scoped>\n",
       "    .dataframe tbody tr th:only-of-type {\n",
       "        vertical-align: middle;\n",
       "    }\n",
       "\n",
       "    .dataframe tbody tr th {\n",
       "        vertical-align: top;\n",
       "    }\n",
       "\n",
       "    .dataframe thead th {\n",
       "        text-align: right;\n",
       "    }\n",
       "</style>\n",
       "<table border=\"1\" class=\"dataframe\">\n",
       "  <thead>\n",
       "    <tr style=\"text-align: right;\">\n",
       "      <th></th>\n",
       "      <th>National_Grid</th>\n",
       "    </tr>\n",
       "  </thead>\n",
       "  <tbody>\n",
       "    <tr>\n",
       "      <th>3290</th>\n",
       "      <td>NaN</td>\n",
       "    </tr>\n",
       "    <tr>\n",
       "      <th>3291</th>\n",
       "      <td>155.000000</td>\n",
       "    </tr>\n",
       "    <tr>\n",
       "      <th>3292</th>\n",
       "      <td>201.666667</td>\n",
       "    </tr>\n",
       "    <tr>\n",
       "      <th>3293</th>\n",
       "      <td>155.000000</td>\n",
       "    </tr>\n",
       "    <tr>\n",
       "      <th>3294</th>\n",
       "      <td>NaN</td>\n",
       "    </tr>\n",
       "  </tbody>\n",
       "</table>\n",
       "</div>"
      ],
      "text/plain": [
       "      National_Grid\n",
       "3290            NaN\n",
       "3291     155.000000\n",
       "3292     201.666667\n",
       "3293     155.000000\n",
       "3294            NaN"
      ]
     },
     "execution_count": 3085,
     "metadata": {},
     "output_type": "execute_result"
    }
   ],
   "source": [
    "df_cap.tail()"
   ]
  },
  {
   "cell_type": "code",
   "execution_count": 3086,
   "metadata": {},
   "outputs": [
    {
     "name": "stdout",
     "output_type": "stream",
     "text": [
      "<class 'pandas.core.frame.DataFrame'>\n",
      "RangeIndex: 3295 entries, 0 to 3294\n",
      "Data columns (total 1 columns):\n",
      " #   Column         Non-Null Count  Dtype  \n",
      "---  ------         --------------  -----  \n",
      " 0   National_Grid  1478 non-null   float64\n",
      "dtypes: float64(1)\n",
      "memory usage: 25.9 KB\n"
     ]
    }
   ],
   "source": [
    "df_cap.info()"
   ]
  },
  {
   "cell_type": "markdown",
   "metadata": {},
   "source": [
    "### Visualizing the new dataset"
   ]
  },
  {
   "cell_type": "code",
   "execution_count": 3087,
   "metadata": {},
   "outputs": [
    {
     "data": {
      "text/html": [
       "<div>\n",
       "<style scoped>\n",
       "    .dataframe tbody tr th:only-of-type {\n",
       "        vertical-align: middle;\n",
       "    }\n",
       "\n",
       "    .dataframe tbody tr th {\n",
       "        vertical-align: top;\n",
       "    }\n",
       "\n",
       "    .dataframe thead th {\n",
       "        text-align: right;\n",
       "    }\n",
       "</style>\n",
       "<table border=\"1\" class=\"dataframe\">\n",
       "  <thead>\n",
       "    <tr style=\"text-align: right;\">\n",
       "      <th></th>\n",
       "      <th>National_Grid</th>\n",
       "    </tr>\n",
       "  </thead>\n",
       "  <tbody>\n",
       "    <tr>\n",
       "      <th>count</th>\n",
       "      <td>1478.000000</td>\n",
       "    </tr>\n",
       "    <tr>\n",
       "      <th>mean</th>\n",
       "      <td>674.386784</td>\n",
       "    </tr>\n",
       "    <tr>\n",
       "      <th>std</th>\n",
       "      <td>1001.691143</td>\n",
       "    </tr>\n",
       "    <tr>\n",
       "      <th>min</th>\n",
       "      <td>66.666667</td>\n",
       "    </tr>\n",
       "    <tr>\n",
       "      <th>25%</th>\n",
       "      <td>155.000000</td>\n",
       "    </tr>\n",
       "    <tr>\n",
       "      <th>50%</th>\n",
       "      <td>310.000000</td>\n",
       "    </tr>\n",
       "    <tr>\n",
       "      <th>75%</th>\n",
       "      <td>775.333333</td>\n",
       "    </tr>\n",
       "    <tr>\n",
       "      <th>max</th>\n",
       "      <td>13333.333333</td>\n",
       "    </tr>\n",
       "  </tbody>\n",
       "</table>\n",
       "</div>"
      ],
      "text/plain": [
       "       National_Grid\n",
       "count    1478.000000\n",
       "mean      674.386784\n",
       "std      1001.691143\n",
       "min        66.666667\n",
       "25%       155.000000\n",
       "50%       310.000000\n",
       "75%       775.333333\n",
       "max     13333.333333"
      ]
     },
     "execution_count": 3087,
     "metadata": {},
     "output_type": "execute_result"
    }
   ],
   "source": [
    "df_cap.describe()"
   ]
  },
  {
   "cell_type": "markdown",
   "metadata": {},
   "source": [
    "### Checking for outliers in \"National_Grid\""
   ]
  },
  {
   "cell_type": "code",
   "execution_count": 3088,
   "metadata": {
    "scrolled": false
   },
   "outputs": [
    {
     "data": {
      "text/plain": [
       "<matplotlib.axes._subplots.AxesSubplot at 0x7fcc6c718cd0>"
      ]
     },
     "execution_count": 3088,
     "metadata": {},
     "output_type": "execute_result"
    },
    {
     "data": {
      "image/png": "[encoded data removed]",
      "text/plain": [
       "<Figure size 432x288 with 1 Axes>"
      ]
     },
     "metadata": {},
     "output_type": "display_data"
    }
   ],
   "source": [
    "df_cap.boxplot(column='National_Grid', return_type='axes')"
   ]
  },
  {
   "cell_type": "markdown",
   "metadata": {},
   "source": [
    "### Checking the percentage of outliers"
   ]
  },
  {
   "cell_type": "code",
   "execution_count": 3089,
   "metadata": {},
   "outputs": [],
   "source": [
    "#Outlier treatment for active and reactive power\n",
    "Q1=df_cap.National_Grid.quantile(0.25)\n",
    "Q3=df_cap.National_Grid.quantile(0.75)\n",
    "\n",
    "#Calculating inter-quantile range\n",
    "IQR=Q3-Q1\n",
    "\n",
    "lower_bound = Q1-1.5*IQR\n",
    "upper_bound = Q3+1.5*IQR\n",
    "\n",
    "df_cap[\"Outliers\"] = df_cap.National_Grid.apply(lambda x: \"NaN\" if math.isnan(x) else (\"True\" if x > upper_bound or x < lower_bound else \"False\"))"
   ]
  },
  {
   "cell_type": "code",
   "execution_count": 3090,
   "metadata": {},
   "outputs": [
    {
     "data": {
      "text/html": [
       "<div>\n",
       "<style scoped>\n",
       "    .dataframe tbody tr th:only-of-type {\n",
       "        vertical-align: middle;\n",
       "    }\n",
       "\n",
       "    .dataframe tbody tr th {\n",
       "        vertical-align: top;\n",
       "    }\n",
       "\n",
       "    .dataframe thead th {\n",
       "        text-align: right;\n",
       "    }\n",
       "</style>\n",
       "<table border=\"1\" class=\"dataframe\">\n",
       "  <thead>\n",
       "    <tr style=\"text-align: right;\">\n",
       "      <th></th>\n",
       "      <th>National_Grid</th>\n",
       "      <th>Outliers</th>\n",
       "    </tr>\n",
       "  </thead>\n",
       "  <tbody>\n",
       "    <tr>\n",
       "      <th>3290</th>\n",
       "      <td>NaN</td>\n",
       "      <td>NaN</td>\n",
       "    </tr>\n",
       "    <tr>\n",
       "      <th>3291</th>\n",
       "      <td>155.000000</td>\n",
       "      <td>False</td>\n",
       "    </tr>\n",
       "    <tr>\n",
       "      <th>3292</th>\n",
       "      <td>201.666667</td>\n",
       "      <td>False</td>\n",
       "    </tr>\n",
       "    <tr>\n",
       "      <th>3293</th>\n",
       "      <td>155.000000</td>\n",
       "      <td>False</td>\n",
       "    </tr>\n",
       "    <tr>\n",
       "      <th>3294</th>\n",
       "      <td>NaN</td>\n",
       "      <td>NaN</td>\n",
       "    </tr>\n",
       "  </tbody>\n",
       "</table>\n",
       "</div>"
      ],
      "text/plain": [
       "      National_Grid Outliers\n",
       "3290            NaN      NaN\n",
       "3291     155.000000    False\n",
       "3292     201.666667    False\n",
       "3293     155.000000    False\n",
       "3294            NaN      NaN"
      ]
     },
     "execution_count": 3090,
     "metadata": {},
     "output_type": "execute_result"
    }
   ],
   "source": [
    "df_cap.tail()"
   ]
  },
  {
   "cell_type": "code",
   "execution_count": 3091,
   "metadata": {},
   "outputs": [
    {
     "data": {
      "text/plain": [
       "NaN      1817\n",
       "False    1370\n",
       "True      108\n",
       "Name: Outliers, dtype: int64"
      ]
     },
     "execution_count": 3091,
     "metadata": {},
     "output_type": "execute_result"
    }
   ],
   "source": [
    "df_cap['Outliers'].value_counts()"
   ]
  },
  {
   "cell_type": "code",
   "execution_count": 3092,
   "metadata": {
    "scrolled": false
   },
   "outputs": [
    {
     "data": {
      "text/plain": [
       "Text(0.5, 1.0, 'Percentage of outliers in \"National_Grid\"')"
      ]
     },
     "execution_count": 3092,
     "metadata": {},
     "output_type": "execute_result"
    },
    {
     "data": {
      "image/png": "[encoded data removed]",
      "text/plain": [
       "<Figure size 432x432 with 1 Axes>"
      ]
     },
     "metadata": {},
     "output_type": "display_data"
    }
   ],
   "source": [
    "#Pie plot\n",
    "df_cap.Outliers.value_counts().plot(kind='pie', autopct='%1.0f%%',figsize=(6,6))\n",
    "plt.axis('equal')\n",
    "plt.title('Percentage of outliers in \"National_Grid\"')"
   ]
  },
  {
   "cell_type": "markdown",
   "metadata": {},
   "source": [
    "From the above Pie chart we can see that there are 3% of outliers present in our dataset"
   ]
  },
  {
   "cell_type": "markdown",
   "metadata": {},
   "source": [
    "### Removing the outliers"
   ]
  },
  {
   "cell_type": "code",
   "execution_count": 3093,
   "metadata": {},
   "outputs": [],
   "source": [
    "df_cap_cleaned= df_cap[df_cap.Outliers != 'True']"
   ]
  },
  {
   "cell_type": "code",
   "execution_count": 3094,
   "metadata": {},
   "outputs": [
    {
     "data": {
      "text/plain": [
       "<matplotlib.axes._subplots.AxesSubplot at 0x7fcc6d1e9e10>"
      ]
     },
     "execution_count": 3094,
     "metadata": {},
     "output_type": "execute_result"
    },
    {
     "data": {
      "image/png": "[encoded data removed]",
      "text/plain": [
       "<Figure size 432x288 with 1 Axes>"
      ]
     },
     "metadata": {},
     "output_type": "display_data"
    }
   ],
   "source": [
    "df_cap_cleaned.boxplot(column='National_Grid', return_type='axes')"
   ]
  },
  {
   "cell_type": "markdown",
   "metadata": {},
   "source": [
    "### Replacing NaN values with \"Missing_data\" \n",
    "\n",
    "This is done to keep the missing values into analysis (As it is important to know how many missing values do we have)"
   ]
  },
  {
   "cell_type": "code",
   "execution_count": 3095,
   "metadata": {},
   "outputs": [],
   "source": [
    "df_cap_cleaned.drop('Outliers', axis=1, inplace=True)"
   ]
  },
  {
   "cell_type": "code",
   "execution_count": 3096,
   "metadata": {},
   "outputs": [],
   "source": [
    "df_cap_cleaned[\"National_Grid\"] = df_cap_cleaned.National_Grid.apply(lambda x: \"Missing_data\" if math.isnan(x) else x)"
   ]
  },
  {
   "cell_type": "code",
   "execution_count": 3097,
   "metadata": {
    "scrolled": true
   },
   "outputs": [
    {
     "data": {
      "text/html": [
       "<div>\n",
       "<style scoped>\n",
       "    .dataframe tbody tr th:only-of-type {\n",
       "        vertical-align: middle;\n",
       "    }\n",
       "\n",
       "    .dataframe tbody tr th {\n",
       "        vertical-align: top;\n",
       "    }\n",
       "\n",
       "    .dataframe thead th {\n",
       "        text-align: right;\n",
       "    }\n",
       "</style>\n",
       "<table border=\"1\" class=\"dataframe\">\n",
       "  <thead>\n",
       "    <tr style=\"text-align: right;\">\n",
       "      <th></th>\n",
       "      <th>National_Grid</th>\n",
       "    </tr>\n",
       "  </thead>\n",
       "  <tbody>\n",
       "    <tr>\n",
       "      <th>0</th>\n",
       "      <td>Missing_data</td>\n",
       "    </tr>\n",
       "    <tr>\n",
       "      <th>1</th>\n",
       "      <td>Missing_data</td>\n",
       "    </tr>\n",
       "    <tr>\n",
       "      <th>2</th>\n",
       "      <td>Missing_data</td>\n",
       "    </tr>\n",
       "    <tr>\n",
       "      <th>3</th>\n",
       "      <td>Missing_data</td>\n",
       "    </tr>\n",
       "    <tr>\n",
       "      <th>4</th>\n",
       "      <td>Missing_data</td>\n",
       "    </tr>\n",
       "  </tbody>\n",
       "</table>\n",
       "</div>"
      ],
      "text/plain": [
       "  National_Grid\n",
       "0  Missing_data\n",
       "1  Missing_data\n",
       "2  Missing_data\n",
       "3  Missing_data\n",
       "4  Missing_data"
      ]
     },
     "execution_count": 3097,
     "metadata": {},
     "output_type": "execute_result"
    }
   ],
   "source": [
    "df_cap_cleaned.head()"
   ]
  },
  {
   "cell_type": "code",
   "execution_count": 3098,
   "metadata": {},
   "outputs": [
    {
     "name": "stdout",
     "output_type": "stream",
     "text": [
      "<class 'pandas.core.frame.DataFrame'>\n",
      "Int64Index: 3187 entries, 0 to 3294\n",
      "Data columns (total 1 columns):\n",
      " #   Column         Non-Null Count  Dtype \n",
      "---  ------         --------------  ----- \n",
      " 0   National_Grid  3187 non-null   object\n",
      "dtypes: object(1)\n",
      "memory usage: 49.8+ KB\n"
     ]
    }
   ],
   "source": [
    "df_cap_cleaned.info()"
   ]
  },
  {
   "cell_type": "markdown",
   "metadata": {},
   "source": [
    "### Adding column \"TIER\" to the dataset "
   ]
  },
  {
   "cell_type": "code",
   "execution_count": 3099,
   "metadata": {},
   "outputs": [],
   "source": [
    "def conditions(National_Grid):\n",
    "    if National_Grid =='Missing_data':\n",
    "        return \"Missing_data\"\n",
    "    elif National_Grid<3:\n",
    "        return \"0\"\n",
    "    elif 3<=National_Grid<50:\n",
    "        return \"1\"\n",
    "    elif 50<=National_Grid<200:\n",
    "        return \"2\"\n",
    "    elif 200<=National_Grid<800:\n",
    "        return \"3\"\n",
    "    elif 800<=National_Grid<2000:\n",
    "        return \"4\"\n",
    "    else:\n",
    "        return \"5\"\n",
    "    \n",
    "func = np.vectorize(conditions)\n",
    "transform = func(df_cap_cleaned.National_Grid)\n",
    "df_cap_cleaned[\"TIER\"] = transform"
   ]
  },
  {
   "cell_type": "code",
   "execution_count": 3100,
   "metadata": {
    "scrolled": true
   },
   "outputs": [
    {
     "data": {
      "text/html": [
       "<div>\n",
       "<style scoped>\n",
       "    .dataframe tbody tr th:only-of-type {\n",
       "        vertical-align: middle;\n",
       "    }\n",
       "\n",
       "    .dataframe tbody tr th {\n",
       "        vertical-align: top;\n",
       "    }\n",
       "\n",
       "    .dataframe thead th {\n",
       "        text-align: right;\n",
       "    }\n",
       "</style>\n",
       "<table border=\"1\" class=\"dataframe\">\n",
       "  <thead>\n",
       "    <tr style=\"text-align: right;\">\n",
       "      <th></th>\n",
       "      <th>National_Grid</th>\n",
       "      <th>TIER</th>\n",
       "    </tr>\n",
       "  </thead>\n",
       "  <tbody>\n",
       "    <tr>\n",
       "      <th>0</th>\n",
       "      <td>Missing_data</td>\n",
       "      <td>Missing_data</td>\n",
       "    </tr>\n",
       "    <tr>\n",
       "      <th>1</th>\n",
       "      <td>Missing_data</td>\n",
       "      <td>Missing_data</td>\n",
       "    </tr>\n",
       "    <tr>\n",
       "      <th>2</th>\n",
       "      <td>Missing_data</td>\n",
       "      <td>Missing_data</td>\n",
       "    </tr>\n",
       "    <tr>\n",
       "      <th>3</th>\n",
       "      <td>Missing_data</td>\n",
       "      <td>Missing_data</td>\n",
       "    </tr>\n",
       "    <tr>\n",
       "      <th>4</th>\n",
       "      <td>Missing_data</td>\n",
       "      <td>Missing_data</td>\n",
       "    </tr>\n",
       "  </tbody>\n",
       "</table>\n",
       "</div>"
      ],
      "text/plain": [
       "  National_Grid          TIER\n",
       "0  Missing_data  Missing_data\n",
       "1  Missing_data  Missing_data\n",
       "2  Missing_data  Missing_data\n",
       "3  Missing_data  Missing_data\n",
       "4  Missing_data  Missing_data"
      ]
     },
     "execution_count": 3100,
     "metadata": {},
     "output_type": "execute_result"
    }
   ],
   "source": [
    "df_cap_cleaned.head()"
   ]
  },
  {
   "cell_type": "markdown",
   "metadata": {},
   "source": [
    "### Printing the TIER counts"
   ]
  },
  {
   "cell_type": "code",
   "execution_count": 3101,
   "metadata": {
    "scrolled": true
   },
   "outputs": [
    {
     "data": {
      "text/plain": [
       "Missing_data    1817\n",
       "3                743\n",
       "2                450\n",
       "4                177\n",
       "Name: TIER, dtype: int64"
      ]
     },
     "execution_count": 3101,
     "metadata": {},
     "output_type": "execute_result"
    }
   ],
   "source": [
    "df_cap_cleaned['TIER'].value_counts()"
   ]
  },
  {
   "cell_type": "markdown",
   "metadata": {},
   "source": [
    "### Visualizing the TIER levels "
   ]
  },
  {
   "cell_type": "code",
   "execution_count": 3102,
   "metadata": {
    "scrolled": false
   },
   "outputs": [
    {
     "data": {
      "text/plain": [
       "Text(0.5, 1.0, 'TIER levels based on power capacity')"
      ]
     },
     "execution_count": 3102,
     "metadata": {},
     "output_type": "execute_result"
    },
    {
     "data": {
      "image/png": "[encoded data removed]",
      "text/plain": [
       "<Figure size 1296x432 with 2 Axes>"
      ]
     },
     "metadata": {},
     "output_type": "display_data"
    }
   ],
   "source": [
    "#Pie plot\n",
    "f,ax=plt.subplots(1,2, figsize=(18,6))\n",
    "df_cap_cleaned['TIER'].value_counts().plot.pie( autopct='%1.0f%%',ax=ax[0])\n",
    "ax[0].set_title('TIER levels based on power capacity')\n",
    "\n",
    "#Barplot\n",
    "sns.countplot('TIER',data=df_cap_cleaned,ax=ax[1])\n",
    "ax[1].set_title('TIER levels based on power capacity')"
   ]
  },
  {
   "cell_type": "markdown",
   "metadata": {},
   "source": [
    "Page 22 of MTF Energy Access Country Diagnostic report confirms that almost all households in Tier 3 or above are connected to the grid (Maximum percentage of grid connected households lies in TIER 3). Most households in Tier 0 have no access to electricity."
   ]
  },
  {
   "cell_type": "markdown",
   "metadata": {},
   "source": [
    "# Attribute: Availabilty"
   ]
  },
  {
   "cell_type": "markdown",
   "metadata": {},
   "source": [
    "## Availability: Day and night"
   ]
  },
  {
   "cell_type": "markdown",
   "metadata": {},
   "source": [
    "Methodology:\n",
    "\n",
    "To understand the attribute more carefully, features from every power souce have been taekn into consideration; \n",
    "\n",
    "* C26A represents the hours of electricity available each day and night from the national grid in the worst months. \n",
    "* Whereas, C26B represents the hours of electricity available each day and night from  the national grid in the typical months.\n",
    "* C68A represents the hours of electricity available each day and night from the mini grid in the worst months.\n",
    "* Whereas, C68B represents the hours of electricity available each day and night from  the mini grid in the typical months.\n",
    "* C107A represents the hours of electricity available each day and night from the generator set in the worst months.\n",
    "* Whereas, C107B represents the hours of electricity available each day and night from  the generator set in the typical months.\n",
    "* C127 represents the hours of electricity available each day from the rechargeable battery.\n",
    "* C137A represents the hours of electricity available each day and night from pico-hydro in the worst months.\n",
    "* Whereas, C137B represents the hours of electricity available each day and night from  pico-hydro in the typical months.\n",
    "* C172A represents the hours of electricity available each day and night from  main solar based devices in the worst months.\n",
    "* Whereas, C172B represents the hours of electricity available each day and night from  main solar based devices in the typical months."
   ]
  },
  {
   "cell_type": "code",
   "execution_count": 3103,
   "metadata": {},
   "outputs": [],
   "source": [
    "df_av= df[['C26A','C26B','C68A','C68B','C107A','C107B','C127','C137A','C137B','C172A','C172B']]"
   ]
  },
  {
   "cell_type": "markdown",
   "metadata": {},
   "source": [
    "### Renaming the columns"
   ]
  },
  {
   "cell_type": "code",
   "execution_count": 3104,
   "metadata": {},
   "outputs": [],
   "source": [
    "df_av.columns = ['National_grid_Worst', 'National_grid_Typical','Mini_grid_Worst','Mini_grid_Typical','Generator_set_Worst','Generator_set_Typical','Battery','Pico_hydro_Worst','Pico_hydro_Typical','Solar_device_Worst','Solar_device_Typical']"
   ]
  },
  {
   "cell_type": "code",
   "execution_count": 3105,
   "metadata": {
    "scrolled": true
   },
   "outputs": [
    {
     "data": {
      "text/html": [
       "<div>\n",
       "<style scoped>\n",
       "    .dataframe tbody tr th:only-of-type {\n",
       "        vertical-align: middle;\n",
       "    }\n",
       "\n",
       "    .dataframe tbody tr th {\n",
       "        vertical-align: top;\n",
       "    }\n",
       "\n",
       "    .dataframe thead th {\n",
       "        text-align: right;\n",
       "    }\n",
       "</style>\n",
       "<table border=\"1\" class=\"dataframe\">\n",
       "  <thead>\n",
       "    <tr style=\"text-align: right;\">\n",
       "      <th></th>\n",
       "      <th>National_grid_Worst</th>\n",
       "      <th>National_grid_Typical</th>\n",
       "      <th>Mini_grid_Worst</th>\n",
       "      <th>Mini_grid_Typical</th>\n",
       "      <th>Generator_set_Worst</th>\n",
       "      <th>Generator_set_Typical</th>\n",
       "      <th>Battery</th>\n",
       "      <th>Pico_hydro_Worst</th>\n",
       "      <th>Pico_hydro_Typical</th>\n",
       "      <th>Solar_device_Worst</th>\n",
       "      <th>Solar_device_Typical</th>\n",
       "    </tr>\n",
       "  </thead>\n",
       "  <tbody>\n",
       "    <tr>\n",
       "      <th>3290</th>\n",
       "      <td>NaN</td>\n",
       "      <td>NaN</td>\n",
       "      <td>NaN</td>\n",
       "      <td>NaN</td>\n",
       "      <td>NaN</td>\n",
       "      <td>NaN</td>\n",
       "      <td>NaN</td>\n",
       "      <td>NaN</td>\n",
       "      <td>NaN</td>\n",
       "      <td>1.0</td>\n",
       "      <td>3</td>\n",
       "    </tr>\n",
       "    <tr>\n",
       "      <th>3291</th>\n",
       "      <td>13.0</td>\n",
       "      <td>18.0</td>\n",
       "      <td>NaN</td>\n",
       "      <td>NaN</td>\n",
       "      <td>NaN</td>\n",
       "      <td>NaN</td>\n",
       "      <td>NaN</td>\n",
       "      <td>NaN</td>\n",
       "      <td>NaN</td>\n",
       "      <td>NaN</td>\n",
       "      <td>NaN</td>\n",
       "    </tr>\n",
       "    <tr>\n",
       "      <th>3292</th>\n",
       "      <td>19.0</td>\n",
       "      <td>24.0</td>\n",
       "      <td>NaN</td>\n",
       "      <td>NaN</td>\n",
       "      <td>NaN</td>\n",
       "      <td>NaN</td>\n",
       "      <td>NaN</td>\n",
       "      <td>NaN</td>\n",
       "      <td>NaN</td>\n",
       "      <td>NaN</td>\n",
       "      <td>NaN</td>\n",
       "    </tr>\n",
       "    <tr>\n",
       "      <th>3293</th>\n",
       "      <td>NaN</td>\n",
       "      <td>23.0</td>\n",
       "      <td>NaN</td>\n",
       "      <td>NaN</td>\n",
       "      <td>NaN</td>\n",
       "      <td>NaN</td>\n",
       "      <td>NaN</td>\n",
       "      <td>NaN</td>\n",
       "      <td>NaN</td>\n",
       "      <td>NaN</td>\n",
       "      <td>NaN</td>\n",
       "    </tr>\n",
       "    <tr>\n",
       "      <th>3294</th>\n",
       "      <td>NaN</td>\n",
       "      <td>NaN</td>\n",
       "      <td>NaN</td>\n",
       "      <td>NaN</td>\n",
       "      <td>NaN</td>\n",
       "      <td>NaN</td>\n",
       "      <td>NaN</td>\n",
       "      <td>NaN</td>\n",
       "      <td>NaN</td>\n",
       "      <td>NaN</td>\n",
       "      <td>NaN</td>\n",
       "    </tr>\n",
       "  </tbody>\n",
       "</table>\n",
       "</div>"
      ],
      "text/plain": [
       "     National_grid_Worst National_grid_Typical  Mini_grid_Worst  \\\n",
       "3290                 NaN                   NaN              NaN   \n",
       "3291                13.0                  18.0              NaN   \n",
       "3292                19.0                  24.0              NaN   \n",
       "3293                 NaN                  23.0              NaN   \n",
       "3294                 NaN                   NaN              NaN   \n",
       "\n",
       "      Mini_grid_Typical  Generator_set_Worst  Generator_set_Typical  Battery  \\\n",
       "3290                NaN                  NaN                    NaN      NaN   \n",
       "3291                NaN                  NaN                    NaN      NaN   \n",
       "3292                NaN                  NaN                    NaN      NaN   \n",
       "3293                NaN                  NaN                    NaN      NaN   \n",
       "3294                NaN                  NaN                    NaN      NaN   \n",
       "\n",
       "     Pico_hydro_Worst Pico_hydro_Typical  Solar_device_Worst  \\\n",
       "3290              NaN                NaN                 1.0   \n",
       "3291              NaN                NaN                 NaN   \n",
       "3292              NaN                NaN                 NaN   \n",
       "3293              NaN                NaN                 NaN   \n",
       "3294              NaN                NaN                 NaN   \n",
       "\n",
       "     Solar_device_Typical  \n",
       "3290                    3  \n",
       "3291                  NaN  \n",
       "3292                  NaN  \n",
       "3293                  NaN  \n",
       "3294                  NaN  "
      ]
     },
     "execution_count": 3105,
     "metadata": {},
     "output_type": "execute_result"
    }
   ],
   "source": [
    "df_av.tail()"
   ]
  },
  {
   "cell_type": "code",
   "execution_count": 3106,
   "metadata": {
    "scrolled": true
   },
   "outputs": [
    {
     "name": "stdout",
     "output_type": "stream",
     "text": [
      "<class 'pandas.core.frame.DataFrame'>\n",
      "RangeIndex: 3295 entries, 0 to 3294\n",
      "Data columns (total 11 columns):\n",
      " #   Column                 Non-Null Count  Dtype  \n",
      "---  ------                 --------------  -----  \n",
      " 0   National_grid_Worst    652 non-null    object \n",
      " 1   National_grid_Typical  1591 non-null   object \n",
      " 2   Mini_grid_Worst        2 non-null      float64\n",
      " 3   Mini_grid_Typical      8 non-null      float64\n",
      " 4   Generator_set_Worst    1 non-null      float64\n",
      " 5   Generator_set_Typical  1 non-null      float64\n",
      " 6   Battery                4 non-null      float64\n",
      " 7   Pico_hydro_Worst       3 non-null      object \n",
      " 8   Pico_hydro_Typical     5 non-null      object \n",
      " 9   Solar_device_Worst     39 non-null     float64\n",
      " 10  Solar_device_Typical   109 non-null    object \n",
      "dtypes: float64(6), object(5)\n",
      "memory usage: 283.3+ KB\n"
     ]
    }
   ],
   "source": [
    "df_av.info()"
   ]
  },
  {
   "cell_type": "markdown",
   "metadata": {},
   "source": [
    "### Calculation\n",
    "\n",
    "In this step Total availabilty for all the power sources has been analysed. Taking the worst months into consideration, the missing values in \"worst\" months have been added from the \"typical\" months. This is done as the World bank takes the worst condition into account for enery access assessment."
   ]
  },
  {
   "cell_type": "code",
   "execution_count": 3107,
   "metadata": {},
   "outputs": [],
   "source": [
    "#National Grid\n",
    "df_av['National_grid_Total'] = df_av.National_grid_Worst.fillna(value=df_av.National_grid_Typical)\n",
    "\n",
    "#National Grid\n",
    "df_av['Mini_grid_Total'] = df_av.Mini_grid_Worst.fillna(value=df_av.Mini_grid_Typical)\n",
    "\n",
    "#Generator Set\n",
    "df_av['Generator_set_Total'] = df_av.Generator_set_Worst.fillna(value=df_av.Generator_set_Typical)\n",
    "\n",
    "#Pico Hydro\n",
    "df_av['Pico_hydro_Total'] = df_av.Pico_hydro_Worst.fillna(value=df_av.Pico_hydro_Typical)\n",
    "\n",
    "#Solar Devicce\n",
    "df_av['Solar_device_Total'] = df_av.Solar_device_Worst.fillna(value=df_av.Solar_device_Typical)\n",
    "\n",
    "\n",
    "#Taking only the total values into consideration\n",
    "df_av_new=df_av[['National_grid_Total','Mini_grid_Total','Generator_set_Total','Pico_hydro_Total','Solar_device_Total','Battery']]"
   ]
  },
  {
   "cell_type": "code",
   "execution_count": 3108,
   "metadata": {
    "scrolled": false
   },
   "outputs": [
    {
     "data": {
      "text/html": [
       "<div>\n",
       "<style scoped>\n",
       "    .dataframe tbody tr th:only-of-type {\n",
       "        vertical-align: middle;\n",
       "    }\n",
       "\n",
       "    .dataframe tbody tr th {\n",
       "        vertical-align: top;\n",
       "    }\n",
       "\n",
       "    .dataframe thead th {\n",
       "        text-align: right;\n",
       "    }\n",
       "</style>\n",
       "<table border=\"1\" class=\"dataframe\">\n",
       "  <thead>\n",
       "    <tr style=\"text-align: right;\">\n",
       "      <th></th>\n",
       "      <th>National_grid_Total</th>\n",
       "      <th>Mini_grid_Total</th>\n",
       "      <th>Generator_set_Total</th>\n",
       "      <th>Pico_hydro_Total</th>\n",
       "      <th>Solar_device_Total</th>\n",
       "      <th>Battery</th>\n",
       "    </tr>\n",
       "  </thead>\n",
       "  <tbody>\n",
       "    <tr>\n",
       "      <th>3290</th>\n",
       "      <td>NaN</td>\n",
       "      <td>NaN</td>\n",
       "      <td>NaN</td>\n",
       "      <td>NaN</td>\n",
       "      <td>1</td>\n",
       "      <td>NaN</td>\n",
       "    </tr>\n",
       "    <tr>\n",
       "      <th>3291</th>\n",
       "      <td>13.0</td>\n",
       "      <td>NaN</td>\n",
       "      <td>NaN</td>\n",
       "      <td>NaN</td>\n",
       "      <td>NaN</td>\n",
       "      <td>NaN</td>\n",
       "    </tr>\n",
       "    <tr>\n",
       "      <th>3292</th>\n",
       "      <td>19.0</td>\n",
       "      <td>NaN</td>\n",
       "      <td>NaN</td>\n",
       "      <td>NaN</td>\n",
       "      <td>NaN</td>\n",
       "      <td>NaN</td>\n",
       "    </tr>\n",
       "    <tr>\n",
       "      <th>3293</th>\n",
       "      <td>23.0</td>\n",
       "      <td>NaN</td>\n",
       "      <td>NaN</td>\n",
       "      <td>NaN</td>\n",
       "      <td>NaN</td>\n",
       "      <td>NaN</td>\n",
       "    </tr>\n",
       "    <tr>\n",
       "      <th>3294</th>\n",
       "      <td>NaN</td>\n",
       "      <td>NaN</td>\n",
       "      <td>NaN</td>\n",
       "      <td>NaN</td>\n",
       "      <td>NaN</td>\n",
       "      <td>NaN</td>\n",
       "    </tr>\n",
       "  </tbody>\n",
       "</table>\n",
       "</div>"
      ],
      "text/plain": [
       "     National_grid_Total  Mini_grid_Total  Generator_set_Total  \\\n",
       "3290                 NaN              NaN                  NaN   \n",
       "3291                13.0              NaN                  NaN   \n",
       "3292                19.0              NaN                  NaN   \n",
       "3293                23.0              NaN                  NaN   \n",
       "3294                 NaN              NaN                  NaN   \n",
       "\n",
       "     Pico_hydro_Total Solar_device_Total  Battery  \n",
       "3290              NaN                  1      NaN  \n",
       "3291              NaN                NaN      NaN  \n",
       "3292              NaN                NaN      NaN  \n",
       "3293              NaN                NaN      NaN  \n",
       "3294              NaN                NaN      NaN  "
      ]
     },
     "execution_count": 3108,
     "metadata": {},
     "output_type": "execute_result"
    }
   ],
   "source": [
    "df_av_new.tail()"
   ]
  },
  {
   "cell_type": "markdown",
   "metadata": {},
   "source": [
    "### Changing the string variables into float/int "
   ]
  },
  {
   "cell_type": "code",
   "execution_count": 3109,
   "metadata": {},
   "outputs": [],
   "source": [
    "df_av_new=df_av_new.replace(to_replace=\"Don't know\",value=0)"
   ]
  },
  {
   "cell_type": "code",
   "execution_count": 3110,
   "metadata": {
    "scrolled": true
   },
   "outputs": [
    {
     "name": "stdout",
     "output_type": "stream",
     "text": [
      "<class 'pandas.core.frame.DataFrame'>\n",
      "RangeIndex: 3295 entries, 0 to 3294\n",
      "Data columns (total 6 columns):\n",
      " #   Column               Non-Null Count  Dtype  \n",
      "---  ------               --------------  -----  \n",
      " 0   National_grid_Total  1591 non-null   object \n",
      " 1   Mini_grid_Total      8 non-null      float64\n",
      " 2   Generator_set_Total  1 non-null      float64\n",
      " 3   Pico_hydro_Total     5 non-null      float64\n",
      " 4   Solar_device_Total   110 non-null    object \n",
      " 5   Battery              4 non-null      float64\n",
      "dtypes: float64(4), object(2)\n",
      "memory usage: 154.6+ KB\n"
     ]
    }
   ],
   "source": [
    "df_av_new.info()"
   ]
  },
  {
   "cell_type": "code",
   "execution_count": 3111,
   "metadata": {},
   "outputs": [],
   "source": [
    "df_av_new= df_av_new.apply(pd.to_numeric, errors='coerce')"
   ]
  },
  {
   "cell_type": "code",
   "execution_count": 3112,
   "metadata": {},
   "outputs": [
    {
     "name": "stdout",
     "output_type": "stream",
     "text": [
      "<class 'pandas.core.frame.DataFrame'>\n",
      "RangeIndex: 3295 entries, 0 to 3294\n",
      "Data columns (total 6 columns):\n",
      " #   Column               Non-Null Count  Dtype  \n",
      "---  ------               --------------  -----  \n",
      " 0   National_grid_Total  1591 non-null   float64\n",
      " 1   Mini_grid_Total      8 non-null      float64\n",
      " 2   Generator_set_Total  1 non-null      float64\n",
      " 3   Pico_hydro_Total     5 non-null      float64\n",
      " 4   Solar_device_Total   110 non-null    float64\n",
      " 5   Battery              4 non-null      float64\n",
      "dtypes: float64(6)\n",
      "memory usage: 154.6 KB\n"
     ]
    }
   ],
   "source": [
    "df_av_new.info()"
   ]
  },
  {
   "cell_type": "markdown",
   "metadata": {},
   "source": [
    "### Calculating the total availability"
   ]
  },
  {
   "cell_type": "code",
   "execution_count": 3113,
   "metadata": {},
   "outputs": [],
   "source": [
    "lst=[]\n",
    "for i in range(df_av_new.shape[0]):\n",
    "    temp=0\n",
    "    for j in range(df_av_new.shape[1]):\n",
    "        if math.isnan(df_av_new.iat[i,j]):\n",
    "            temp = temp\n",
    "        else:\n",
    "            temp = temp + df_av_new.iat[i,j]\n",
    "    lst.append(temp)\n",
    "\n",
    "# adding list to dataframe\n",
    "df_av_new[\"Total_availability\"] = lst"
   ]
  },
  {
   "cell_type": "code",
   "execution_count": 3114,
   "metadata": {},
   "outputs": [
    {
     "data": {
      "text/html": [
       "<div>\n",
       "<style scoped>\n",
       "    .dataframe tbody tr th:only-of-type {\n",
       "        vertical-align: middle;\n",
       "    }\n",
       "\n",
       "    .dataframe tbody tr th {\n",
       "        vertical-align: top;\n",
       "    }\n",
       "\n",
       "    .dataframe thead th {\n",
       "        text-align: right;\n",
       "    }\n",
       "</style>\n",
       "<table border=\"1\" class=\"dataframe\">\n",
       "  <thead>\n",
       "    <tr style=\"text-align: right;\">\n",
       "      <th></th>\n",
       "      <th>National_grid_Total</th>\n",
       "      <th>Mini_grid_Total</th>\n",
       "      <th>Generator_set_Total</th>\n",
       "      <th>Pico_hydro_Total</th>\n",
       "      <th>Solar_device_Total</th>\n",
       "      <th>Battery</th>\n",
       "      <th>Total_availability</th>\n",
       "    </tr>\n",
       "  </thead>\n",
       "  <tbody>\n",
       "    <tr>\n",
       "      <th>3290</th>\n",
       "      <td>NaN</td>\n",
       "      <td>NaN</td>\n",
       "      <td>NaN</td>\n",
       "      <td>NaN</td>\n",
       "      <td>1.0</td>\n",
       "      <td>NaN</td>\n",
       "      <td>1.0</td>\n",
       "    </tr>\n",
       "    <tr>\n",
       "      <th>3291</th>\n",
       "      <td>13.0</td>\n",
       "      <td>NaN</td>\n",
       "      <td>NaN</td>\n",
       "      <td>NaN</td>\n",
       "      <td>NaN</td>\n",
       "      <td>NaN</td>\n",
       "      <td>13.0</td>\n",
       "    </tr>\n",
       "    <tr>\n",
       "      <th>3292</th>\n",
       "      <td>19.0</td>\n",
       "      <td>NaN</td>\n",
       "      <td>NaN</td>\n",
       "      <td>NaN</td>\n",
       "      <td>NaN</td>\n",
       "      <td>NaN</td>\n",
       "      <td>19.0</td>\n",
       "    </tr>\n",
       "    <tr>\n",
       "      <th>3293</th>\n",
       "      <td>23.0</td>\n",
       "      <td>NaN</td>\n",
       "      <td>NaN</td>\n",
       "      <td>NaN</td>\n",
       "      <td>NaN</td>\n",
       "      <td>NaN</td>\n",
       "      <td>23.0</td>\n",
       "    </tr>\n",
       "    <tr>\n",
       "      <th>3294</th>\n",
       "      <td>NaN</td>\n",
       "      <td>NaN</td>\n",
       "      <td>NaN</td>\n",
       "      <td>NaN</td>\n",
       "      <td>NaN</td>\n",
       "      <td>NaN</td>\n",
       "      <td>0.0</td>\n",
       "    </tr>\n",
       "  </tbody>\n",
       "</table>\n",
       "</div>"
      ],
      "text/plain": [
       "      National_grid_Total  Mini_grid_Total  Generator_set_Total  \\\n",
       "3290                  NaN              NaN                  NaN   \n",
       "3291                 13.0              NaN                  NaN   \n",
       "3292                 19.0              NaN                  NaN   \n",
       "3293                 23.0              NaN                  NaN   \n",
       "3294                  NaN              NaN                  NaN   \n",
       "\n",
       "      Pico_hydro_Total  Solar_device_Total  Battery  Total_availability  \n",
       "3290               NaN                 1.0      NaN                 1.0  \n",
       "3291               NaN                 NaN      NaN                13.0  \n",
       "3292               NaN                 NaN      NaN                19.0  \n",
       "3293               NaN                 NaN      NaN                23.0  \n",
       "3294               NaN                 NaN      NaN                 0.0  "
      ]
     },
     "execution_count": 3114,
     "metadata": {},
     "output_type": "execute_result"
    }
   ],
   "source": [
    "df_av_new.tail()"
   ]
  },
  {
   "cell_type": "code",
   "execution_count": 3115,
   "metadata": {
    "scrolled": true
   },
   "outputs": [],
   "source": [
    "df_av_new=df_av_new[['Total_availability']]"
   ]
  },
  {
   "cell_type": "markdown",
   "metadata": {},
   "source": [
    "### Replacing NaN and \"Don't know\" values with \"Missing_data\" \n",
    "\n",
    "This is done to keep the missing values into analysis (As it is important to know how many missing values do we have)"
   ]
  },
  {
   "cell_type": "code",
   "execution_count": 3116,
   "metadata": {},
   "outputs": [],
   "source": [
    "df_av_new['Total_availability'] = df_av_new.replace(np.nan, 'Missing_data', regex=True)"
   ]
  },
  {
   "cell_type": "code",
   "execution_count": 3117,
   "metadata": {},
   "outputs": [
    {
     "data": {
      "text/html": [
       "<div>\n",
       "<style scoped>\n",
       "    .dataframe tbody tr th:only-of-type {\n",
       "        vertical-align: middle;\n",
       "    }\n",
       "\n",
       "    .dataframe tbody tr th {\n",
       "        vertical-align: top;\n",
       "    }\n",
       "\n",
       "    .dataframe thead th {\n",
       "        text-align: right;\n",
       "    }\n",
       "</style>\n",
       "<table border=\"1\" class=\"dataframe\">\n",
       "  <thead>\n",
       "    <tr style=\"text-align: right;\">\n",
       "      <th></th>\n",
       "      <th>Total_availability</th>\n",
       "    </tr>\n",
       "  </thead>\n",
       "  <tbody>\n",
       "    <tr>\n",
       "      <th>3290</th>\n",
       "      <td>1.0</td>\n",
       "    </tr>\n",
       "    <tr>\n",
       "      <th>3291</th>\n",
       "      <td>13.0</td>\n",
       "    </tr>\n",
       "    <tr>\n",
       "      <th>3292</th>\n",
       "      <td>19.0</td>\n",
       "    </tr>\n",
       "    <tr>\n",
       "      <th>3293</th>\n",
       "      <td>23.0</td>\n",
       "    </tr>\n",
       "    <tr>\n",
       "      <th>3294</th>\n",
       "      <td>0.0</td>\n",
       "    </tr>\n",
       "  </tbody>\n",
       "</table>\n",
       "</div>"
      ],
      "text/plain": [
       "      Total_availability\n",
       "3290                 1.0\n",
       "3291                13.0\n",
       "3292                19.0\n",
       "3293                23.0\n",
       "3294                 0.0"
      ]
     },
     "execution_count": 3117,
     "metadata": {},
     "output_type": "execute_result"
    }
   ],
   "source": [
    "df_av_new.tail()"
   ]
  },
  {
   "cell_type": "markdown",
   "metadata": {},
   "source": [
    "### Adding column \"TIER\" to the dataset "
   ]
  },
  {
   "cell_type": "code",
   "execution_count": 3118,
   "metadata": {},
   "outputs": [],
   "source": [
    "# AVAILABILITY: Day\n",
    "#Note: conditions for TIER 1 and 2 are the same\n",
    "\n",
    "def conditions(Total_availability):\n",
    "    if Total_availability == 'Missing_data':\n",
    "        return \"Missing_data\"\n",
    "    elif Total_availability==0:\n",
    "        return \"Missing_data\"\n",
    "    elif 0<Total_availability<4:\n",
    "        return \"0\"\n",
    "    elif 4<=Total_availability<8:\n",
    "        return \"1&2\"\n",
    "    elif 8<=Total_availability<16:\n",
    "        return \"3\"\n",
    "    elif 16<=Total_availability<23:\n",
    "        return \"4\"\n",
    "    else:\n",
    "        return \"5\"\n",
    "    \n",
    "func = np.vectorize(conditions)\n",
    "transform = func(df_av_new.Total_availability)\n",
    "df_av_new[\"TIER\"] = transform"
   ]
  },
  {
   "cell_type": "code",
   "execution_count": 3119,
   "metadata": {},
   "outputs": [
    {
     "data": {
      "text/html": [
       "<div>\n",
       "<style scoped>\n",
       "    .dataframe tbody tr th:only-of-type {\n",
       "        vertical-align: middle;\n",
       "    }\n",
       "\n",
       "    .dataframe tbody tr th {\n",
       "        vertical-align: top;\n",
       "    }\n",
       "\n",
       "    .dataframe thead th {\n",
       "        text-align: right;\n",
       "    }\n",
       "</style>\n",
       "<table border=\"1\" class=\"dataframe\">\n",
       "  <thead>\n",
       "    <tr style=\"text-align: right;\">\n",
       "      <th></th>\n",
       "      <th>Total_availability</th>\n",
       "      <th>TIER</th>\n",
       "    </tr>\n",
       "  </thead>\n",
       "  <tbody>\n",
       "    <tr>\n",
       "      <th>3290</th>\n",
       "      <td>1.0</td>\n",
       "      <td>0</td>\n",
       "    </tr>\n",
       "    <tr>\n",
       "      <th>3291</th>\n",
       "      <td>13.0</td>\n",
       "      <td>3</td>\n",
       "    </tr>\n",
       "    <tr>\n",
       "      <th>3292</th>\n",
       "      <td>19.0</td>\n",
       "      <td>4</td>\n",
       "    </tr>\n",
       "    <tr>\n",
       "      <th>3293</th>\n",
       "      <td>23.0</td>\n",
       "      <td>5</td>\n",
       "    </tr>\n",
       "    <tr>\n",
       "      <th>3294</th>\n",
       "      <td>0.0</td>\n",
       "      <td>Missing_data</td>\n",
       "    </tr>\n",
       "  </tbody>\n",
       "</table>\n",
       "</div>"
      ],
      "text/plain": [
       "      Total_availability          TIER\n",
       "3290                 1.0             0\n",
       "3291                13.0             3\n",
       "3292                19.0             4\n",
       "3293                23.0             5\n",
       "3294                 0.0  Missing_data"
      ]
     },
     "execution_count": 3119,
     "metadata": {},
     "output_type": "execute_result"
    }
   ],
   "source": [
    "df_av_new.tail()"
   ]
  },
  {
   "cell_type": "code",
   "execution_count": 3120,
   "metadata": {},
   "outputs": [
    {
     "data": {
      "text/plain": [
       "Missing_data    1792\n",
       "4                590\n",
       "5                504\n",
       "3                210\n",
       "1&2              102\n",
       "0                 97\n",
       "Name: TIER, dtype: int64"
      ]
     },
     "execution_count": 3120,
     "metadata": {},
     "output_type": "execute_result"
    }
   ],
   "source": [
    "df_av_new['TIER'].value_counts()"
   ]
  },
  {
   "cell_type": "markdown",
   "metadata": {},
   "source": [
    "### Visualizing the TIER levels "
   ]
  },
  {
   "cell_type": "code",
   "execution_count": 3121,
   "metadata": {
    "scrolled": false
   },
   "outputs": [
    {
     "data": {
      "text/plain": [
       "Text(0.5, 1.0, 'TIER levels based on day and night power availability')"
      ]
     },
     "execution_count": 3121,
     "metadata": {},
     "output_type": "execute_result"
    },
    {
     "data": {
      "image/png": "[encoded data removed]",
      "text/plain": [
       "<Figure size 1296x432 with 2 Axes>"
      ]
     },
     "metadata": {},
     "output_type": "display_data"
    }
   ],
   "source": [
    "#Pie plot\n",
    "f,ax=plt.subplots(1,2, figsize=(18,6))\n",
    "df_av_new['TIER'].value_counts().plot.pie( autopct='%1.0f%%',ax=ax[0])\n",
    "ax[0].set_title('TIER levels based on day and night power availability')\n",
    "\n",
    "#Barplot\n",
    "sns.countplot('TIER',data=df_av_new,ax=ax[1])\n",
    "ax[1].set_title('TIER levels based on day and night power availability')"
   ]
  },
  {
   "cell_type": "markdown",
   "metadata": {},
   "source": [
    "In the above graph we can see that the daily availability in:\n",
    "\n",
    "1. TIER 0 contributes to 4% of evening availability which is less than 4 hours\n",
    "2. TIER 1&2 contributes to 8% of evening availability which is at least 4 hours\n",
    "3. TIER 3 contributes to 12% of evening availability which is at least 8 hours\n",
    "4. TIER 4 contributes to 24% of evening availability which is at least 16 hours\n",
    "4. TIER 5 contributes to 24% of evening availability which is at least 23 hours"
   ]
  },
  {
   "cell_type": "markdown",
   "metadata": {},
   "source": [
    "## Attribute: Availabilty (Evening)"
   ]
  },
  {
   "cell_type": "markdown",
   "metadata": {},
   "source": [
    "Methodology:\n",
    "\n",
    "To understand the attribute more carefully, features from every power souce have been taekn into consideration; \n",
    "\n",
    "* C27A represents the hours of electricity available each evening from the national grid in the worst months. \n",
    "* Whereas, C27B represents the hours of electricity available each evening from  the national grid in the typical months.\n",
    "* C69A represents the hours of electricity available each evening from the mini grid in the worst months.\n",
    "* Whereas, C69B represents the hours of electricity available each evening from  the mini grid in the typical months.\n",
    "* C108A represents the hours of electricity available each evening from the generator set in the worst months.\n",
    "* Whereas, C108B represents the hours of electricity available each evening from  the generator set in the typical months.\n",
    "* C138A represents the hours of electricity available each evening from pico-hydro in the worst months.\n",
    "* Whereas, C138B represents the hours of electricity available each evening from  pico-hydro in the typical months.\n",
    "* C173A represents the hours of electricity available each evening from main solar based devices in the worst months.\n",
    "* Whereas, C173B represents the hours of electricity available each evening from  main solar based devices in the typical months."
   ]
  },
  {
   "cell_type": "code",
   "execution_count": 3122,
   "metadata": {},
   "outputs": [],
   "source": [
    "df_ave= df[['C27A','C27B','C69A','C69B','C108A','C108B','C138A','C138B','C173A','C173B']]"
   ]
  },
  {
   "cell_type": "markdown",
   "metadata": {},
   "source": [
    "### Renaming the columns"
   ]
  },
  {
   "cell_type": "code",
   "execution_count": 3123,
   "metadata": {},
   "outputs": [],
   "source": [
    "df_ave.columns = ['National_grid_Worst', 'National_grid_Typical','Mini_grid_Worst','Mini_grid_Typical','Generator_set_Worst','Generator_set_Typical','Pico_hydro_Worst','Pico_hydro_Typical','Solar_device_Worst','Solar_device_Typical']"
   ]
  },
  {
   "cell_type": "code",
   "execution_count": 3124,
   "metadata": {
    "scrolled": true
   },
   "outputs": [
    {
     "data": {
      "text/html": [
       "<div>\n",
       "<style scoped>\n",
       "    .dataframe tbody tr th:only-of-type {\n",
       "        vertical-align: middle;\n",
       "    }\n",
       "\n",
       "    .dataframe tbody tr th {\n",
       "        vertical-align: top;\n",
       "    }\n",
       "\n",
       "    .dataframe thead th {\n",
       "        text-align: right;\n",
       "    }\n",
       "</style>\n",
       "<table border=\"1\" class=\"dataframe\">\n",
       "  <thead>\n",
       "    <tr style=\"text-align: right;\">\n",
       "      <th></th>\n",
       "      <th>National_grid_Worst</th>\n",
       "      <th>National_grid_Typical</th>\n",
       "      <th>Mini_grid_Worst</th>\n",
       "      <th>Mini_grid_Typical</th>\n",
       "      <th>Generator_set_Worst</th>\n",
       "      <th>Generator_set_Typical</th>\n",
       "      <th>Pico_hydro_Worst</th>\n",
       "      <th>Pico_hydro_Typical</th>\n",
       "      <th>Solar_device_Worst</th>\n",
       "      <th>Solar_device_Typical</th>\n",
       "    </tr>\n",
       "  </thead>\n",
       "  <tbody>\n",
       "    <tr>\n",
       "      <th>3290</th>\n",
       "      <td>NaN</td>\n",
       "      <td>NaN</td>\n",
       "      <td>NaN</td>\n",
       "      <td>NaN</td>\n",
       "      <td>NaN</td>\n",
       "      <td>NaN</td>\n",
       "      <td>NaN</td>\n",
       "      <td>NaN</td>\n",
       "      <td>1.0</td>\n",
       "      <td>3</td>\n",
       "    </tr>\n",
       "    <tr>\n",
       "      <th>3291</th>\n",
       "      <td>2.0</td>\n",
       "      <td>4.0</td>\n",
       "      <td>NaN</td>\n",
       "      <td>NaN</td>\n",
       "      <td>NaN</td>\n",
       "      <td>NaN</td>\n",
       "      <td>NaN</td>\n",
       "      <td>NaN</td>\n",
       "      <td>NaN</td>\n",
       "      <td>NaN</td>\n",
       "    </tr>\n",
       "    <tr>\n",
       "      <th>3292</th>\n",
       "      <td>1.0</td>\n",
       "      <td>4.0</td>\n",
       "      <td>NaN</td>\n",
       "      <td>NaN</td>\n",
       "      <td>NaN</td>\n",
       "      <td>NaN</td>\n",
       "      <td>NaN</td>\n",
       "      <td>NaN</td>\n",
       "      <td>NaN</td>\n",
       "      <td>NaN</td>\n",
       "    </tr>\n",
       "    <tr>\n",
       "      <th>3293</th>\n",
       "      <td>NaN</td>\n",
       "      <td>4.0</td>\n",
       "      <td>NaN</td>\n",
       "      <td>NaN</td>\n",
       "      <td>NaN</td>\n",
       "      <td>NaN</td>\n",
       "      <td>NaN</td>\n",
       "      <td>NaN</td>\n",
       "      <td>NaN</td>\n",
       "      <td>NaN</td>\n",
       "    </tr>\n",
       "    <tr>\n",
       "      <th>3294</th>\n",
       "      <td>NaN</td>\n",
       "      <td>NaN</td>\n",
       "      <td>NaN</td>\n",
       "      <td>NaN</td>\n",
       "      <td>NaN</td>\n",
       "      <td>NaN</td>\n",
       "      <td>NaN</td>\n",
       "      <td>NaN</td>\n",
       "      <td>NaN</td>\n",
       "      <td>NaN</td>\n",
       "    </tr>\n",
       "  </tbody>\n",
       "</table>\n",
       "</div>"
      ],
      "text/plain": [
       "     National_grid_Worst National_grid_Typical  Mini_grid_Worst  \\\n",
       "3290                 NaN                   NaN              NaN   \n",
       "3291                 2.0                   4.0              NaN   \n",
       "3292                 1.0                   4.0              NaN   \n",
       "3293                 NaN                   4.0              NaN   \n",
       "3294                 NaN                   NaN              NaN   \n",
       "\n",
       "      Mini_grid_Typical  Generator_set_Worst  Generator_set_Typical  \\\n",
       "3290                NaN                  NaN                    NaN   \n",
       "3291                NaN                  NaN                    NaN   \n",
       "3292                NaN                  NaN                    NaN   \n",
       "3293                NaN                  NaN                    NaN   \n",
       "3294                NaN                  NaN                    NaN   \n",
       "\n",
       "      Pico_hydro_Worst  Pico_hydro_Typical  Solar_device_Worst  \\\n",
       "3290               NaN                 NaN                 1.0   \n",
       "3291               NaN                 NaN                 NaN   \n",
       "3292               NaN                 NaN                 NaN   \n",
       "3293               NaN                 NaN                 NaN   \n",
       "3294               NaN                 NaN                 NaN   \n",
       "\n",
       "     Solar_device_Typical  \n",
       "3290                    3  \n",
       "3291                  NaN  \n",
       "3292                  NaN  \n",
       "3293                  NaN  \n",
       "3294                  NaN  "
      ]
     },
     "execution_count": 3124,
     "metadata": {},
     "output_type": "execute_result"
    }
   ],
   "source": [
    "df_ave.tail()"
   ]
  },
  {
   "cell_type": "code",
   "execution_count": 3125,
   "metadata": {
    "scrolled": true
   },
   "outputs": [
    {
     "name": "stdout",
     "output_type": "stream",
     "text": [
      "<class 'pandas.core.frame.DataFrame'>\n",
      "RangeIndex: 3295 entries, 0 to 3294\n",
      "Data columns (total 10 columns):\n",
      " #   Column                 Non-Null Count  Dtype  \n",
      "---  ------                 --------------  -----  \n",
      " 0   National_grid_Worst    652 non-null    object \n",
      " 1   National_grid_Typical  1591 non-null   object \n",
      " 2   Mini_grid_Worst        2 non-null      float64\n",
      " 3   Mini_grid_Typical      8 non-null      float64\n",
      " 4   Generator_set_Worst    1 non-null      float64\n",
      " 5   Generator_set_Typical  1 non-null      float64\n",
      " 6   Pico_hydro_Worst       3 non-null      float64\n",
      " 7   Pico_hydro_Typical     5 non-null      float64\n",
      " 8   Solar_device_Worst     39 non-null     float64\n",
      " 9   Solar_device_Typical   109 non-null    object \n",
      "dtypes: float64(7), object(3)\n",
      "memory usage: 257.5+ KB\n"
     ]
    }
   ],
   "source": [
    "df_ave.info()"
   ]
  },
  {
   "cell_type": "markdown",
   "metadata": {},
   "source": [
    "### Calculation\n",
    "\n",
    "In this step Total availabilty for all the power sources has been analysed. Taking the worst months into consideration, the missing values in \"worst\" months have been added from the \"typical\" months. This is done as the World bank takes the worst condition into account for enery access assessment."
   ]
  },
  {
   "cell_type": "code",
   "execution_count": 3126,
   "metadata": {},
   "outputs": [],
   "source": [
    "#National Grid\n",
    "df_ave['National_grid_Total'] = df_ave.National_grid_Worst.fillna(value=df_ave.National_grid_Typical)\n",
    "\n",
    "#National Grid\n",
    "df_ave['Mini_grid_Total'] = df_ave.Mini_grid_Worst.fillna(value=df_ave.Mini_grid_Typical)\n",
    "\n",
    "#Generator Set\n",
    "df_ave['Generator_set_Total'] = df_ave.Generator_set_Worst.fillna(value=df_ave.Generator_set_Typical)\n",
    "\n",
    "#Pico Hydro\n",
    "df_ave['Pico_hydro_Total'] = df_ave.Pico_hydro_Worst.fillna(value=df_ave.Pico_hydro_Typical)\n",
    "\n",
    "#Solar Devicce\n",
    "df_ave['Solar_device_Total'] = df_ave.Solar_device_Worst.fillna(value=df_ave.Solar_device_Typical)\n",
    "\n",
    "\n",
    "#Taking only the total values into consideration\n",
    "df_ave_new=df_ave[['National_grid_Total','Mini_grid_Total','Generator_set_Total','Pico_hydro_Total','Solar_device_Total']]"
   ]
  },
  {
   "cell_type": "code",
   "execution_count": 3127,
   "metadata": {
    "scrolled": false
   },
   "outputs": [
    {
     "data": {
      "text/html": [
       "<div>\n",
       "<style scoped>\n",
       "    .dataframe tbody tr th:only-of-type {\n",
       "        vertical-align: middle;\n",
       "    }\n",
       "\n",
       "    .dataframe tbody tr th {\n",
       "        vertical-align: top;\n",
       "    }\n",
       "\n",
       "    .dataframe thead th {\n",
       "        text-align: right;\n",
       "    }\n",
       "</style>\n",
       "<table border=\"1\" class=\"dataframe\">\n",
       "  <thead>\n",
       "    <tr style=\"text-align: right;\">\n",
       "      <th></th>\n",
       "      <th>National_grid_Total</th>\n",
       "      <th>Mini_grid_Total</th>\n",
       "      <th>Generator_set_Total</th>\n",
       "      <th>Pico_hydro_Total</th>\n",
       "      <th>Solar_device_Total</th>\n",
       "    </tr>\n",
       "  </thead>\n",
       "  <tbody>\n",
       "    <tr>\n",
       "      <th>3290</th>\n",
       "      <td>NaN</td>\n",
       "      <td>NaN</td>\n",
       "      <td>NaN</td>\n",
       "      <td>NaN</td>\n",
       "      <td>1</td>\n",
       "    </tr>\n",
       "    <tr>\n",
       "      <th>3291</th>\n",
       "      <td>2.0</td>\n",
       "      <td>NaN</td>\n",
       "      <td>NaN</td>\n",
       "      <td>NaN</td>\n",
       "      <td>NaN</td>\n",
       "    </tr>\n",
       "    <tr>\n",
       "      <th>3292</th>\n",
       "      <td>1.0</td>\n",
       "      <td>NaN</td>\n",
       "      <td>NaN</td>\n",
       "      <td>NaN</td>\n",
       "      <td>NaN</td>\n",
       "    </tr>\n",
       "    <tr>\n",
       "      <th>3293</th>\n",
       "      <td>4.0</td>\n",
       "      <td>NaN</td>\n",
       "      <td>NaN</td>\n",
       "      <td>NaN</td>\n",
       "      <td>NaN</td>\n",
       "    </tr>\n",
       "    <tr>\n",
       "      <th>3294</th>\n",
       "      <td>NaN</td>\n",
       "      <td>NaN</td>\n",
       "      <td>NaN</td>\n",
       "      <td>NaN</td>\n",
       "      <td>NaN</td>\n",
       "    </tr>\n",
       "  </tbody>\n",
       "</table>\n",
       "</div>"
      ],
      "text/plain": [
       "     National_grid_Total  Mini_grid_Total  Generator_set_Total  \\\n",
       "3290                 NaN              NaN                  NaN   \n",
       "3291                 2.0              NaN                  NaN   \n",
       "3292                 1.0              NaN                  NaN   \n",
       "3293                 4.0              NaN                  NaN   \n",
       "3294                 NaN              NaN                  NaN   \n",
       "\n",
       "      Pico_hydro_Total Solar_device_Total  \n",
       "3290               NaN                  1  \n",
       "3291               NaN                NaN  \n",
       "3292               NaN                NaN  \n",
       "3293               NaN                NaN  \n",
       "3294               NaN                NaN  "
      ]
     },
     "execution_count": 3127,
     "metadata": {},
     "output_type": "execute_result"
    }
   ],
   "source": [
    "df_ave_new.tail()"
   ]
  },
  {
   "cell_type": "markdown",
   "metadata": {},
   "source": [
    "### Changing the string variables into float/int "
   ]
  },
  {
   "cell_type": "code",
   "execution_count": 3128,
   "metadata": {},
   "outputs": [],
   "source": [
    "df_ave_new=df_ave_new.replace(to_replace=\"Don't know\",value=0)"
   ]
  },
  {
   "cell_type": "code",
   "execution_count": 3129,
   "metadata": {
    "scrolled": false
   },
   "outputs": [
    {
     "name": "stdout",
     "output_type": "stream",
     "text": [
      "<class 'pandas.core.frame.DataFrame'>\n",
      "RangeIndex: 3295 entries, 0 to 3294\n",
      "Data columns (total 5 columns):\n",
      " #   Column               Non-Null Count  Dtype  \n",
      "---  ------               --------------  -----  \n",
      " 0   National_grid_Total  1591 non-null   object \n",
      " 1   Mini_grid_Total      8 non-null      float64\n",
      " 2   Generator_set_Total  1 non-null      float64\n",
      " 3   Pico_hydro_Total     5 non-null      float64\n",
      " 4   Solar_device_Total   110 non-null    object \n",
      "dtypes: float64(3), object(2)\n",
      "memory usage: 128.8+ KB\n"
     ]
    }
   ],
   "source": [
    "df_ave_new.info()"
   ]
  },
  {
   "cell_type": "code",
   "execution_count": 3130,
   "metadata": {},
   "outputs": [],
   "source": [
    "df_ave_new= df_ave_new.apply(pd.to_numeric, errors='coerce')"
   ]
  },
  {
   "cell_type": "code",
   "execution_count": 3131,
   "metadata": {},
   "outputs": [
    {
     "name": "stdout",
     "output_type": "stream",
     "text": [
      "<class 'pandas.core.frame.DataFrame'>\n",
      "RangeIndex: 3295 entries, 0 to 3294\n",
      "Data columns (total 5 columns):\n",
      " #   Column               Non-Null Count  Dtype  \n",
      "---  ------               --------------  -----  \n",
      " 0   National_grid_Total  1591 non-null   float64\n",
      " 1   Mini_grid_Total      8 non-null      float64\n",
      " 2   Generator_set_Total  1 non-null      float64\n",
      " 3   Pico_hydro_Total     5 non-null      float64\n",
      " 4   Solar_device_Total   110 non-null    float64\n",
      "dtypes: float64(5)\n",
      "memory usage: 128.8 KB\n"
     ]
    }
   ],
   "source": [
    "df_ave_new.info()"
   ]
  },
  {
   "cell_type": "markdown",
   "metadata": {},
   "source": [
    "### Calculating the total availability"
   ]
  },
  {
   "cell_type": "code",
   "execution_count": 3132,
   "metadata": {},
   "outputs": [],
   "source": [
    "lst=[]\n",
    "for i in range(df_ave_new.shape[0]):\n",
    "    temp=0\n",
    "    for j in range(df_ave_new.shape[1]):\n",
    "        if math.isnan(df_ave_new.iat[i,j]):\n",
    "            temp = temp\n",
    "        else:\n",
    "            temp = temp + df_ave_new.iat[i,j]\n",
    "    lst.append(temp)\n",
    "\n",
    "# adding list to dataframe\n",
    "df_ave_new[\"Total_availability\"] = lst"
   ]
  },
  {
   "cell_type": "code",
   "execution_count": 3133,
   "metadata": {},
   "outputs": [
    {
     "data": {
      "text/html": [
       "<div>\n",
       "<style scoped>\n",
       "    .dataframe tbody tr th:only-of-type {\n",
       "        vertical-align: middle;\n",
       "    }\n",
       "\n",
       "    .dataframe tbody tr th {\n",
       "        vertical-align: top;\n",
       "    }\n",
       "\n",
       "    .dataframe thead th {\n",
       "        text-align: right;\n",
       "    }\n",
       "</style>\n",
       "<table border=\"1\" class=\"dataframe\">\n",
       "  <thead>\n",
       "    <tr style=\"text-align: right;\">\n",
       "      <th></th>\n",
       "      <th>National_grid_Total</th>\n",
       "      <th>Mini_grid_Total</th>\n",
       "      <th>Generator_set_Total</th>\n",
       "      <th>Pico_hydro_Total</th>\n",
       "      <th>Solar_device_Total</th>\n",
       "      <th>Total_availability</th>\n",
       "    </tr>\n",
       "  </thead>\n",
       "  <tbody>\n",
       "    <tr>\n",
       "      <th>3290</th>\n",
       "      <td>NaN</td>\n",
       "      <td>NaN</td>\n",
       "      <td>NaN</td>\n",
       "      <td>NaN</td>\n",
       "      <td>1.0</td>\n",
       "      <td>1.0</td>\n",
       "    </tr>\n",
       "    <tr>\n",
       "      <th>3291</th>\n",
       "      <td>2.0</td>\n",
       "      <td>NaN</td>\n",
       "      <td>NaN</td>\n",
       "      <td>NaN</td>\n",
       "      <td>NaN</td>\n",
       "      <td>2.0</td>\n",
       "    </tr>\n",
       "    <tr>\n",
       "      <th>3292</th>\n",
       "      <td>1.0</td>\n",
       "      <td>NaN</td>\n",
       "      <td>NaN</td>\n",
       "      <td>NaN</td>\n",
       "      <td>NaN</td>\n",
       "      <td>1.0</td>\n",
       "    </tr>\n",
       "    <tr>\n",
       "      <th>3293</th>\n",
       "      <td>4.0</td>\n",
       "      <td>NaN</td>\n",
       "      <td>NaN</td>\n",
       "      <td>NaN</td>\n",
       "      <td>NaN</td>\n",
       "      <td>4.0</td>\n",
       "    </tr>\n",
       "    <tr>\n",
       "      <th>3294</th>\n",
       "      <td>NaN</td>\n",
       "      <td>NaN</td>\n",
       "      <td>NaN</td>\n",
       "      <td>NaN</td>\n",
       "      <td>NaN</td>\n",
       "      <td>0.0</td>\n",
       "    </tr>\n",
       "  </tbody>\n",
       "</table>\n",
       "</div>"
      ],
      "text/plain": [
       "      National_grid_Total  Mini_grid_Total  Generator_set_Total  \\\n",
       "3290                  NaN              NaN                  NaN   \n",
       "3291                  2.0              NaN                  NaN   \n",
       "3292                  1.0              NaN                  NaN   \n",
       "3293                  4.0              NaN                  NaN   \n",
       "3294                  NaN              NaN                  NaN   \n",
       "\n",
       "      Pico_hydro_Total  Solar_device_Total  Total_availability  \n",
       "3290               NaN                 1.0                 1.0  \n",
       "3291               NaN                 NaN                 2.0  \n",
       "3292               NaN                 NaN                 1.0  \n",
       "3293               NaN                 NaN                 4.0  \n",
       "3294               NaN                 NaN                 0.0  "
      ]
     },
     "execution_count": 3133,
     "metadata": {},
     "output_type": "execute_result"
    }
   ],
   "source": [
    "df_ave_new.tail()"
   ]
  },
  {
   "cell_type": "code",
   "execution_count": 3134,
   "metadata": {
    "scrolled": true
   },
   "outputs": [],
   "source": [
    "df_ave_new=df_ave_new[['Total_availability']]"
   ]
  },
  {
   "cell_type": "markdown",
   "metadata": {},
   "source": [
    "### Replacing NaN values with \"Missing_data\" \n",
    "\n",
    "This is done to keep the missing values into analysis (As it is important to know how many missing values do we have)"
   ]
  },
  {
   "cell_type": "code",
   "execution_count": 3135,
   "metadata": {},
   "outputs": [],
   "source": [
    "df_ave_new['Total_availability'] = df_ave_new.replace(np.nan, 'Missing_data', regex=True)"
   ]
  },
  {
   "cell_type": "code",
   "execution_count": 3136,
   "metadata": {},
   "outputs": [
    {
     "data": {
      "text/html": [
       "<div>\n",
       "<style scoped>\n",
       "    .dataframe tbody tr th:only-of-type {\n",
       "        vertical-align: middle;\n",
       "    }\n",
       "\n",
       "    .dataframe tbody tr th {\n",
       "        vertical-align: top;\n",
       "    }\n",
       "\n",
       "    .dataframe thead th {\n",
       "        text-align: right;\n",
       "    }\n",
       "</style>\n",
       "<table border=\"1\" class=\"dataframe\">\n",
       "  <thead>\n",
       "    <tr style=\"text-align: right;\">\n",
       "      <th></th>\n",
       "      <th>Total_availability</th>\n",
       "    </tr>\n",
       "  </thead>\n",
       "  <tbody>\n",
       "    <tr>\n",
       "      <th>3290</th>\n",
       "      <td>1.0</td>\n",
       "    </tr>\n",
       "    <tr>\n",
       "      <th>3291</th>\n",
       "      <td>2.0</td>\n",
       "    </tr>\n",
       "    <tr>\n",
       "      <th>3292</th>\n",
       "      <td>1.0</td>\n",
       "    </tr>\n",
       "    <tr>\n",
       "      <th>3293</th>\n",
       "      <td>4.0</td>\n",
       "    </tr>\n",
       "    <tr>\n",
       "      <th>3294</th>\n",
       "      <td>0.0</td>\n",
       "    </tr>\n",
       "  </tbody>\n",
       "</table>\n",
       "</div>"
      ],
      "text/plain": [
       "      Total_availability\n",
       "3290                 1.0\n",
       "3291                 2.0\n",
       "3292                 1.0\n",
       "3293                 4.0\n",
       "3294                 0.0"
      ]
     },
     "execution_count": 3136,
     "metadata": {},
     "output_type": "execute_result"
    }
   ],
   "source": [
    "df_ave_new.tail()"
   ]
  },
  {
   "cell_type": "markdown",
   "metadata": {},
   "source": [
    "### Adding column \"TIER\" to the dataset "
   ]
  },
  {
   "cell_type": "code",
   "execution_count": 3137,
   "metadata": {},
   "outputs": [],
   "source": [
    "# AVAILABILITY: Day\n",
    "#Note: conditions for TIER 4 and 5 are the same\n",
    "\n",
    "def conditions(Total_availability):\n",
    "    if Total_availability == 'Missing_data':\n",
    "        return \"Missing_data\"\n",
    "    elif Total_availability==0:\n",
    "        return \"Missing_data\"\n",
    "    elif 0<Total_availability<1:\n",
    "        return \"0\"\n",
    "    elif 1<=Total_availability<2:\n",
    "        return \"1\"\n",
    "    elif 2<=Total_availability<3:\n",
    "        return \"2\"\n",
    "    elif 3<=Total_availability<4:\n",
    "        return \"3\"\n",
    "    else:\n",
    "        return \"4&5\"\n",
    "    \n",
    "func = np.vectorize(conditions)\n",
    "transform = func(df_ave_new.Total_availability)\n",
    "df_ave_new[\"TIER\"] = transform"
   ]
  },
  {
   "cell_type": "code",
   "execution_count": 3138,
   "metadata": {},
   "outputs": [
    {
     "data": {
      "text/html": [
       "<div>\n",
       "<style scoped>\n",
       "    .dataframe tbody tr th:only-of-type {\n",
       "        vertical-align: middle;\n",
       "    }\n",
       "\n",
       "    .dataframe tbody tr th {\n",
       "        vertical-align: top;\n",
       "    }\n",
       "\n",
       "    .dataframe thead th {\n",
       "        text-align: right;\n",
       "    }\n",
       "</style>\n",
       "<table border=\"1\" class=\"dataframe\">\n",
       "  <thead>\n",
       "    <tr style=\"text-align: right;\">\n",
       "      <th></th>\n",
       "      <th>Total_availability</th>\n",
       "      <th>TIER</th>\n",
       "    </tr>\n",
       "  </thead>\n",
       "  <tbody>\n",
       "    <tr>\n",
       "      <th>3290</th>\n",
       "      <td>1.0</td>\n",
       "      <td>1</td>\n",
       "    </tr>\n",
       "    <tr>\n",
       "      <th>3291</th>\n",
       "      <td>2.0</td>\n",
       "      <td>2</td>\n",
       "    </tr>\n",
       "    <tr>\n",
       "      <th>3292</th>\n",
       "      <td>1.0</td>\n",
       "      <td>1</td>\n",
       "    </tr>\n",
       "    <tr>\n",
       "      <th>3293</th>\n",
       "      <td>4.0</td>\n",
       "      <td>4&amp;5</td>\n",
       "    </tr>\n",
       "    <tr>\n",
       "      <th>3294</th>\n",
       "      <td>0.0</td>\n",
       "      <td>Missing_data</td>\n",
       "    </tr>\n",
       "  </tbody>\n",
       "</table>\n",
       "</div>"
      ],
      "text/plain": [
       "      Total_availability          TIER\n",
       "3290                 1.0             1\n",
       "3291                 2.0             2\n",
       "3292                 1.0             1\n",
       "3293                 4.0           4&5\n",
       "3294                 0.0  Missing_data"
      ]
     },
     "execution_count": 3138,
     "metadata": {},
     "output_type": "execute_result"
    }
   ],
   "source": [
    "df_ave_new.tail()"
   ]
  },
  {
   "cell_type": "code",
   "execution_count": 3139,
   "metadata": {},
   "outputs": [
    {
     "data": {
      "text/plain": [
       "Missing_data    1698\n",
       "4&5              804\n",
       "3                408\n",
       "2                248\n",
       "1                137\n",
       "Name: TIER, dtype: int64"
      ]
     },
     "execution_count": 3139,
     "metadata": {},
     "output_type": "execute_result"
    }
   ],
   "source": [
    "df_ave_new['TIER'].value_counts()"
   ]
  },
  {
   "cell_type": "markdown",
   "metadata": {},
   "source": [
    "### Visualizing the TIER levels "
   ]
  },
  {
   "cell_type": "code",
   "execution_count": 3140,
   "metadata": {
    "scrolled": false
   },
   "outputs": [
    {
     "data": {
      "text/plain": [
       "Text(0.5, 1.0, 'TIER levels based on evening power availability')"
      ]
     },
     "execution_count": 3140,
     "metadata": {},
     "output_type": "execute_result"
    },
    {
     "data": {
      "image/png": "[encoded data removed]",
      "text/plain": [
       "<Figure size 1296x432 with 2 Axes>"
      ]
     },
     "metadata": {},
     "output_type": "display_data"
    }
   ],
   "source": [
    "#Pie plot\n",
    "f,ax=plt.subplots(1,2, figsize=(18,6))\n",
    "df_ave_new['TIER'].value_counts().plot.pie( autopct='%1.0f%%',ax=ax[0])\n",
    "ax[0].set_title('TIER levels based on evening power availability')\n",
    "\n",
    "#Barplot\n",
    "sns.countplot('TIER',data=df_ave_new,ax=ax[1])\n",
    "ax[1].set_title('TIER levels based on evening power availability')"
   ]
  },
  {
   "cell_type": "markdown",
   "metadata": {},
   "source": [
    "In the above graph we can see that the evening availability in:\n",
    "\n",
    "1. TIER 1 contributes to 4% of evening availability which is at least 1 hours\n",
    "2. TIER 2 contributes to 8% of evening availability which is at least 2 hours\n",
    "3. TIER 3 contributes to 12% of evening availability which is at least 3 hours\n",
    "4. TIER 4&5 contributes to 24% of evening availability which is at least 4 hours"
   ]
  },
  {
   "cell_type": "markdown",
   "metadata": {},
   "source": [
    "# Attribute: Reliability\n",
    "\n",
    "Methodology:\n",
    "\n",
    "To understand the attribute more carefully, features from all the power sources have been taekn into consideration; \n",
    "* C29A represents the electricity disruption from the national grid in the worst months. \n",
    "* Whereas, C29B represents the electricity disruption from the national grid in the actual months.\n",
    "* C71A represents the electricity disruption from the mini grid in the worst months. \n",
    "* Whereas, C71B represents the electricity disruption from the mini grid in the actual months."
   ]
  },
  {
   "cell_type": "code",
   "execution_count": 3141,
   "metadata": {},
   "outputs": [],
   "source": [
    "df_rel= df[['C29A','C29B','C71A','C71B']]"
   ]
  },
  {
   "cell_type": "markdown",
   "metadata": {},
   "source": [
    "### Renaming the columns"
   ]
  },
  {
   "cell_type": "code",
   "execution_count": 3142,
   "metadata": {},
   "outputs": [],
   "source": [
    "df_rel.columns = ['National_grid_Worst','National_grid_Typical','Mini_grid_Worst','Mini_grid_Typical']"
   ]
  },
  {
   "cell_type": "code",
   "execution_count": 3143,
   "metadata": {
    "scrolled": true
   },
   "outputs": [
    {
     "data": {
      "text/html": [
       "<div>\n",
       "<style scoped>\n",
       "    .dataframe tbody tr th:only-of-type {\n",
       "        vertical-align: middle;\n",
       "    }\n",
       "\n",
       "    .dataframe tbody tr th {\n",
       "        vertical-align: top;\n",
       "    }\n",
       "\n",
       "    .dataframe thead th {\n",
       "        text-align: right;\n",
       "    }\n",
       "</style>\n",
       "<table border=\"1\" class=\"dataframe\">\n",
       "  <thead>\n",
       "    <tr style=\"text-align: right;\">\n",
       "      <th></th>\n",
       "      <th>National_grid_Worst</th>\n",
       "      <th>National_grid_Typical</th>\n",
       "      <th>Mini_grid_Worst</th>\n",
       "      <th>Mini_grid_Typical</th>\n",
       "    </tr>\n",
       "  </thead>\n",
       "  <tbody>\n",
       "    <tr>\n",
       "      <th>3290</th>\n",
       "      <td>NaN</td>\n",
       "      <td>NaN</td>\n",
       "      <td>NaN</td>\n",
       "      <td>NaN</td>\n",
       "    </tr>\n",
       "    <tr>\n",
       "      <th>3291</th>\n",
       "      <td>3.0</td>\n",
       "      <td>1.0</td>\n",
       "      <td>NaN</td>\n",
       "      <td>NaN</td>\n",
       "    </tr>\n",
       "    <tr>\n",
       "      <th>3292</th>\n",
       "      <td>1.0</td>\n",
       "      <td>Don't know</td>\n",
       "      <td>NaN</td>\n",
       "      <td>NaN</td>\n",
       "    </tr>\n",
       "    <tr>\n",
       "      <th>3293</th>\n",
       "      <td>NaN</td>\n",
       "      <td>2.0</td>\n",
       "      <td>NaN</td>\n",
       "      <td>NaN</td>\n",
       "    </tr>\n",
       "    <tr>\n",
       "      <th>3294</th>\n",
       "      <td>NaN</td>\n",
       "      <td>NaN</td>\n",
       "      <td>NaN</td>\n",
       "      <td>NaN</td>\n",
       "    </tr>\n",
       "  </tbody>\n",
       "</table>\n",
       "</div>"
      ],
      "text/plain": [
       "     National_grid_Worst National_grid_Typical  Mini_grid_Worst  \\\n",
       "3290                 NaN                   NaN              NaN   \n",
       "3291                 3.0                   1.0              NaN   \n",
       "3292                 1.0            Don't know              NaN   \n",
       "3293                 NaN                   2.0              NaN   \n",
       "3294                 NaN                   NaN              NaN   \n",
       "\n",
       "     Mini_grid_Typical  \n",
       "3290               NaN  \n",
       "3291               NaN  \n",
       "3292               NaN  \n",
       "3293               NaN  \n",
       "3294               NaN  "
      ]
     },
     "execution_count": 3143,
     "metadata": {},
     "output_type": "execute_result"
    }
   ],
   "source": [
    "df_rel.tail()"
   ]
  },
  {
   "cell_type": "code",
   "execution_count": 3144,
   "metadata": {},
   "outputs": [
    {
     "name": "stdout",
     "output_type": "stream",
     "text": [
      "<class 'pandas.core.frame.DataFrame'>\n",
      "RangeIndex: 3295 entries, 0 to 3294\n",
      "Data columns (total 4 columns):\n",
      " #   Column                 Non-Null Count  Dtype  \n",
      "---  ------                 --------------  -----  \n",
      " 0   National_grid_Worst    652 non-null    object \n",
      " 1   National_grid_Typical  1591 non-null   object \n",
      " 2   Mini_grid_Worst        2 non-null      float64\n",
      " 3   Mini_grid_Typical      8 non-null      object \n",
      "dtypes: float64(1), object(3)\n",
      "memory usage: 103.1+ KB\n"
     ]
    }
   ],
   "source": [
    "df_rel.info()"
   ]
  },
  {
   "cell_type": "markdown",
   "metadata": {},
   "source": [
    "### Calculation\n",
    "\n",
    "In this step Total reliability from all the power sources has been analysed. Taking the worst months into consideration, the missing values in \"worst\" months have been added from the \"typical\" months. This is done as the World bank takes the worst condition into account for enery access assessment."
   ]
  },
  {
   "cell_type": "code",
   "execution_count": 3145,
   "metadata": {},
   "outputs": [],
   "source": [
    "#National Grid\n",
    "df_rel['National_grid_Total'] = df_rel.National_grid_Worst.fillna(value=df_rel.National_grid_Typical)\n",
    "\n",
    "#National Grid\n",
    "df_rel['Mini_grid_Total'] = df_rel.Mini_grid_Worst.fillna(value=df_rel.Mini_grid_Typical)\n",
    "\n",
    "#Taking only the total values into consideration\n",
    "df_rel_new=df_rel[['National_grid_Total','Mini_grid_Total']]"
   ]
  },
  {
   "cell_type": "code",
   "execution_count": 3146,
   "metadata": {
    "scrolled": true
   },
   "outputs": [
    {
     "data": {
      "text/html": [
       "<div>\n",
       "<style scoped>\n",
       "    .dataframe tbody tr th:only-of-type {\n",
       "        vertical-align: middle;\n",
       "    }\n",
       "\n",
       "    .dataframe tbody tr th {\n",
       "        vertical-align: top;\n",
       "    }\n",
       "\n",
       "    .dataframe thead th {\n",
       "        text-align: right;\n",
       "    }\n",
       "</style>\n",
       "<table border=\"1\" class=\"dataframe\">\n",
       "  <thead>\n",
       "    <tr style=\"text-align: right;\">\n",
       "      <th></th>\n",
       "      <th>National_grid_Total</th>\n",
       "      <th>Mini_grid_Total</th>\n",
       "    </tr>\n",
       "  </thead>\n",
       "  <tbody>\n",
       "    <tr>\n",
       "      <th>3290</th>\n",
       "      <td>NaN</td>\n",
       "      <td>NaN</td>\n",
       "    </tr>\n",
       "    <tr>\n",
       "      <th>3291</th>\n",
       "      <td>3.0</td>\n",
       "      <td>NaN</td>\n",
       "    </tr>\n",
       "    <tr>\n",
       "      <th>3292</th>\n",
       "      <td>1.0</td>\n",
       "      <td>NaN</td>\n",
       "    </tr>\n",
       "    <tr>\n",
       "      <th>3293</th>\n",
       "      <td>2.0</td>\n",
       "      <td>NaN</td>\n",
       "    </tr>\n",
       "    <tr>\n",
       "      <th>3294</th>\n",
       "      <td>NaN</td>\n",
       "      <td>NaN</td>\n",
       "    </tr>\n",
       "  </tbody>\n",
       "</table>\n",
       "</div>"
      ],
      "text/plain": [
       "     National_grid_Total Mini_grid_Total\n",
       "3290                 NaN             NaN\n",
       "3291                 3.0             NaN\n",
       "3292                 1.0             NaN\n",
       "3293                 2.0             NaN\n",
       "3294                 NaN             NaN"
      ]
     },
     "execution_count": 3146,
     "metadata": {},
     "output_type": "execute_result"
    }
   ],
   "source": [
    "df_rel_new.tail()"
   ]
  },
  {
   "cell_type": "markdown",
   "metadata": {},
   "source": [
    "### Changing the string variables into float/int "
   ]
  },
  {
   "cell_type": "code",
   "execution_count": 3147,
   "metadata": {},
   "outputs": [],
   "source": [
    "df_rel_new=df_rel_new.replace(to_replace=\"Don't know\",value=0)"
   ]
  },
  {
   "cell_type": "code",
   "execution_count": 3148,
   "metadata": {
    "scrolled": false
   },
   "outputs": [
    {
     "name": "stdout",
     "output_type": "stream",
     "text": [
      "<class 'pandas.core.frame.DataFrame'>\n",
      "RangeIndex: 3295 entries, 0 to 3294\n",
      "Data columns (total 2 columns):\n",
      " #   Column               Non-Null Count  Dtype \n",
      "---  ------               --------------  ----- \n",
      " 0   National_grid_Total  1591 non-null   object\n",
      " 1   Mini_grid_Total      8 non-null      object\n",
      "dtypes: object(2)\n",
      "memory usage: 51.6+ KB\n"
     ]
    }
   ],
   "source": [
    "df_rel_new.info()"
   ]
  },
  {
   "cell_type": "code",
   "execution_count": 3149,
   "metadata": {},
   "outputs": [],
   "source": [
    "df_rel_new= df_rel_new.apply(pd.to_numeric, errors='coerce')"
   ]
  },
  {
   "cell_type": "code",
   "execution_count": 3150,
   "metadata": {},
   "outputs": [
    {
     "name": "stdout",
     "output_type": "stream",
     "text": [
      "<class 'pandas.core.frame.DataFrame'>\n",
      "RangeIndex: 3295 entries, 0 to 3294\n",
      "Data columns (total 2 columns):\n",
      " #   Column               Non-Null Count  Dtype  \n",
      "---  ------               --------------  -----  \n",
      " 0   National_grid_Total  1591 non-null   float64\n",
      " 1   Mini_grid_Total      8 non-null      float64\n",
      "dtypes: float64(2)\n",
      "memory usage: 51.6 KB\n"
     ]
    }
   ],
   "source": [
    "df_rel_new.info()"
   ]
  },
  {
   "cell_type": "markdown",
   "metadata": {},
   "source": [
    "### Calculating the total availability"
   ]
  },
  {
   "cell_type": "code",
   "execution_count": 3151,
   "metadata": {},
   "outputs": [],
   "source": [
    "lst=[]\n",
    "for i in range(df_rel_new.shape[0]):\n",
    "    temp=0\n",
    "    for j in range(df_rel_new.shape[1]):\n",
    "        if math.isnan(df_rel_new.iat[i,j]):\n",
    "            temp = temp\n",
    "        else:\n",
    "            temp = temp + df_rel_new.iat[i,j]\n",
    "    lst.append(temp)\n",
    "\n",
    "# adding list to dataframe\n",
    "df_rel_new[\"Total_reliability\"] = lst"
   ]
  },
  {
   "cell_type": "code",
   "execution_count": 3152,
   "metadata": {},
   "outputs": [
    {
     "data": {
      "text/html": [
       "<div>\n",
       "<style scoped>\n",
       "    .dataframe tbody tr th:only-of-type {\n",
       "        vertical-align: middle;\n",
       "    }\n",
       "\n",
       "    .dataframe tbody tr th {\n",
       "        vertical-align: top;\n",
       "    }\n",
       "\n",
       "    .dataframe thead th {\n",
       "        text-align: right;\n",
       "    }\n",
       "</style>\n",
       "<table border=\"1\" class=\"dataframe\">\n",
       "  <thead>\n",
       "    <tr style=\"text-align: right;\">\n",
       "      <th></th>\n",
       "      <th>National_grid_Total</th>\n",
       "      <th>Mini_grid_Total</th>\n",
       "      <th>Total_reliability</th>\n",
       "    </tr>\n",
       "  </thead>\n",
       "  <tbody>\n",
       "    <tr>\n",
       "      <th>3290</th>\n",
       "      <td>NaN</td>\n",
       "      <td>NaN</td>\n",
       "      <td>0.0</td>\n",
       "    </tr>\n",
       "    <tr>\n",
       "      <th>3291</th>\n",
       "      <td>3.0</td>\n",
       "      <td>NaN</td>\n",
       "      <td>3.0</td>\n",
       "    </tr>\n",
       "    <tr>\n",
       "      <th>3292</th>\n",
       "      <td>1.0</td>\n",
       "      <td>NaN</td>\n",
       "      <td>1.0</td>\n",
       "    </tr>\n",
       "    <tr>\n",
       "      <th>3293</th>\n",
       "      <td>2.0</td>\n",
       "      <td>NaN</td>\n",
       "      <td>2.0</td>\n",
       "    </tr>\n",
       "    <tr>\n",
       "      <th>3294</th>\n",
       "      <td>NaN</td>\n",
       "      <td>NaN</td>\n",
       "      <td>0.0</td>\n",
       "    </tr>\n",
       "  </tbody>\n",
       "</table>\n",
       "</div>"
      ],
      "text/plain": [
       "      National_grid_Total  Mini_grid_Total  Total_reliability\n",
       "3290                  NaN              NaN                0.0\n",
       "3291                  3.0              NaN                3.0\n",
       "3292                  1.0              NaN                1.0\n",
       "3293                  2.0              NaN                2.0\n",
       "3294                  NaN              NaN                0.0"
      ]
     },
     "execution_count": 3152,
     "metadata": {},
     "output_type": "execute_result"
    }
   ],
   "source": [
    "df_rel_new.tail()"
   ]
  },
  {
   "cell_type": "code",
   "execution_count": 3153,
   "metadata": {
    "scrolled": true
   },
   "outputs": [],
   "source": [
    "df_rel_new=df_rel_new[['Total_reliability']]"
   ]
  },
  {
   "cell_type": "markdown",
   "metadata": {},
   "source": [
    "### Replacing NaN values with \"Missing_data\" \n",
    "\n",
    "This is done to keep the missing values into analysis (As it is important to know how many missing values do we have)"
   ]
  },
  {
   "cell_type": "code",
   "execution_count": 3154,
   "metadata": {},
   "outputs": [],
   "source": [
    "df_rel_new['Total_reliability'] = df_rel_new.replace(np.nan, 'Missing_data', regex=True)"
   ]
  },
  {
   "cell_type": "code",
   "execution_count": 3155,
   "metadata": {},
   "outputs": [
    {
     "data": {
      "text/html": [
       "<div>\n",
       "<style scoped>\n",
       "    .dataframe tbody tr th:only-of-type {\n",
       "        vertical-align: middle;\n",
       "    }\n",
       "\n",
       "    .dataframe tbody tr th {\n",
       "        vertical-align: top;\n",
       "    }\n",
       "\n",
       "    .dataframe thead th {\n",
       "        text-align: right;\n",
       "    }\n",
       "</style>\n",
       "<table border=\"1\" class=\"dataframe\">\n",
       "  <thead>\n",
       "    <tr style=\"text-align: right;\">\n",
       "      <th></th>\n",
       "      <th>Total_reliability</th>\n",
       "    </tr>\n",
       "  </thead>\n",
       "  <tbody>\n",
       "    <tr>\n",
       "      <th>3290</th>\n",
       "      <td>0.0</td>\n",
       "    </tr>\n",
       "    <tr>\n",
       "      <th>3291</th>\n",
       "      <td>3.0</td>\n",
       "    </tr>\n",
       "    <tr>\n",
       "      <th>3292</th>\n",
       "      <td>1.0</td>\n",
       "    </tr>\n",
       "    <tr>\n",
       "      <th>3293</th>\n",
       "      <td>2.0</td>\n",
       "    </tr>\n",
       "    <tr>\n",
       "      <th>3294</th>\n",
       "      <td>0.0</td>\n",
       "    </tr>\n",
       "  </tbody>\n",
       "</table>\n",
       "</div>"
      ],
      "text/plain": [
       "      Total_reliability\n",
       "3290                0.0\n",
       "3291                3.0\n",
       "3292                1.0\n",
       "3293                2.0\n",
       "3294                0.0"
      ]
     },
     "execution_count": 3155,
     "metadata": {},
     "output_type": "execute_result"
    }
   ],
   "source": [
    "df_rel_new.tail()"
   ]
  },
  {
   "cell_type": "markdown",
   "metadata": {},
   "source": [
    "### Adding column \"TIER\" to the dataset "
   ]
  },
  {
   "cell_type": "code",
   "execution_count": 3156,
   "metadata": {},
   "outputs": [],
   "source": [
    "# AVAILABILITY: Day\n",
    "#Note: conditions for TIER 3 and 4 are the same and for TIER 0,1 and 2 are the same\n",
    "\n",
    "def conditions(Total_reliability):\n",
    "    if Total_reliability == 'Missing_data':\n",
    "        return \"Missing_data\"\n",
    "    elif Total_reliability==0:\n",
    "        return \"Missing_data\"\n",
    "    elif 0<Total_reliability<=3:\n",
    "        return \"5\"\n",
    "    elif 3<Total_reliability<=14:\n",
    "        return \"3&4\"\n",
    "    else:\n",
    "        return \"0,1&2\"\n",
    "    \n",
    "func = np.vectorize(conditions)\n",
    "transform = func(df_rel_new.Total_reliability)\n",
    "df_rel_new[\"TIER\"] = transform"
   ]
  },
  {
   "cell_type": "code",
   "execution_count": 3157,
   "metadata": {},
   "outputs": [
    {
     "data": {
      "text/html": [
       "<div>\n",
       "<style scoped>\n",
       "    .dataframe tbody tr th:only-of-type {\n",
       "        vertical-align: middle;\n",
       "    }\n",
       "\n",
       "    .dataframe tbody tr th {\n",
       "        vertical-align: top;\n",
       "    }\n",
       "\n",
       "    .dataframe thead th {\n",
       "        text-align: right;\n",
       "    }\n",
       "</style>\n",
       "<table border=\"1\" class=\"dataframe\">\n",
       "  <thead>\n",
       "    <tr style=\"text-align: right;\">\n",
       "      <th></th>\n",
       "      <th>Total_reliability</th>\n",
       "      <th>TIER</th>\n",
       "    </tr>\n",
       "  </thead>\n",
       "  <tbody>\n",
       "    <tr>\n",
       "      <th>3290</th>\n",
       "      <td>0.0</td>\n",
       "      <td>Missing_data</td>\n",
       "    </tr>\n",
       "    <tr>\n",
       "      <th>3291</th>\n",
       "      <td>3.0</td>\n",
       "      <td>5</td>\n",
       "    </tr>\n",
       "    <tr>\n",
       "      <th>3292</th>\n",
       "      <td>1.0</td>\n",
       "      <td>5</td>\n",
       "    </tr>\n",
       "    <tr>\n",
       "      <th>3293</th>\n",
       "      <td>2.0</td>\n",
       "      <td>5</td>\n",
       "    </tr>\n",
       "    <tr>\n",
       "      <th>3294</th>\n",
       "      <td>0.0</td>\n",
       "      <td>Missing_data</td>\n",
       "    </tr>\n",
       "  </tbody>\n",
       "</table>\n",
       "</div>"
      ],
      "text/plain": [
       "      Total_reliability          TIER\n",
       "3290                0.0  Missing_data\n",
       "3291                3.0             5\n",
       "3292                1.0             5\n",
       "3293                2.0             5\n",
       "3294                0.0  Missing_data"
      ]
     },
     "execution_count": 3157,
     "metadata": {},
     "output_type": "execute_result"
    }
   ],
   "source": [
    "df_rel_new.tail()"
   ]
  },
  {
   "cell_type": "code",
   "execution_count": 3158,
   "metadata": {},
   "outputs": [
    {
     "data": {
      "text/plain": [
       "Missing_data    1967\n",
       "5               1202\n",
       "3&4              126\n",
       "Name: TIER, dtype: int64"
      ]
     },
     "execution_count": 3158,
     "metadata": {},
     "output_type": "execute_result"
    }
   ],
   "source": [
    "df_rel_new['TIER'].value_counts()"
   ]
  },
  {
   "cell_type": "markdown",
   "metadata": {},
   "source": [
    "### Visualizing the TIER levels "
   ]
  },
  {
   "cell_type": "code",
   "execution_count": 3159,
   "metadata": {
    "scrolled": false
   },
   "outputs": [
    {
     "data": {
      "text/plain": [
       "Text(0.5, 1.0, 'TIER levels based on reliability')"
      ]
     },
     "execution_count": 3159,
     "metadata": {},
     "output_type": "execute_result"
    },
    {
     "data": {
      "image/png": "[encoded data removed]",
      "text/plain": [
       "<Figure size 1296x432 with 2 Axes>"
      ]
     },
     "metadata": {},
     "output_type": "display_data"
    }
   ],
   "source": [
    "#Pie plot\n",
    "f,ax=plt.subplots(1,2, figsize=(18,6))\n",
    "df_rel_new['TIER'].value_counts().plot.pie( autopct='%1.0f%%',ax=ax[0])\n",
    "ax[0].set_title('TIER levels based on reliability')\n",
    "\n",
    "#Barplot\n",
    "sns.countplot('TIER',data=df_rel_new,ax=ax[1])\n",
    "ax[1].set_title('TIER levels based on reliability')"
   ]
  },
  {
   "cell_type": "markdown",
   "metadata": {},
   "source": [
    "In the above graph we can see:\n",
    "\n",
    "1. TIER 5 contributes to 36% of disruptions which is at most 3 disruptions per week with total duration of less than 2 hours\n",
    "2. TIER 3 & 4 contributes to 4% of disruptions which is at most 14 disruptions per week and more than 3 disruptions per week with total duration of more than 2 hours"
   ]
  },
  {
   "cell_type": "markdown",
   "metadata": {},
   "source": [
    "# Attribute: Quality\n",
    "\n",
    "Methodology:\n",
    "\n",
    "To understand the attribute more carefully, features from all the power sources have been taekn into consideration; \n",
    "\n",
    "* C39 represents the damaged appliances from the national grid. \n",
    "* C81 represents the damaged appliances from the mini grid.\n",
    "* C110 represents the damaged appliances from the generator set.\n",
    "* C140 represents the damaged appliances from the Pico-hydro."
   ]
  },
  {
   "cell_type": "code",
   "execution_count": 3160,
   "metadata": {},
   "outputs": [],
   "source": [
    "df_q= df[['C39','C81','C110','C140']]"
   ]
  },
  {
   "cell_type": "markdown",
   "metadata": {},
   "source": [
    "### Renaming the columns"
   ]
  },
  {
   "cell_type": "code",
   "execution_count": 3161,
   "metadata": {},
   "outputs": [],
   "source": [
    "df_q.columns = ['National_grid', 'Mini_grid','Generator_set','Pico_hydro']"
   ]
  },
  {
   "cell_type": "code",
   "execution_count": 3162,
   "metadata": {},
   "outputs": [
    {
     "data": {
      "text/html": [
       "<div>\n",
       "<style scoped>\n",
       "    .dataframe tbody tr th:only-of-type {\n",
       "        vertical-align: middle;\n",
       "    }\n",
       "\n",
       "    .dataframe tbody tr th {\n",
       "        vertical-align: top;\n",
       "    }\n",
       "\n",
       "    .dataframe thead th {\n",
       "        text-align: right;\n",
       "    }\n",
       "</style>\n",
       "<table border=\"1\" class=\"dataframe\">\n",
       "  <thead>\n",
       "    <tr style=\"text-align: right;\">\n",
       "      <th></th>\n",
       "      <th>National_grid</th>\n",
       "      <th>Mini_grid</th>\n",
       "      <th>Generator_set</th>\n",
       "      <th>Pico_hydro</th>\n",
       "    </tr>\n",
       "  </thead>\n",
       "  <tbody>\n",
       "    <tr>\n",
       "      <th>3290</th>\n",
       "      <td>NaN</td>\n",
       "      <td>NaN</td>\n",
       "      <td>NaN</td>\n",
       "      <td>NaN</td>\n",
       "    </tr>\n",
       "    <tr>\n",
       "      <th>3291</th>\n",
       "      <td>Yes</td>\n",
       "      <td>NaN</td>\n",
       "      <td>NaN</td>\n",
       "      <td>NaN</td>\n",
       "    </tr>\n",
       "    <tr>\n",
       "      <th>3292</th>\n",
       "      <td>No</td>\n",
       "      <td>NaN</td>\n",
       "      <td>NaN</td>\n",
       "      <td>NaN</td>\n",
       "    </tr>\n",
       "    <tr>\n",
       "      <th>3293</th>\n",
       "      <td>No</td>\n",
       "      <td>NaN</td>\n",
       "      <td>NaN</td>\n",
       "      <td>NaN</td>\n",
       "    </tr>\n",
       "    <tr>\n",
       "      <th>3294</th>\n",
       "      <td>NaN</td>\n",
       "      <td>NaN</td>\n",
       "      <td>NaN</td>\n",
       "      <td>NaN</td>\n",
       "    </tr>\n",
       "  </tbody>\n",
       "</table>\n",
       "</div>"
      ],
      "text/plain": [
       "     National_grid Mini_grid Generator_set Pico_hydro\n",
       "3290           NaN       NaN           NaN        NaN\n",
       "3291           Yes       NaN           NaN        NaN\n",
       "3292            No       NaN           NaN        NaN\n",
       "3293            No       NaN           NaN        NaN\n",
       "3294           NaN       NaN           NaN        NaN"
      ]
     },
     "execution_count": 3162,
     "metadata": {},
     "output_type": "execute_result"
    }
   ],
   "source": [
    "df_q.tail()"
   ]
  },
  {
   "cell_type": "code",
   "execution_count": 3163,
   "metadata": {
    "scrolled": true
   },
   "outputs": [
    {
     "name": "stdout",
     "output_type": "stream",
     "text": [
      "<class 'pandas.core.frame.DataFrame'>\n",
      "RangeIndex: 3295 entries, 0 to 3294\n",
      "Data columns (total 4 columns):\n",
      " #   Column         Non-Null Count  Dtype \n",
      "---  ------         --------------  ----- \n",
      " 0   National_grid  1591 non-null   object\n",
      " 1   Mini_grid      8 non-null      object\n",
      " 2   Generator_set  1 non-null      object\n",
      " 3   Pico_hydro     5 non-null      object\n",
      "dtypes: object(4)\n",
      "memory usage: 103.1+ KB\n"
     ]
    }
   ],
   "source": [
    "df_q.info()"
   ]
  },
  {
   "cell_type": "markdown",
   "metadata": {},
   "source": [
    "### Changing the string variables into float/int "
   ]
  },
  {
   "cell_type": "code",
   "execution_count": 3164,
   "metadata": {},
   "outputs": [],
   "source": [
    "df_q=df_q.replace(to_replace=\"Don?t know\",value='Missing_data')"
   ]
  },
  {
   "cell_type": "code",
   "execution_count": 3165,
   "metadata": {
    "scrolled": false
   },
   "outputs": [
    {
     "name": "stdout",
     "output_type": "stream",
     "text": [
      "<class 'pandas.core.frame.DataFrame'>\n",
      "RangeIndex: 3295 entries, 0 to 3294\n",
      "Data columns (total 4 columns):\n",
      " #   Column         Non-Null Count  Dtype \n",
      "---  ------         --------------  ----- \n",
      " 0   National_grid  1591 non-null   object\n",
      " 1   Mini_grid      8 non-null      object\n",
      " 2   Generator_set  1 non-null      object\n",
      " 3   Pico_hydro     5 non-null      object\n",
      "dtypes: object(4)\n",
      "memory usage: 103.1+ KB\n"
     ]
    }
   ],
   "source": [
    "df_q.info()"
   ]
  },
  {
   "cell_type": "markdown",
   "metadata": {},
   "source": [
    "### Replacing NaN values with \"Missing_data\" \n",
    "\n",
    "This is done to keep the missing values into analysis (As it is important to know how many missing values do we have)"
   ]
  },
  {
   "cell_type": "code",
   "execution_count": 3166,
   "metadata": {},
   "outputs": [],
   "source": [
    "df_q = df_q.replace(np.nan, 'Missing_data', regex=True)"
   ]
  },
  {
   "cell_type": "code",
   "execution_count": 3167,
   "metadata": {
    "scrolled": true
   },
   "outputs": [
    {
     "data": {
      "text/html": [
       "<div>\n",
       "<style scoped>\n",
       "    .dataframe tbody tr th:only-of-type {\n",
       "        vertical-align: middle;\n",
       "    }\n",
       "\n",
       "    .dataframe tbody tr th {\n",
       "        vertical-align: top;\n",
       "    }\n",
       "\n",
       "    .dataframe thead th {\n",
       "        text-align: right;\n",
       "    }\n",
       "</style>\n",
       "<table border=\"1\" class=\"dataframe\">\n",
       "  <thead>\n",
       "    <tr style=\"text-align: right;\">\n",
       "      <th></th>\n",
       "      <th>National_grid</th>\n",
       "      <th>Mini_grid</th>\n",
       "      <th>Generator_set</th>\n",
       "      <th>Pico_hydro</th>\n",
       "    </tr>\n",
       "  </thead>\n",
       "  <tbody>\n",
       "    <tr>\n",
       "      <th>3290</th>\n",
       "      <td>Missing_data</td>\n",
       "      <td>Missing_data</td>\n",
       "      <td>Missing_data</td>\n",
       "      <td>Missing_data</td>\n",
       "    </tr>\n",
       "    <tr>\n",
       "      <th>3291</th>\n",
       "      <td>Yes</td>\n",
       "      <td>Missing_data</td>\n",
       "      <td>Missing_data</td>\n",
       "      <td>Missing_data</td>\n",
       "    </tr>\n",
       "    <tr>\n",
       "      <th>3292</th>\n",
       "      <td>No</td>\n",
       "      <td>Missing_data</td>\n",
       "      <td>Missing_data</td>\n",
       "      <td>Missing_data</td>\n",
       "    </tr>\n",
       "    <tr>\n",
       "      <th>3293</th>\n",
       "      <td>No</td>\n",
       "      <td>Missing_data</td>\n",
       "      <td>Missing_data</td>\n",
       "      <td>Missing_data</td>\n",
       "    </tr>\n",
       "    <tr>\n",
       "      <th>3294</th>\n",
       "      <td>Missing_data</td>\n",
       "      <td>Missing_data</td>\n",
       "      <td>Missing_data</td>\n",
       "      <td>Missing_data</td>\n",
       "    </tr>\n",
       "  </tbody>\n",
       "</table>\n",
       "</div>"
      ],
      "text/plain": [
       "     National_grid     Mini_grid Generator_set    Pico_hydro\n",
       "3290  Missing_data  Missing_data  Missing_data  Missing_data\n",
       "3291           Yes  Missing_data  Missing_data  Missing_data\n",
       "3292            No  Missing_data  Missing_data  Missing_data\n",
       "3293            No  Missing_data  Missing_data  Missing_data\n",
       "3294  Missing_data  Missing_data  Missing_data  Missing_data"
      ]
     },
     "execution_count": 3167,
     "metadata": {},
     "output_type": "execute_result"
    }
   ],
   "source": [
    "df_q.tail()"
   ]
  },
  {
   "cell_type": "markdown",
   "metadata": {},
   "source": [
    "### Visualizing the TIER levels "
   ]
  },
  {
   "cell_type": "markdown",
   "metadata": {},
   "source": [
    "#### Products damaged by National grid"
   ]
  },
  {
   "cell_type": "code",
   "execution_count": 3180,
   "metadata": {},
   "outputs": [
    {
     "data": {
      "text/plain": [
       "Text(0.5, 1.0, 'TIER levels based on reliability')"
      ]
     },
     "execution_count": 3180,
     "metadata": {},
     "output_type": "execute_result"
    },
    {
     "data": {
      "image/png": "[encoded data removed]",
      "text/plain": [
       "<Figure size 1296x432 with 2 Axes>"
      ]
     },
     "metadata": {},
     "output_type": "display_data"
    }
   ],
   "source": [
    "#Pie plot\n",
    "f,ax=plt.subplots(1,2, figsize=(18,6))\n",
    "df_q['National_grid'].value_counts().plot.pie( autopct='%1.0f%%',ax=ax[0])\n",
    "ax[0].set_title('TIER levels based on reliability')\n",
    "\n",
    "#Barplot\n",
    "sns.countplot('National_grid',data=df_q,ax=ax[1])\n",
    "ax[1].set_title('TIER levels based on reliability')"
   ]
  },
  {
   "cell_type": "raw",
   "metadata": {},
   "source": [
    "In the above graph it can be seen that:\n",
    "\n",
    "1. The products damaged by national grid are 10% which comes in the TIER 0-3\n",
    "2. The products which are not damaged by national grid are 34% and it comes in the TIER 4-5.\n",
    "3. The data for the other power sources is not sufficient to visualize."
   ]
  },
  {
   "cell_type": "markdown",
   "metadata": {},
   "source": [
    "# Attribute: Affordability \n"
   ]
  },
  {
   "cell_type": "markdown",
   "metadata": {},
   "source": [
    "# Attribute: Formality\n",
    "\n",
    "Methodology:\n",
    "\n",
    "To understand the attribute more carefully, features from all the power sources have been taekn into consideration; \n",
    "\n",
    "* C17 represents the electricity bill payment for using the national grid. \n",
    "* C57 represents the electricity bill payment for using the mini grid."
   ]
  },
  {
   "cell_type": "code",
   "execution_count": 3184,
   "metadata": {},
   "outputs": [],
   "source": [
    "df_f= df[['C17','C57']]"
   ]
  },
  {
   "cell_type": "markdown",
   "metadata": {},
   "source": [
    "### Renaming the columns"
   ]
  },
  {
   "cell_type": "code",
   "execution_count": 3185,
   "metadata": {},
   "outputs": [],
   "source": [
    "df_f.columns = ['National_grid', 'Mini_grid']"
   ]
  },
  {
   "cell_type": "code",
   "execution_count": 3186,
   "metadata": {
    "scrolled": true
   },
   "outputs": [
    {
     "data": {
      "text/html": [
       "<div>\n",
       "<style scoped>\n",
       "    .dataframe tbody tr th:only-of-type {\n",
       "        vertical-align: middle;\n",
       "    }\n",
       "\n",
       "    .dataframe tbody tr th {\n",
       "        vertical-align: top;\n",
       "    }\n",
       "\n",
       "    .dataframe thead th {\n",
       "        text-align: right;\n",
       "    }\n",
       "</style>\n",
       "<table border=\"1\" class=\"dataframe\">\n",
       "  <thead>\n",
       "    <tr style=\"text-align: right;\">\n",
       "      <th></th>\n",
       "      <th>National_grid</th>\n",
       "      <th>Mini_grid</th>\n",
       "    </tr>\n",
       "  </thead>\n",
       "  <tbody>\n",
       "    <tr>\n",
       "      <th>0</th>\n",
       "      <td>Pay based on lights and appliances used</td>\n",
       "      <td>NaN</td>\n",
       "    </tr>\n",
       "    <tr>\n",
       "      <th>1</th>\n",
       "      <td>NaN</td>\n",
       "      <td>NaN</td>\n",
       "    </tr>\n",
       "    <tr>\n",
       "      <th>2</th>\n",
       "      <td>NaN</td>\n",
       "      <td>NaN</td>\n",
       "    </tr>\n",
       "    <tr>\n",
       "      <th>3</th>\n",
       "      <td>NaN</td>\n",
       "      <td>NaN</td>\n",
       "    </tr>\n",
       "    <tr>\n",
       "      <th>4</th>\n",
       "      <td>NaN</td>\n",
       "      <td>NaN</td>\n",
       "    </tr>\n",
       "  </tbody>\n",
       "</table>\n",
       "</div>"
      ],
      "text/plain": [
       "                             National_grid Mini_grid\n",
       "0  Pay based on lights and appliances used       NaN\n",
       "1                                      NaN       NaN\n",
       "2                                      NaN       NaN\n",
       "3                                      NaN       NaN\n",
       "4                                      NaN       NaN"
      ]
     },
     "execution_count": 3186,
     "metadata": {},
     "output_type": "execute_result"
    }
   ],
   "source": [
    "df_f.head()"
   ]
  },
  {
   "cell_type": "markdown",
   "metadata": {},
   "source": [
    "### Replacing NaN values with \"Missing_data\""
   ]
  },
  {
   "cell_type": "code",
   "execution_count": 3187,
   "metadata": {},
   "outputs": [],
   "source": [
    "df_f = df_f.replace(np.nan, 'Missing_data', regex=True)"
   ]
  },
  {
   "cell_type": "code",
   "execution_count": 3189,
   "metadata": {},
   "outputs": [
    {
     "data": {
      "text/plain": [
       "Missing_data                               1663\n",
       "Pre-paid                                   1400\n",
       "Fixed monthly fee                           109\n",
       "Pay based on lights and appliances used      41\n",
       "No bill for electricity                      32\n",
       "Other                                        24\n",
       "Monthly bill                                 14\n",
       "We never used electricity                    10\n",
       "Utility estimates consumption                 2\n",
       "Name: National_grid, dtype: int64"
      ]
     },
     "execution_count": 3189,
     "metadata": {},
     "output_type": "execute_result"
    }
   ],
   "source": [
    "df_f['National_grid'].value_counts()"
   ]
  },
  {
   "cell_type": "code",
   "execution_count": 3190,
   "metadata": {
    "scrolled": true
   },
   "outputs": [
    {
     "data": {
      "text/plain": [
       "Missing_data                               3289\n",
       "Fixed monthly fee                             2\n",
       "No bill for electricity                       2\n",
       "Pay based on lights and appliances used       1\n",
       "Other                                         1\n",
       "Name: Mini_grid, dtype: int64"
      ]
     },
     "execution_count": 3190,
     "metadata": {},
     "output_type": "execute_result"
    }
   ],
   "source": [
    "df_f['Mini_grid'].value_counts()"
   ]
  },
  {
   "cell_type": "markdown",
   "metadata": {},
   "source": [
    "### Focusing on National grid"
   ]
  },
  {
   "cell_type": "code",
   "execution_count": 3192,
   "metadata": {},
   "outputs": [],
   "source": [
    "def conditions(National_grid):\n",
    "    if National_grid == 'Missing_data':\n",
    "        return \"Missing_data\"\n",
    "    elif National_grid=='No bill for electricity' or National_grid=='We never used electricity':\n",
    "        return \"No bill paid for electricity\"\n",
    "    else:\n",
    "        return \"Bill paid for electricity\"\n",
    "    \n",
    "func = np.vectorize(conditions)\n",
    "transform = func(df_f.National_grid)\n",
    "df_f[\"TIER\"] = transform"
   ]
  },
  {
   "cell_type": "code",
   "execution_count": 3193,
   "metadata": {
    "scrolled": true
   },
   "outputs": [
    {
     "data": {
      "text/html": [
       "<div>\n",
       "<style scoped>\n",
       "    .dataframe tbody tr th:only-of-type {\n",
       "        vertical-align: middle;\n",
       "    }\n",
       "\n",
       "    .dataframe tbody tr th {\n",
       "        vertical-align: top;\n",
       "    }\n",
       "\n",
       "    .dataframe thead th {\n",
       "        text-align: right;\n",
       "    }\n",
       "</style>\n",
       "<table border=\"1\" class=\"dataframe\">\n",
       "  <thead>\n",
       "    <tr style=\"text-align: right;\">\n",
       "      <th></th>\n",
       "      <th>National_grid</th>\n",
       "      <th>Mini_grid</th>\n",
       "      <th>TIER</th>\n",
       "    </tr>\n",
       "  </thead>\n",
       "  <tbody>\n",
       "    <tr>\n",
       "      <th>0</th>\n",
       "      <td>Pay based on lights and appliances used</td>\n",
       "      <td>Missing_data</td>\n",
       "      <td>Bill paid for electricity</td>\n",
       "    </tr>\n",
       "    <tr>\n",
       "      <th>1</th>\n",
       "      <td>Missing_data</td>\n",
       "      <td>Missing_data</td>\n",
       "      <td>Missing_data</td>\n",
       "    </tr>\n",
       "    <tr>\n",
       "      <th>2</th>\n",
       "      <td>Missing_data</td>\n",
       "      <td>Missing_data</td>\n",
       "      <td>Missing_data</td>\n",
       "    </tr>\n",
       "    <tr>\n",
       "      <th>3</th>\n",
       "      <td>Missing_data</td>\n",
       "      <td>Missing_data</td>\n",
       "      <td>Missing_data</td>\n",
       "    </tr>\n",
       "    <tr>\n",
       "      <th>4</th>\n",
       "      <td>Missing_data</td>\n",
       "      <td>Missing_data</td>\n",
       "      <td>Missing_data</td>\n",
       "    </tr>\n",
       "  </tbody>\n",
       "</table>\n",
       "</div>"
      ],
      "text/plain": [
       "                             National_grid     Mini_grid  \\\n",
       "0  Pay based on lights and appliances used  Missing_data   \n",
       "1                             Missing_data  Missing_data   \n",
       "2                             Missing_data  Missing_data   \n",
       "3                             Missing_data  Missing_data   \n",
       "4                             Missing_data  Missing_data   \n",
       "\n",
       "                        TIER  \n",
       "0  Bill paid for electricity  \n",
       "1               Missing_data  \n",
       "2               Missing_data  \n",
       "3               Missing_data  \n",
       "4               Missing_data  "
      ]
     },
     "execution_count": 3193,
     "metadata": {},
     "output_type": "execute_result"
    }
   ],
   "source": [
    "df_f.head()"
   ]
  },
  {
   "cell_type": "markdown",
   "metadata": {},
   "source": [
    "### Visualizing the TIER levels "
   ]
  },
  {
   "cell_type": "code",
   "execution_count": 3195,
   "metadata": {},
   "outputs": [
    {
     "data": {
      "text/plain": [
       "Text(0.5, 1, 'TIER levels based on reliability')"
      ]
     },
     "execution_count": 3195,
     "metadata": {},
     "output_type": "execute_result"
    },
    {
     "data": {
      "image/png": "[encoded data removed]",
      "text/plain": [
       "<Figure size 1296x432 with 1 Axes>"
      ]
     },
     "metadata": {},
     "output_type": "display_data"
    }
   ],
   "source": [
    "df_f['TIER'].value_counts().plot.pie( autopct='%1.0f%%',figsize=(18,6))\n",
    "ax[0].set_title('TIER levels based on reliability')"
   ]
  },
  {
   "cell_type": "markdown",
   "metadata": {},
   "source": [
    "In the above graph we can see:\n",
    "\n",
    "1. Only 1% lies in TIER 0-3 for not paying the electricity bill\n",
    "2. 48% lies in TIER 4-5 for paying the electricity bill"
   ]
  },
  {
   "cell_type": "markdown",
   "metadata": {},
   "source": [
    "# Attribute: Health and Safety\n",
    "\n",
    "Methodology:\n",
    "\n",
    "To understand the attribute more carefully, features from all the power sources have been taekn into consideration; \n",
    "\n",
    "* C41 represents the accidents caused using the national grid. \n",
    "* C83 represents the accidents caused using the mini grid.\n",
    "* C112 represents the accidents caused using the generator set.\n",
    "* C130 represents the accidents caused using the battery.\n",
    "* C142 represents the accidents caused using the Pico-hydro.\n",
    "* C175 represents the accidents caused using the solar based devices."
   ]
  },
  {
   "cell_type": "code",
   "execution_count": 3196,
   "metadata": {},
   "outputs": [],
   "source": [
    "df_hs= df[['C41','C83','C112','C130','C142','C175']]"
   ]
  },
  {
   "cell_type": "code",
   "execution_count": 3197,
   "metadata": {},
   "outputs": [],
   "source": [
    "df_hs.columns = ['National_grid', 'Mini_grid','Generator_set','Battery','Pico_hydro','Solar_devices']"
   ]
  },
  {
   "cell_type": "code",
   "execution_count": 3198,
   "metadata": {},
   "outputs": [
    {
     "data": {
      "text/html": [
       "<div>\n",
       "<style scoped>\n",
       "    .dataframe tbody tr th:only-of-type {\n",
       "        vertical-align: middle;\n",
       "    }\n",
       "\n",
       "    .dataframe tbody tr th {\n",
       "        vertical-align: top;\n",
       "    }\n",
       "\n",
       "    .dataframe thead th {\n",
       "        text-align: right;\n",
       "    }\n",
       "</style>\n",
       "<table border=\"1\" class=\"dataframe\">\n",
       "  <thead>\n",
       "    <tr style=\"text-align: right;\">\n",
       "      <th></th>\n",
       "      <th>National_grid</th>\n",
       "      <th>Mini_grid</th>\n",
       "      <th>Generator_set</th>\n",
       "      <th>Battery</th>\n",
       "      <th>Pico_hydro</th>\n",
       "      <th>Solar_devices</th>\n",
       "    </tr>\n",
       "  </thead>\n",
       "  <tbody>\n",
       "    <tr>\n",
       "      <th>0</th>\n",
       "      <td>NaN</td>\n",
       "      <td>NaN</td>\n",
       "      <td>NaN</td>\n",
       "      <td>NaN</td>\n",
       "      <td>NaN</td>\n",
       "      <td>NaN</td>\n",
       "    </tr>\n",
       "    <tr>\n",
       "      <th>1</th>\n",
       "      <td>NaN</td>\n",
       "      <td>NaN</td>\n",
       "      <td>NaN</td>\n",
       "      <td>NaN</td>\n",
       "      <td>NaN</td>\n",
       "      <td>NaN</td>\n",
       "    </tr>\n",
       "    <tr>\n",
       "      <th>2</th>\n",
       "      <td>NaN</td>\n",
       "      <td>NaN</td>\n",
       "      <td>NaN</td>\n",
       "      <td>NaN</td>\n",
       "      <td>NaN</td>\n",
       "      <td>NaN</td>\n",
       "    </tr>\n",
       "    <tr>\n",
       "      <th>3</th>\n",
       "      <td>NaN</td>\n",
       "      <td>NaN</td>\n",
       "      <td>NaN</td>\n",
       "      <td>NaN</td>\n",
       "      <td>NaN</td>\n",
       "      <td>NaN</td>\n",
       "    </tr>\n",
       "    <tr>\n",
       "      <th>4</th>\n",
       "      <td>NaN</td>\n",
       "      <td>NaN</td>\n",
       "      <td>NaN</td>\n",
       "      <td>NaN</td>\n",
       "      <td>NaN</td>\n",
       "      <td>NaN</td>\n",
       "    </tr>\n",
       "  </tbody>\n",
       "</table>\n",
       "</div>"
      ],
      "text/plain": [
       "  National_grid Mini_grid Generator_set Battery Pico_hydro Solar_devices\n",
       "0           NaN       NaN           NaN     NaN        NaN           NaN\n",
       "1           NaN       NaN           NaN     NaN        NaN           NaN\n",
       "2           NaN       NaN           NaN     NaN        NaN           NaN\n",
       "3           NaN       NaN           NaN     NaN        NaN           NaN\n",
       "4           NaN       NaN           NaN     NaN        NaN           NaN"
      ]
     },
     "execution_count": 3198,
     "metadata": {},
     "output_type": "execute_result"
    }
   ],
   "source": [
    "df_hs.head()"
   ]
  },
  {
   "cell_type": "markdown",
   "metadata": {},
   "source": [
    "### Focusing on National grid"
   ]
  },
  {
   "cell_type": "code",
   "execution_count": 3208,
   "metadata": {},
   "outputs": [],
   "source": [
    "df_hs = df_hs.replace(np.nan, 'Missing_data', regex=True)"
   ]
  },
  {
   "cell_type": "code",
   "execution_count": 3209,
   "metadata": {},
   "outputs": [],
   "source": [
    "def conditions(National_grid):\n",
    "    if National_grid == 'Missing_data':\n",
    "        return \"Missing_data\"\n",
    "    elif National_grid=='Yes' :\n",
    "        return \"Serious accidents\"\n",
    "    else:\n",
    "        return \"No accidents\"\n",
    "    \n",
    "func = np.vectorize(conditions)\n",
    "transform = func(df_hs.National_grid)\n",
    "df_hs[\"TIER\"] = transform"
   ]
  },
  {
   "cell_type": "code",
   "execution_count": 3210,
   "metadata": {},
   "outputs": [
    {
     "data": {
      "text/html": [
       "<div>\n",
       "<style scoped>\n",
       "    .dataframe tbody tr th:only-of-type {\n",
       "        vertical-align: middle;\n",
       "    }\n",
       "\n",
       "    .dataframe tbody tr th {\n",
       "        vertical-align: top;\n",
       "    }\n",
       "\n",
       "    .dataframe thead th {\n",
       "        text-align: right;\n",
       "    }\n",
       "</style>\n",
       "<table border=\"1\" class=\"dataframe\">\n",
       "  <thead>\n",
       "    <tr style=\"text-align: right;\">\n",
       "      <th></th>\n",
       "      <th>National_grid</th>\n",
       "      <th>Mini_grid</th>\n",
       "      <th>Generator_set</th>\n",
       "      <th>Battery</th>\n",
       "      <th>Pico_hydro</th>\n",
       "      <th>Solar_devices</th>\n",
       "      <th>TIER</th>\n",
       "    </tr>\n",
       "  </thead>\n",
       "  <tbody>\n",
       "    <tr>\n",
       "      <th>0</th>\n",
       "      <td>Missing_data</td>\n",
       "      <td>Missing_data</td>\n",
       "      <td>Missing_data</td>\n",
       "      <td>Missing_data</td>\n",
       "      <td>Missing_data</td>\n",
       "      <td>Missing_data</td>\n",
       "      <td>Missing_data</td>\n",
       "    </tr>\n",
       "    <tr>\n",
       "      <th>1</th>\n",
       "      <td>Missing_data</td>\n",
       "      <td>Missing_data</td>\n",
       "      <td>Missing_data</td>\n",
       "      <td>Missing_data</td>\n",
       "      <td>Missing_data</td>\n",
       "      <td>Missing_data</td>\n",
       "      <td>Missing_data</td>\n",
       "    </tr>\n",
       "    <tr>\n",
       "      <th>2</th>\n",
       "      <td>Missing_data</td>\n",
       "      <td>Missing_data</td>\n",
       "      <td>Missing_data</td>\n",
       "      <td>Missing_data</td>\n",
       "      <td>Missing_data</td>\n",
       "      <td>Missing_data</td>\n",
       "      <td>Missing_data</td>\n",
       "    </tr>\n",
       "    <tr>\n",
       "      <th>3</th>\n",
       "      <td>Missing_data</td>\n",
       "      <td>Missing_data</td>\n",
       "      <td>Missing_data</td>\n",
       "      <td>Missing_data</td>\n",
       "      <td>Missing_data</td>\n",
       "      <td>Missing_data</td>\n",
       "      <td>Missing_data</td>\n",
       "    </tr>\n",
       "    <tr>\n",
       "      <th>4</th>\n",
       "      <td>Missing_data</td>\n",
       "      <td>Missing_data</td>\n",
       "      <td>Missing_data</td>\n",
       "      <td>Missing_data</td>\n",
       "      <td>Missing_data</td>\n",
       "      <td>Missing_data</td>\n",
       "      <td>Missing_data</td>\n",
       "    </tr>\n",
       "  </tbody>\n",
       "</table>\n",
       "</div>"
      ],
      "text/plain": [
       "  National_grid     Mini_grid Generator_set       Battery    Pico_hydro  \\\n",
       "0  Missing_data  Missing_data  Missing_data  Missing_data  Missing_data   \n",
       "1  Missing_data  Missing_data  Missing_data  Missing_data  Missing_data   \n",
       "2  Missing_data  Missing_data  Missing_data  Missing_data  Missing_data   \n",
       "3  Missing_data  Missing_data  Missing_data  Missing_data  Missing_data   \n",
       "4  Missing_data  Missing_data  Missing_data  Missing_data  Missing_data   \n",
       "\n",
       "  Solar_devices          TIER  \n",
       "0  Missing_data  Missing_data  \n",
       "1  Missing_data  Missing_data  \n",
       "2  Missing_data  Missing_data  \n",
       "3  Missing_data  Missing_data  \n",
       "4  Missing_data  Missing_data  "
      ]
     },
     "execution_count": 3210,
     "metadata": {},
     "output_type": "execute_result"
    }
   ],
   "source": [
    "df_hs.head()"
   ]
  },
  {
   "cell_type": "markdown",
   "metadata": {},
   "source": [
    "### Visualizing the TIER levels "
   ]
  },
  {
   "cell_type": "code",
   "execution_count": 3211,
   "metadata": {},
   "outputs": [
    {
     "data": {
      "text/plain": [
       "Text(0.5, 1, 'TIER levels based on reliability')"
      ]
     },
     "execution_count": 3211,
     "metadata": {},
     "output_type": "execute_result"
    },
    {
     "data": {
      "image/png": "[encoded data removed]",
      "text/plain": [
       "<Figure size 1296x432 with 1 Axes>"
      ]
     },
     "metadata": {},
     "output_type": "display_data"
    }
   ],
   "source": [
    "df_hs['TIER'].value_counts().plot.pie( autopct='%1.0f%%',figsize=(18,6))\n",
    "ax[0].set_title('TIER levels based on reliability')"
   ]
  },
  {
   "cell_type": "markdown",
   "metadata": {},
   "source": [
    "In the above graph it can be seen that there are hardly any accidents caused by using electricity from the national grid."
   ]
  },
  {
   "cell_type": "code",
   "execution_count": null,
   "metadata": {},
   "outputs": [],
   "source": []
  }
 ],
 "metadata": {
  "kernelspec": {
   "display_name": "Python 3",
   "language": "python",
   "name": "python3"
  },
  "language_info": {
   "codemirror_mode": {
    "name": "ipython",
    "version": 3
   },
   "file_extension": ".py",
   "mimetype": "text/x-python",
   "name": "python",
   "nbconvert_exporter": "python",
   "pygments_lexer": "ipython3",
   "version": "3.7.6"
  },
  "toc": {
   "base_numbering": 1,
   "nav_menu": {
    "height": "486px",
    "width": "905px"
   },
   "number_sections": true,
   "sideBar": true,
   "skip_h1_title": false,
   "title_cell": "Table of Contents",
   "title_sidebar": "Contents",
   "toc_cell": false,
   "toc_position": {},
   "toc_section_display": true,
   "toc_window_display": true
  }
 },
 "nbformat": 4,
 "nbformat_minor": 4
}
